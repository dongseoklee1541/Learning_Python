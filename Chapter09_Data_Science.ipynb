{
  "nbformat": 4,
  "nbformat_minor": 0,
  "metadata": {
    "colab": {
      "name": "Chapter09_Data Science.ipynb",
      "provenance": [],
      "collapsed_sections": []
    },
    "kernelspec": {
      "name": "python3",
      "display_name": "Python 3"
    }
  },
  "cells": [
    {
      "cell_type": "code",
      "metadata": {
        "id": "z7necvzZsXpE",
        "colab_type": "code",
        "colab": {}
      },
      "source": [
        "import json\n",
        "import calendar\n",
        "import random\n",
        "from datetime import date, timedelta\n",
        "\n",
        "import faker\n",
        "import numpy as np\n",
        "from pandas import DataFrame\n",
        "from delorean import parse\n",
        "import pandas as pd\n",
        "# make the graphs nicer\n",
        "import matplotlib.pyplot as plt\n",
        "plt.style.use('ggplot')\n",
        "#pd.set_option('display.mpl_style', 'default')"
      ],
      "execution_count": 0,
      "outputs": []
    },
    {
      "cell_type": "code",
      "metadata": {
        "id": "s3H9TugYVUVS",
        "colab_type": "code",
        "colab": {}
      },
      "source": [
        "fake = faker.Faker()"
      ],
      "execution_count": 0,
      "outputs": []
    },
    {
      "cell_type": "code",
      "metadata": {
        "id": "W4SZafmtU7jh",
        "colab_type": "code",
        "colab": {}
      },
      "source": [
        "usernames = set() # set 형이므로 중복값 허용 안함\n",
        "usernames_no = 1000\n",
        "# populate the set with 1000 unique usernames\n",
        "while len(usernames) < usernames_no:\n",
        "  usernames.add(fake.user_name())\n"
      ],
      "execution_count": 0,
      "outputs": []
    },
    {
      "cell_type": "code",
      "metadata": {
        "id": "u5UfLnyCWBPc",
        "colab_type": "code",
        "colab": {}
      },
      "source": [
        "def get_random_name_and_gender():\n",
        "  skew = .6 # 60% of users will be female\n",
        "  male = random.random() > skew\n",
        "  if male:\n",
        "    return fake.name_male(), 'M'\n",
        "  else:\n",
        "    return fake.name_female(), 'F'"
      ],
      "execution_count": 0,
      "outputs": []
    },
    {
      "cell_type": "code",
      "metadata": {
        "id": "tsWFQiPKV2eB",
        "colab_type": "code",
        "colab": {
          "base_uri": "https://localhost:8080/",
          "height": 92
        },
        "outputId": "3dcf9d13-4d66-4ac2-8984-31d7ef7ff207"
      },
      "source": [
        "def get_users(usernames):\n",
        "  users = []\n",
        "  for username in usernames:\n",
        "    name, gender = get_random_name_and_gender()\n",
        "    user = {\n",
        "        'username' : username,\n",
        "        'name' : name,\n",
        "        'gender' : gender,\n",
        "        'email' : fake.email(),\n",
        "        'age' : fake.random_int(min=18, max=90),\n",
        "        'address' : fake.address(),\n",
        "    }\n",
        "    users.append(json.dumps(user))\n",
        "  return users\n",
        "\n",
        "users = get_users(usernames)\n",
        "users[:3]"
      ],
      "execution_count": 16,
      "outputs": [
        {
          "output_type": "execute_result",
          "data": {
            "text/plain": [
              "['{\"username\": \"roger08\", \"name\": \"Mark Miller\", \"gender\": \"M\", \"email\": \"smartinez@carrillo-garcia.info\", \"age\": 82, \"address\": \"1641 Krueger Place Suite 307\\\\nLake Kelsey, RI 13165\"}',\n",
              " '{\"username\": \"tracey97\", \"name\": \"Mark Vasquez\", \"gender\": \"M\", \"email\": \"christinawhite@hotmail.com\", \"age\": 52, \"address\": \"8595 Baker Islands\\\\nKellyville, OR 46940\"}',\n",
              " '{\"username\": \"brian27\", \"name\": \"John Santos\", \"gender\": \"M\", \"email\": \"chavezthomas@perry-mooney.com\", \"age\": 27, \"address\": \"Unit 8407 Box 1152\\\\nDPO AA 61846\"}']"
            ]
          },
          "metadata": {
            "tags": []
          },
          "execution_count": 16
        }
      ]
    },
    {
      "cell_type": "code",
      "metadata": {
        "id": "tOsMFWXnX2pm",
        "colab_type": "code",
        "colab": {}
      },
      "source": [
        "# campaign name format:\n",
        "# InternalType_StartDate_EndDate_TargetAge_TargetGender_Currency\n",
        "\n",
        "def get_type():\n",
        "  # just some gibberish internal codes\n",
        "  types = ['AKX','BYU','GRZ','KTR']\n",
        "  return random.choice(types)\n",
        "\n",
        "def get_start_end_dates():\n",
        "  duration = random.randint(1, 2 * 365)\n",
        "  offset = random.randint(-365,365)\n",
        "  start = date.today() - timedelta(days=offset) # 시작일\n",
        "  end = start  + timedelta(days= duration) # 종료일\n",
        "\n",
        "  def _format_date(date_):\n",
        "    return date_.strftime(\"%Y%m%d\")\n",
        "\n",
        "  return _format_date(start), _format_date(end)\n",
        "\n",
        "def get_age(): # 목표 연령 설정\n",
        "  age = random.randint(20,45)\n",
        "  age -= age % 5 # 28 - (28 % 5 = 3) = 25\n",
        "  diff = random.randint(5,25)\n",
        "  diff -= diff % 5\n",
        "  return '{}-{}'.format(age,age + diff)\n",
        "\n",
        "def get_gender():\n",
        "  return random.choice(('M','F','B'))\n",
        "\n",
        "def get_currency():\n",
        "  return random.choice(('GBP','EUR','USD'))\n",
        "\n",
        "def get_campaign_name():\n",
        "  separator = '_'\n",
        "  type_ = get_type()\n",
        "  start_end = separator.join(get_start_end_dates())\n",
        "  age = get_age()\n",
        "  gender = get_gender()\n",
        "  currency = get_currency()\n",
        "  return separator.join(\n",
        "      (type_, start_end, age, gender, currency))\n",
        "  \n"
      ],
      "execution_count": 0,
      "outputs": []
    },
    {
      "cell_type": "code",
      "metadata": {
        "id": "1ON_kbHKV16g",
        "colab_type": "code",
        "colab": {}
      },
      "source": [
        "def get_campaign_data():\n",
        "  name = get_campaign_name()\n",
        "  # random.randint : random integrer between two extremes.\n",
        "  budget = random.randint(10**3, 10**6)\n",
        "  spent = random.randint(10**2, budget) \n",
        "  clicks = int(random.triangular(10**2, 10**5, 0.2 * 10**5))\n",
        "  impressions = int(random.gauss(0.5 * 10**6, 2))\n",
        "  return{\n",
        "      'cmp_name' : name,\n",
        "      'cmp_bgt' : budget,\n",
        "      'cmp_spent' : spent,\n",
        "      'cmp_clicks' : clicks,\n",
        "      'cmp_impr' : impressions\n",
        "  }"
      ],
      "execution_count": 0,
      "outputs": []
    },
    {
      "cell_type": "code",
      "metadata": {
        "id": "qjt4hJbBgH_k",
        "colab_type": "code",
        "colab": {}
      },
      "source": [
        "def get_data(users):\n",
        "  data = []\n",
        "  for user in users:\n",
        "    campaigns = [get_campaign_data() for _ in range(random.randint(2,8))]\n",
        "    data.append({'user': user, 'campaigns': campaigns})\n",
        "  return data"
      ],
      "execution_count": 0,
      "outputs": []
    },
    {
      "cell_type": "code",
      "metadata": {
        "id": "J8GM4NDJgu3l",
        "colab_type": "code",
        "colab": {
          "base_uri": "https://localhost:8080/",
          "height": 898
        },
        "outputId": "0db8c457-6b52-4ee0-eafc-67a1f222a841"
      },
      "source": [
        "rough_data = get_data(users)\n",
        "rough_data[:2]"
      ],
      "execution_count": 85,
      "outputs": [
        {
          "output_type": "execute_result",
          "data": {
            "text/plain": [
              "[{'campaigns': [{'cmp_bgt': 727044,\n",
              "    'cmp_clicks': 11080,\n",
              "    'cmp_impr': 500002,\n",
              "    'cmp_name': 'GRZ_20190427_20200501_25-50_M_GBP',\n",
              "    'cmp_spent': 644818},\n",
              "   {'cmp_bgt': 387583,\n",
              "    'cmp_clicks': 32765,\n",
              "    'cmp_impr': 500001,\n",
              "    'cmp_name': 'BYU_20200312_20220302_25-40_F_EUR',\n",
              "    'cmp_spent': 375996},\n",
              "   {'cmp_bgt': 997528,\n",
              "    'cmp_clicks': 18635,\n",
              "    'cmp_impr': 500000,\n",
              "    'cmp_name': 'BYU_20190623_20200528_40-55_M_EUR',\n",
              "    'cmp_spent': 919108},\n",
              "   {'cmp_bgt': 297319,\n",
              "    'cmp_clicks': 33799,\n",
              "    'cmp_impr': 499998,\n",
              "    'cmp_name': 'KTR_20200225_20200609_30-40_F_EUR',\n",
              "    'cmp_spent': 4097},\n",
              "   {'cmp_bgt': 50565,\n",
              "    'cmp_clicks': 27540,\n",
              "    'cmp_impr': 500000,\n",
              "    'cmp_name': 'BYU_20200606_20201214_25-45_M_GBP',\n",
              "    'cmp_spent': 30031}],\n",
              "  'user': '{\"username\": \"roger08\", \"name\": \"Mark Miller\", \"gender\": \"M\", \"email\": \"smartinez@carrillo-garcia.info\", \"age\": 82, \"address\": \"1641 Krueger Place Suite 307\\\\nLake Kelsey, RI 13165\"}'},\n",
              " {'campaigns': [{'cmp_bgt': 345823,\n",
              "    'cmp_clicks': 16008,\n",
              "    'cmp_impr': 500002,\n",
              "    'cmp_name': 'AKX_20190223_20190714_45-60_B_GBP',\n",
              "    'cmp_spent': 106985},\n",
              "   {'cmp_bgt': 174935,\n",
              "    'cmp_clicks': 44629,\n",
              "    'cmp_impr': 500001,\n",
              "    'cmp_name': 'BYU_20201005_20220227_40-55_F_EUR',\n",
              "    'cmp_spent': 104072},\n",
              "   {'cmp_bgt': 838095,\n",
              "    'cmp_clicks': 39146,\n",
              "    'cmp_impr': 500002,\n",
              "    'cmp_name': 'GRZ_20190104_20200128_20-30_B_GBP',\n",
              "    'cmp_spent': 343588},\n",
              "   {'cmp_bgt': 723105,\n",
              "    'cmp_clicks': 55208,\n",
              "    'cmp_impr': 499998,\n",
              "    'cmp_name': 'GRZ_20190422_20191109_25-45_F_USD',\n",
              "    'cmp_spent': 307113}],\n",
              "  'user': '{\"username\": \"tracey97\", \"name\": \"Mark Vasquez\", \"gender\": \"M\", \"email\": \"christinawhite@hotmail.com\", \"age\": 52, \"address\": \"8595 Baker Islands\\\\nKellyville, OR 46940\"}'}]"
            ]
          },
          "metadata": {
            "tags": []
          },
          "execution_count": 85
        }
      ]
    },
    {
      "cell_type": "code",
      "metadata": {
        "id": "VyNpp5NkiaLg",
        "colab_type": "code",
        "colab": {
          "base_uri": "https://localhost:8080/",
          "height": 257
        },
        "outputId": "8f36c1bf-466d-43b6-d5d1-5fa2c1a327e4"
      },
      "source": [
        "data = []\n",
        "for datum in rough_data:\n",
        "  for campaign in datum['campaigns']:\n",
        "    campaign.update({'user':datum['user']})\n",
        "    data.append(campaign)\n",
        "    \n",
        "data[:2] #let's take another peek\n"
      ],
      "execution_count": 86,
      "outputs": [
        {
          "output_type": "execute_result",
          "data": {
            "text/plain": [
              "[{'cmp_bgt': 727044,\n",
              "  'cmp_clicks': 11080,\n",
              "  'cmp_impr': 500002,\n",
              "  'cmp_name': 'GRZ_20190427_20200501_25-50_M_GBP',\n",
              "  'cmp_spent': 644818,\n",
              "  'user': '{\"username\": \"roger08\", \"name\": \"Mark Miller\", \"gender\": \"M\", \"email\": \"smartinez@carrillo-garcia.info\", \"age\": 82, \"address\": \"1641 Krueger Place Suite 307\\\\nLake Kelsey, RI 13165\"}'},\n",
              " {'cmp_bgt': 387583,\n",
              "  'cmp_clicks': 32765,\n",
              "  'cmp_impr': 500001,\n",
              "  'cmp_name': 'BYU_20200312_20220302_25-40_F_EUR',\n",
              "  'cmp_spent': 375996,\n",
              "  'user': '{\"username\": \"roger08\", \"name\": \"Mark Miller\", \"gender\": \"M\", \"email\": \"smartinez@carrillo-garcia.info\", \"age\": 82, \"address\": \"1641 Krueger Place Suite 307\\\\nLake Kelsey, RI 13165\"}'}]"
            ]
          },
          "metadata": {
            "tags": []
          },
          "execution_count": 86
        }
      ]
    },
    {
      "cell_type": "code",
      "metadata": {
        "id": "hTmtiLdUhJmj",
        "colab_type": "code",
        "colab": {
          "base_uri": "https://localhost:8080/",
          "height": 572
        },
        "outputId": "563c3f75-48ee-4b84-8e07-e7ae5a1469c3"
      },
      "source": [
        "df = DataFrame(data)\n",
        "df.head()"
      ],
      "execution_count": 87,
      "outputs": [
        {
          "output_type": "execute_result",
          "data": {
            "text/html": [
              "<div>\n",
              "<style scoped>\n",
              "    .dataframe tbody tr th:only-of-type {\n",
              "        vertical-align: middle;\n",
              "    }\n",
              "\n",
              "    .dataframe tbody tr th {\n",
              "        vertical-align: top;\n",
              "    }\n",
              "\n",
              "    .dataframe thead th {\n",
              "        text-align: right;\n",
              "    }\n",
              "</style>\n",
              "<table border=\"1\" class=\"dataframe\">\n",
              "  <thead>\n",
              "    <tr style=\"text-align: right;\">\n",
              "      <th></th>\n",
              "      <th>cmp_name</th>\n",
              "      <th>cmp_bgt</th>\n",
              "      <th>cmp_spent</th>\n",
              "      <th>cmp_clicks</th>\n",
              "      <th>cmp_impr</th>\n",
              "      <th>user</th>\n",
              "    </tr>\n",
              "  </thead>\n",
              "  <tbody>\n",
              "    <tr>\n",
              "      <th>0</th>\n",
              "      <td>GRZ_20190427_20200501_25-50_M_GBP</td>\n",
              "      <td>727044</td>\n",
              "      <td>644818</td>\n",
              "      <td>11080</td>\n",
              "      <td>500002</td>\n",
              "      <td>{\"username\": \"roger08\", \"name\": \"Mark Miller\",...</td>\n",
              "    </tr>\n",
              "    <tr>\n",
              "      <th>1</th>\n",
              "      <td>BYU_20200312_20220302_25-40_F_EUR</td>\n",
              "      <td>387583</td>\n",
              "      <td>375996</td>\n",
              "      <td>32765</td>\n",
              "      <td>500001</td>\n",
              "      <td>{\"username\": \"roger08\", \"name\": \"Mark Miller\",...</td>\n",
              "    </tr>\n",
              "    <tr>\n",
              "      <th>2</th>\n",
              "      <td>BYU_20190623_20200528_40-55_M_EUR</td>\n",
              "      <td>997528</td>\n",
              "      <td>919108</td>\n",
              "      <td>18635</td>\n",
              "      <td>500000</td>\n",
              "      <td>{\"username\": \"roger08\", \"name\": \"Mark Miller\",...</td>\n",
              "    </tr>\n",
              "    <tr>\n",
              "      <th>3</th>\n",
              "      <td>KTR_20200225_20200609_30-40_F_EUR</td>\n",
              "      <td>297319</td>\n",
              "      <td>4097</td>\n",
              "      <td>33799</td>\n",
              "      <td>499998</td>\n",
              "      <td>{\"username\": \"roger08\", \"name\": \"Mark Miller\",...</td>\n",
              "    </tr>\n",
              "    <tr>\n",
              "      <th>4</th>\n",
              "      <td>BYU_20200606_20201214_25-45_M_GBP</td>\n",
              "      <td>50565</td>\n",
              "      <td>30031</td>\n",
              "      <td>27540</td>\n",
              "      <td>500000</td>\n",
              "      <td>{\"username\": \"roger08\", \"name\": \"Mark Miller\",...</td>\n",
              "    </tr>\n",
              "  </tbody>\n",
              "</table>\n",
              "</div>"
            ],
            "text/plain": [
              "                            cmp_name  ...                                               user\n",
              "0  GRZ_20190427_20200501_25-50_M_GBP  ...  {\"username\": \"roger08\", \"name\": \"Mark Miller\",...\n",
              "1  BYU_20200312_20220302_25-40_F_EUR  ...  {\"username\": \"roger08\", \"name\": \"Mark Miller\",...\n",
              "2  BYU_20190623_20200528_40-55_M_EUR  ...  {\"username\": \"roger08\", \"name\": \"Mark Miller\",...\n",
              "3  KTR_20200225_20200609_30-40_F_EUR  ...  {\"username\": \"roger08\", \"name\": \"Mark Miller\",...\n",
              "4  BYU_20200606_20201214_25-45_M_GBP  ...  {\"username\": \"roger08\", \"name\": \"Mark Miller\",...\n",
              "\n",
              "[5 rows x 6 columns]"
            ]
          },
          "metadata": {
            "tags": []
          },
          "execution_count": 87
        }
      ]
    },
    {
      "cell_type": "code",
      "metadata": {
        "id": "cOopr4Mwkims",
        "colab_type": "code",
        "colab": {
          "base_uri": "https://localhost:8080/",
          "height": 145
        },
        "outputId": "2832e5a3-599b-4cf7-e87c-f17ea78c7a2b"
      },
      "source": [
        "df.count()"
      ],
      "execution_count": 88,
      "outputs": [
        {
          "output_type": "execute_result",
          "data": {
            "text/plain": [
              "cmp_name      5001\n",
              "cmp_bgt       5001\n",
              "cmp_spent     5001\n",
              "cmp_clicks    5001\n",
              "cmp_impr      5001\n",
              "user          5001\n",
              "dtype: int64"
            ]
          },
          "metadata": {
            "tags": []
          },
          "execution_count": 88
        }
      ]
    },
    {
      "cell_type": "code",
      "metadata": {
        "id": "NWOIQ_JulJB1",
        "colab_type": "code",
        "colab": {
          "base_uri": "https://localhost:8080/",
          "height": 300
        },
        "outputId": "030e14d8-5205-42a2-cc2b-cdf2972685c8"
      },
      "source": [
        "df.describe()"
      ],
      "execution_count": 89,
      "outputs": [
        {
          "output_type": "execute_result",
          "data": {
            "text/html": [
              "<div>\n",
              "<style scoped>\n",
              "    .dataframe tbody tr th:only-of-type {\n",
              "        vertical-align: middle;\n",
              "    }\n",
              "\n",
              "    .dataframe tbody tr th {\n",
              "        vertical-align: top;\n",
              "    }\n",
              "\n",
              "    .dataframe thead th {\n",
              "        text-align: right;\n",
              "    }\n",
              "</style>\n",
              "<table border=\"1\" class=\"dataframe\">\n",
              "  <thead>\n",
              "    <tr style=\"text-align: right;\">\n",
              "      <th></th>\n",
              "      <th>cmp_bgt</th>\n",
              "      <th>cmp_spent</th>\n",
              "      <th>cmp_clicks</th>\n",
              "      <th>cmp_impr</th>\n",
              "    </tr>\n",
              "  </thead>\n",
              "  <tbody>\n",
              "    <tr>\n",
              "      <th>count</th>\n",
              "      <td>5001.000000</td>\n",
              "      <td>5001.000000</td>\n",
              "      <td>5001.000000</td>\n",
              "      <td>5001.000000</td>\n",
              "    </tr>\n",
              "    <tr>\n",
              "      <th>mean</th>\n",
              "      <td>498275.613877</td>\n",
              "      <td>248344.566687</td>\n",
              "      <td>40068.736053</td>\n",
              "      <td>499999.477504</td>\n",
              "    </tr>\n",
              "    <tr>\n",
              "      <th>std</th>\n",
              "      <td>286631.283066</td>\n",
              "      <td>219918.331792</td>\n",
              "      <td>21758.944816</td>\n",
              "      <td>2.025326</td>\n",
              "    </tr>\n",
              "    <tr>\n",
              "      <th>min</th>\n",
              "      <td>1155.000000</td>\n",
              "      <td>126.000000</td>\n",
              "      <td>948.000000</td>\n",
              "      <td>499993.000000</td>\n",
              "    </tr>\n",
              "    <tr>\n",
              "      <th>25%</th>\n",
              "      <td>252754.000000</td>\n",
              "      <td>66182.000000</td>\n",
              "      <td>22104.000000</td>\n",
              "      <td>499998.000000</td>\n",
              "    </tr>\n",
              "    <tr>\n",
              "      <th>50%</th>\n",
              "      <td>498573.000000</td>\n",
              "      <td>184528.000000</td>\n",
              "      <td>37014.000000</td>\n",
              "      <td>499999.000000</td>\n",
              "    </tr>\n",
              "    <tr>\n",
              "      <th>75%</th>\n",
              "      <td>745714.000000</td>\n",
              "      <td>379968.000000</td>\n",
              "      <td>55265.000000</td>\n",
              "      <td>500001.000000</td>\n",
              "    </tr>\n",
              "    <tr>\n",
              "      <th>max</th>\n",
              "      <td>999978.000000</td>\n",
              "      <td>983630.000000</td>\n",
              "      <td>99335.000000</td>\n",
              "      <td>500007.000000</td>\n",
              "    </tr>\n",
              "  </tbody>\n",
              "</table>\n",
              "</div>"
            ],
            "text/plain": [
              "             cmp_bgt      cmp_spent    cmp_clicks       cmp_impr\n",
              "count    5001.000000    5001.000000   5001.000000    5001.000000\n",
              "mean   498275.613877  248344.566687  40068.736053  499999.477504\n",
              "std    286631.283066  219918.331792  21758.944816       2.025326\n",
              "min      1155.000000     126.000000    948.000000  499993.000000\n",
              "25%    252754.000000   66182.000000  22104.000000  499998.000000\n",
              "50%    498573.000000  184528.000000  37014.000000  499999.000000\n",
              "75%    745714.000000  379968.000000  55265.000000  500001.000000\n",
              "max    999978.000000  983630.000000  99335.000000  500007.000000"
            ]
          },
          "metadata": {
            "tags": []
          },
          "execution_count": 89
        }
      ]
    },
    {
      "cell_type": "code",
      "metadata": {
        "id": "HW4oEntvmYN9",
        "colab_type": "code",
        "colab": {
          "base_uri": "https://localhost:8080/",
          "height": 302
        },
        "outputId": "c4499829-6a99-4260-a140-454451de5de7"
      },
      "source": [
        "df.sort_values(by=['cmp_bgt'], ascending=False).head(3)"
      ],
      "execution_count": 90,
      "outputs": [
        {
          "output_type": "execute_result",
          "data": {
            "text/html": [
              "<div>\n",
              "<style scoped>\n",
              "    .dataframe tbody tr th:only-of-type {\n",
              "        vertical-align: middle;\n",
              "    }\n",
              "\n",
              "    .dataframe tbody tr th {\n",
              "        vertical-align: top;\n",
              "    }\n",
              "\n",
              "    .dataframe thead th {\n",
              "        text-align: right;\n",
              "    }\n",
              "</style>\n",
              "<table border=\"1\" class=\"dataframe\">\n",
              "  <thead>\n",
              "    <tr style=\"text-align: right;\">\n",
              "      <th></th>\n",
              "      <th>cmp_name</th>\n",
              "      <th>cmp_bgt</th>\n",
              "      <th>cmp_spent</th>\n",
              "      <th>cmp_clicks</th>\n",
              "      <th>cmp_impr</th>\n",
              "      <th>user</th>\n",
              "    </tr>\n",
              "  </thead>\n",
              "  <tbody>\n",
              "    <tr>\n",
              "      <th>4747</th>\n",
              "      <td>BYU_20190710_20200717_35-45_B_GBP</td>\n",
              "      <td>999978</td>\n",
              "      <td>161697</td>\n",
              "      <td>22748</td>\n",
              "      <td>499999</td>\n",
              "      <td>{\"username\": \"jon97\", \"name\": \"Jamie Robinson\"...</td>\n",
              "    </tr>\n",
              "    <tr>\n",
              "      <th>1002</th>\n",
              "      <td>GRZ_20201011_20220311_40-45_B_EUR</td>\n",
              "      <td>999856</td>\n",
              "      <td>270552</td>\n",
              "      <td>33993</td>\n",
              "      <td>500001</td>\n",
              "      <td>{\"username\": \"williampadilla\", \"name\": \"Janet ...</td>\n",
              "    </tr>\n",
              "    <tr>\n",
              "      <th>3298</th>\n",
              "      <td>AKX_20200429_20201108_30-40_M_USD</td>\n",
              "      <td>999615</td>\n",
              "      <td>239054</td>\n",
              "      <td>21074</td>\n",
              "      <td>500000</td>\n",
              "      <td>{\"username\": \"vincentoconnor\", \"name\": \"Samuel...</td>\n",
              "    </tr>\n",
              "  </tbody>\n",
              "</table>\n",
              "</div>"
            ],
            "text/plain": [
              "                               cmp_name  ...                                               user\n",
              "4747  BYU_20190710_20200717_35-45_B_GBP  ...  {\"username\": \"jon97\", \"name\": \"Jamie Robinson\"...\n",
              "1002  GRZ_20201011_20220311_40-45_B_EUR  ...  {\"username\": \"williampadilla\", \"name\": \"Janet ...\n",
              "3298  AKX_20200429_20201108_30-40_M_USD  ...  {\"username\": \"vincentoconnor\", \"name\": \"Samuel...\n",
              "\n",
              "[3 rows x 6 columns]"
            ]
          },
          "metadata": {
            "tags": []
          },
          "execution_count": 90
        }
      ]
    },
    {
      "cell_type": "markdown",
      "metadata": {
        "id": "ps5_jpJv4Uq1",
        "colab_type": "text"
      },
      "source": [
        "## Unpacking the campaign name\n"
      ]
    },
    {
      "cell_type": "markdown",
      "metadata": {
        "id": "r3WFZ8Km4UdB",
        "colab_type": "text"
      },
      "source": [
        ""
      ]
    },
    {
      "cell_type": "code",
      "metadata": {
        "id": "dtBqRz-LxfdB",
        "colab_type": "code",
        "colab": {
          "base_uri": "https://localhost:8080/",
          "height": 143
        },
        "outputId": "e149a3e3-5234-441f-8fda-c52d5a707b3f"
      },
      "source": [
        "def unpack_campaign_name(name):\n",
        "  # very optimistic method, assumes data in campaign name\n",
        "  # is always in good state\n",
        "  type_, start, end, age, gender, currency = name.split('_')\n",
        "  start = parse(start).date\n",
        "  end = parse(end).date\n",
        "  return type_, start, end, age, gender, currency\n",
        "\n",
        "campaign_data = df['cmp_name'].apply(unpack_campaign_name)\n",
        "campaign_cols = ['Type', 'Start', 'End', 'Age', ' Gender', 'Currency']\n",
        "campaign_df = DataFrame(\n",
        "    campaign_data.tolist(),columns=campaign_cols, index=df.index)\n",
        "campaign_df.head(3)"
      ],
      "execution_count": 91,
      "outputs": [
        {
          "output_type": "execute_result",
          "data": {
            "text/html": [
              "<div>\n",
              "<style scoped>\n",
              "    .dataframe tbody tr th:only-of-type {\n",
              "        vertical-align: middle;\n",
              "    }\n",
              "\n",
              "    .dataframe tbody tr th {\n",
              "        vertical-align: top;\n",
              "    }\n",
              "\n",
              "    .dataframe thead th {\n",
              "        text-align: right;\n",
              "    }\n",
              "</style>\n",
              "<table border=\"1\" class=\"dataframe\">\n",
              "  <thead>\n",
              "    <tr style=\"text-align: right;\">\n",
              "      <th></th>\n",
              "      <th>Type</th>\n",
              "      <th>Start</th>\n",
              "      <th>End</th>\n",
              "      <th>Age</th>\n",
              "      <th>Gender</th>\n",
              "      <th>Currency</th>\n",
              "    </tr>\n",
              "  </thead>\n",
              "  <tbody>\n",
              "    <tr>\n",
              "      <th>0</th>\n",
              "      <td>GRZ</td>\n",
              "      <td>2019-04-27</td>\n",
              "      <td>2020-01-05</td>\n",
              "      <td>25-50</td>\n",
              "      <td>M</td>\n",
              "      <td>GBP</td>\n",
              "    </tr>\n",
              "    <tr>\n",
              "      <th>1</th>\n",
              "      <td>BYU</td>\n",
              "      <td>2020-12-03</td>\n",
              "      <td>2022-02-03</td>\n",
              "      <td>25-40</td>\n",
              "      <td>F</td>\n",
              "      <td>EUR</td>\n",
              "    </tr>\n",
              "    <tr>\n",
              "      <th>2</th>\n",
              "      <td>BYU</td>\n",
              "      <td>2019-06-23</td>\n",
              "      <td>2020-05-28</td>\n",
              "      <td>40-55</td>\n",
              "      <td>M</td>\n",
              "      <td>EUR</td>\n",
              "    </tr>\n",
              "  </tbody>\n",
              "</table>\n",
              "</div>"
            ],
            "text/plain": [
              "  Type       Start         End    Age  Gender Currency\n",
              "0  GRZ  2019-04-27  2020-01-05  25-50       M      GBP\n",
              "1  BYU  2020-12-03  2022-02-03  25-40       F      EUR\n",
              "2  BYU  2019-06-23  2020-05-28  40-55       M      EUR"
            ]
          },
          "metadata": {
            "tags": []
          },
          "execution_count": 91
        }
      ]
    },
    {
      "cell_type": "code",
      "metadata": {
        "id": "biYGAVRDzCW7",
        "colab_type": "code",
        "colab": {}
      },
      "source": [
        "df = df.join(campaign_df)"
      ],
      "execution_count": 0,
      "outputs": []
    },
    {
      "cell_type": "code",
      "metadata": {
        "id": "zUE7bUKC3E3A",
        "colab_type": "code",
        "colab": {
          "base_uri": "https://localhost:8080/",
          "height": 195
        },
        "outputId": "781e82bf-a77e-4247-fa89-be33e9965466"
      },
      "source": [
        "df[['cmp_name'] + campaign_cols].head(3)"
      ],
      "execution_count": 93,
      "outputs": [
        {
          "output_type": "execute_result",
          "data": {
            "text/html": [
              "<div>\n",
              "<style scoped>\n",
              "    .dataframe tbody tr th:only-of-type {\n",
              "        vertical-align: middle;\n",
              "    }\n",
              "\n",
              "    .dataframe tbody tr th {\n",
              "        vertical-align: top;\n",
              "    }\n",
              "\n",
              "    .dataframe thead th {\n",
              "        text-align: right;\n",
              "    }\n",
              "</style>\n",
              "<table border=\"1\" class=\"dataframe\">\n",
              "  <thead>\n",
              "    <tr style=\"text-align: right;\">\n",
              "      <th></th>\n",
              "      <th>cmp_name</th>\n",
              "      <th>Type</th>\n",
              "      <th>Start</th>\n",
              "      <th>End</th>\n",
              "      <th>Age</th>\n",
              "      <th>Gender</th>\n",
              "      <th>Currency</th>\n",
              "    </tr>\n",
              "  </thead>\n",
              "  <tbody>\n",
              "    <tr>\n",
              "      <th>0</th>\n",
              "      <td>GRZ_20190427_20200501_25-50_M_GBP</td>\n",
              "      <td>GRZ</td>\n",
              "      <td>2019-04-27</td>\n",
              "      <td>2020-01-05</td>\n",
              "      <td>25-50</td>\n",
              "      <td>M</td>\n",
              "      <td>GBP</td>\n",
              "    </tr>\n",
              "    <tr>\n",
              "      <th>1</th>\n",
              "      <td>BYU_20200312_20220302_25-40_F_EUR</td>\n",
              "      <td>BYU</td>\n",
              "      <td>2020-12-03</td>\n",
              "      <td>2022-02-03</td>\n",
              "      <td>25-40</td>\n",
              "      <td>F</td>\n",
              "      <td>EUR</td>\n",
              "    </tr>\n",
              "    <tr>\n",
              "      <th>2</th>\n",
              "      <td>BYU_20190623_20200528_40-55_M_EUR</td>\n",
              "      <td>BYU</td>\n",
              "      <td>2019-06-23</td>\n",
              "      <td>2020-05-28</td>\n",
              "      <td>40-55</td>\n",
              "      <td>M</td>\n",
              "      <td>EUR</td>\n",
              "    </tr>\n",
              "  </tbody>\n",
              "</table>\n",
              "</div>"
            ],
            "text/plain": [
              "                            cmp_name Type       Start  ...    Age  Gender Currency\n",
              "0  GRZ_20190427_20200501_25-50_M_GBP  GRZ  2019-04-27  ...  25-50       M      GBP\n",
              "1  BYU_20200312_20220302_25-40_F_EUR  BYU  2020-12-03  ...  25-40       F      EUR\n",
              "2  BYU_20190623_20200528_40-55_M_EUR  BYU  2019-06-23  ...  40-55       M      EUR\n",
              "\n",
              "[3 rows x 7 columns]"
            ]
          },
          "metadata": {
            "tags": []
          },
          "execution_count": 93
        }
      ]
    },
    {
      "cell_type": "markdown",
      "metadata": {
        "id": "GvFN9paj4X2X",
        "colab_type": "text"
      },
      "source": [
        "## Unpacking the user data\n"
      ]
    },
    {
      "cell_type": "code",
      "metadata": {
        "colab_type": "code",
        "id": "4oFdAJ0130G-",
        "colab": {}
      },
      "source": [
        "def unpack_user_json(user):\n",
        "  # very optimistic as well, expects user objects\n",
        "  # to have all attributes\n",
        "  user = json.loads(user.strip())\n",
        "  return [\n",
        "          user['username'],\n",
        "          user['email'],\n",
        "          user['name'],\n",
        "          user['gender'],\n",
        "          user['age'],\n",
        "          user['address'],\n",
        "  ]\n",
        "\n",
        "user_data = df['user'].apply(unpack_user_json)\n",
        "user_cols = [\n",
        "             'username','email','name','gender','age','address']\n",
        "user_df = DataFrame(\n",
        "    user_data.tolist(), columns = user_cols, index=df.index)\n",
        "\n"
      ],
      "execution_count": 0,
      "outputs": []
    },
    {
      "cell_type": "code",
      "metadata": {
        "id": "XGPNBwBI6TbH",
        "colab_type": "code",
        "colab": {
          "base_uri": "https://localhost:8080/",
          "height": 285
        },
        "outputId": "393ca103-c1ed-4a2a-e15d-a41c28b50a64"
      },
      "source": [
        "df = df.join(user_df)\n",
        "df[['user'] + user_cols].head(2)"
      ],
      "execution_count": 95,
      "outputs": [
        {
          "output_type": "execute_result",
          "data": {
            "text/html": [
              "<div>\n",
              "<style scoped>\n",
              "    .dataframe tbody tr th:only-of-type {\n",
              "        vertical-align: middle;\n",
              "    }\n",
              "\n",
              "    .dataframe tbody tr th {\n",
              "        vertical-align: top;\n",
              "    }\n",
              "\n",
              "    .dataframe thead th {\n",
              "        text-align: right;\n",
              "    }\n",
              "</style>\n",
              "<table border=\"1\" class=\"dataframe\">\n",
              "  <thead>\n",
              "    <tr style=\"text-align: right;\">\n",
              "      <th></th>\n",
              "      <th>user</th>\n",
              "      <th>username</th>\n",
              "      <th>email</th>\n",
              "      <th>name</th>\n",
              "      <th>gender</th>\n",
              "      <th>age</th>\n",
              "      <th>address</th>\n",
              "    </tr>\n",
              "  </thead>\n",
              "  <tbody>\n",
              "    <tr>\n",
              "      <th>0</th>\n",
              "      <td>{\"username\": \"roger08\", \"name\": \"Mark Miller\",...</td>\n",
              "      <td>roger08</td>\n",
              "      <td>smartinez@carrillo-garcia.info</td>\n",
              "      <td>Mark Miller</td>\n",
              "      <td>M</td>\n",
              "      <td>82</td>\n",
              "      <td>1641 Krueger Place Suite 307\\nLake Kelsey, RI ...</td>\n",
              "    </tr>\n",
              "    <tr>\n",
              "      <th>1</th>\n",
              "      <td>{\"username\": \"roger08\", \"name\": \"Mark Miller\",...</td>\n",
              "      <td>roger08</td>\n",
              "      <td>smartinez@carrillo-garcia.info</td>\n",
              "      <td>Mark Miller</td>\n",
              "      <td>M</td>\n",
              "      <td>82</td>\n",
              "      <td>1641 Krueger Place Suite 307\\nLake Kelsey, RI ...</td>\n",
              "    </tr>\n",
              "  </tbody>\n",
              "</table>\n",
              "</div>"
            ],
            "text/plain": [
              "                                                user  ...                                            address\n",
              "0  {\"username\": \"roger08\", \"name\": \"Mark Miller\",...  ...  1641 Krueger Place Suite 307\\nLake Kelsey, RI ...\n",
              "1  {\"username\": \"roger08\", \"name\": \"Mark Miller\",...  ...  1641 Krueger Place Suite 307\\nLake Kelsey, RI ...\n",
              "\n",
              "[2 rows x 7 columns]"
            ]
          },
          "metadata": {
            "tags": []
          },
          "execution_count": 95
        }
      ]
    },
    {
      "cell_type": "code",
      "metadata": {
        "id": "vU06z1S76ad8",
        "colab_type": "code",
        "colab": {
          "base_uri": "https://localhost:8080/",
          "height": 90
        },
        "outputId": "dd1cd8cc-c17c-4bdb-c7c7-147be271f9c9"
      },
      "source": [
        "df.columns"
      ],
      "execution_count": 96,
      "outputs": [
        {
          "output_type": "execute_result",
          "data": {
            "text/plain": [
              "Index(['cmp_name', 'cmp_bgt', 'cmp_spent', 'cmp_clicks', 'cmp_impr', 'user',\n",
              "       'Type', 'Start', 'End', 'Age', ' Gender', 'Currency', 'username',\n",
              "       'email', 'name', 'gender', 'age', 'address'],\n",
              "      dtype='object')"
            ]
          },
          "metadata": {
            "tags": []
          },
          "execution_count": 96
        }
      ]
    },
    {
      "cell_type": "code",
      "metadata": {
        "id": "CTRUuoOp6jSQ",
        "colab_type": "code",
        "colab": {}
      },
      "source": [
        "better_columns = [\n",
        "                  'Budget','Clicks','Impressions',\n",
        "                  'cmp_name','Spent','user',\n",
        "                  'Type','Start','End',\n",
        "                  'Target Age', 'Target Gender', 'Currency',\n",
        "                  'Username', 'Email', 'Name',\n",
        "                  'Gender', 'Age', 'Address',\n",
        "]\n",
        "df.columns = better_columns"
      ],
      "execution_count": 0,
      "outputs": []
    },
    {
      "cell_type": "code",
      "metadata": {
        "id": "R4eHAC2f6ukH",
        "colab_type": "code",
        "colab": {}
      },
      "source": [
        "def calculate_extra_columns(df):\n",
        "  # Click Through Rate\n",
        "  df['CTR'] = df['Clicks'] / df['Impressions']\n",
        "  # Cost Per Click\n",
        "  df['CPC'] = df['Spent'] / df['Clicks']\n",
        "  # Cost Per Impression\n",
        "  df['CPI'] = df['Spent'] / df['Impressions']\n",
        "\n",
        "calculate_extra_columns(df)"
      ],
      "execution_count": 0,
      "outputs": []
    },
    {
      "cell_type": "code",
      "metadata": {
        "id": "61upu9MEAkei",
        "colab_type": "code",
        "colab": {
          "base_uri": "https://localhost:8080/",
          "height": 143
        },
        "outputId": "5b01e149-96a4-4314-bc60-271a89012eea"
      },
      "source": [
        "df[['Spent', 'Clicks', 'Impressions','CTR', 'CPC', 'CPI']].head(3)"
      ],
      "execution_count": 99,
      "outputs": [
        {
          "output_type": "execute_result",
          "data": {
            "text/html": [
              "<div>\n",
              "<style scoped>\n",
              "    .dataframe tbody tr th:only-of-type {\n",
              "        vertical-align: middle;\n",
              "    }\n",
              "\n",
              "    .dataframe tbody tr th {\n",
              "        vertical-align: top;\n",
              "    }\n",
              "\n",
              "    .dataframe thead th {\n",
              "        text-align: right;\n",
              "    }\n",
              "</style>\n",
              "<table border=\"1\" class=\"dataframe\">\n",
              "  <thead>\n",
              "    <tr style=\"text-align: right;\">\n",
              "      <th></th>\n",
              "      <th>Spent</th>\n",
              "      <th>Clicks</th>\n",
              "      <th>Impressions</th>\n",
              "      <th>CTR</th>\n",
              "      <th>CPC</th>\n",
              "      <th>CPI</th>\n",
              "    </tr>\n",
              "  </thead>\n",
              "  <tbody>\n",
              "    <tr>\n",
              "      <th>0</th>\n",
              "      <td>500002</td>\n",
              "      <td>727044</td>\n",
              "      <td>644818</td>\n",
              "      <td>1.127518</td>\n",
              "      <td>0.687719</td>\n",
              "      <td>0.775416</td>\n",
              "    </tr>\n",
              "    <tr>\n",
              "      <th>1</th>\n",
              "      <td>500001</td>\n",
              "      <td>387583</td>\n",
              "      <td>375996</td>\n",
              "      <td>1.030817</td>\n",
              "      <td>1.290049</td>\n",
              "      <td>1.329804</td>\n",
              "    </tr>\n",
              "    <tr>\n",
              "      <th>2</th>\n",
              "      <td>500000</td>\n",
              "      <td>997528</td>\n",
              "      <td>919108</td>\n",
              "      <td>1.085322</td>\n",
              "      <td>0.501239</td>\n",
              "      <td>0.544006</td>\n",
              "    </tr>\n",
              "  </tbody>\n",
              "</table>\n",
              "</div>"
            ],
            "text/plain": [
              "    Spent  Clicks  Impressions       CTR       CPC       CPI\n",
              "0  500002  727044       644818  1.127518  0.687719  0.775416\n",
              "1  500001  387583       375996  1.030817  1.290049  1.329804\n",
              "2  500000  997528       919108  1.085322  0.501239  0.544006"
            ]
          },
          "metadata": {
            "tags": []
          },
          "execution_count": 99
        }
      ]
    },
    {
      "cell_type": "code",
      "metadata": {
        "id": "4JLEowxaBj6x",
        "colab_type": "code",
        "colab": {
          "base_uri": "https://localhost:8080/",
          "height": 72
        },
        "outputId": "f868910b-46c1-4fe4-f958-15bd59581d26"
      },
      "source": [
        "clicks = df['Clicks'][0]\n",
        "ipmressions = df['Impressions'][0]\n",
        "spent = df['Spent'][0]\n",
        "CTR = df['CTR'][0]\n",
        "CPC = df['CPC'][0]\n",
        "CPI = df['CPI'][0]\n",
        "print('CTR:', CTR, clicks/ipmressions)\n",
        "print('CPC:', CPC, spent / clicks)\n",
        "print('CPI:', CPI, spent/ ipmressions)\n"
      ],
      "execution_count": 100,
      "outputs": [
        {
          "output_type": "stream",
          "text": [
            "CTR: 1.1275181524088969 1.1275181524088969\n",
            "CPC: 0.687719037637337 0.687719037637337\n",
            "CPI: 0.7754156986932746 0.7754156986932746\n"
          ],
          "name": "stdout"
        }
      ]
    },
    {
      "cell_type": "code",
      "metadata": {
        "id": "CIs9__V0CSo3",
        "colab_type": "code",
        "colab": {}
      },
      "source": [
        "def get_day_of_the_week(day):\n",
        "  number_to_day = dict(enumerate(calendar.day_name,1))\n",
        "  #enumerate : index 번호와 해당하는 values 반환, 두번째 인수는 시작 인덱스\n",
        "  #enumerate(calendar.day_name) : (1,'Monday'), (2,'Tuesday') ...\n",
        "  return number_to_day[day.isoweekday()]\n",
        "  #isoweekday : 월요일 1~ 일요일 7로 나타냄, weekday와 동일한 역할이지만\n",
        "  #표시 방법이 다름\n",
        "\n",
        "def get_duration(row):\n",
        "  return (row['End'] - row['Start']).days\n",
        "\n",
        "df['Day of Week'] = df['Start'].apply(get_day_of_the_week)\n",
        "df['Duration'] = df.apply(get_duration,axis=1)"
      ],
      "execution_count": 0,
      "outputs": []
    },
    {
      "cell_type": "code",
      "metadata": {
        "id": "jdemvwFBDPax",
        "colab_type": "code",
        "colab": {
          "base_uri": "https://localhost:8080/",
          "height": 143
        },
        "outputId": "4a1138ff-6cd6-4752-de74-fca2cff525d2"
      },
      "source": [
        "df[['Start', 'End', 'Duration', 'Day of Week']].head(3)"
      ],
      "execution_count": 102,
      "outputs": [
        {
          "output_type": "execute_result",
          "data": {
            "text/html": [
              "<div>\n",
              "<style scoped>\n",
              "    .dataframe tbody tr th:only-of-type {\n",
              "        vertical-align: middle;\n",
              "    }\n",
              "\n",
              "    .dataframe tbody tr th {\n",
              "        vertical-align: top;\n",
              "    }\n",
              "\n",
              "    .dataframe thead th {\n",
              "        text-align: right;\n",
              "    }\n",
              "</style>\n",
              "<table border=\"1\" class=\"dataframe\">\n",
              "  <thead>\n",
              "    <tr style=\"text-align: right;\">\n",
              "      <th></th>\n",
              "      <th>Start</th>\n",
              "      <th>End</th>\n",
              "      <th>Duration</th>\n",
              "      <th>Day of Week</th>\n",
              "    </tr>\n",
              "  </thead>\n",
              "  <tbody>\n",
              "    <tr>\n",
              "      <th>0</th>\n",
              "      <td>2019-04-27</td>\n",
              "      <td>2020-01-05</td>\n",
              "      <td>253</td>\n",
              "      <td>Saturday</td>\n",
              "    </tr>\n",
              "    <tr>\n",
              "      <th>1</th>\n",
              "      <td>2020-12-03</td>\n",
              "      <td>2022-02-03</td>\n",
              "      <td>427</td>\n",
              "      <td>Thursday</td>\n",
              "    </tr>\n",
              "    <tr>\n",
              "      <th>2</th>\n",
              "      <td>2019-06-23</td>\n",
              "      <td>2020-05-28</td>\n",
              "      <td>340</td>\n",
              "      <td>Sunday</td>\n",
              "    </tr>\n",
              "  </tbody>\n",
              "</table>\n",
              "</div>"
            ],
            "text/plain": [
              "        Start         End  Duration Day of Week\n",
              "0  2019-04-27  2020-01-05       253    Saturday\n",
              "1  2020-12-03  2022-02-03       427    Thursday\n",
              "2  2019-06-23  2020-05-28       340      Sunday"
            ]
          },
          "metadata": {
            "tags": []
          },
          "execution_count": 102
        }
      ]
    },
    {
      "cell_type": "markdown",
      "metadata": {
        "id": "CjmKIGfrI3xu",
        "colab_type": "text"
      },
      "source": [
        "## Cleaning everything up\n"
      ]
    },
    {
      "cell_type": "code",
      "metadata": {
        "id": "NdwSqhp-IYEy",
        "colab_type": "code",
        "colab": {}
      },
      "source": [
        "final_columns = [\n",
        " 'Type', 'Start', 'End', 'Duration', 'Day of Week', 'Budget',\n",
        " 'Currency', 'Clicks', 'Impressions', 'Spent', 'CTR', 'CPC',\n",
        " 'CPI', 'Target Age', 'Target Gender', 'Username', 'Email',\n",
        " 'Name', 'Gender', 'Age'\n",
        "]\n",
        "df = df[final_columns]"
      ],
      "execution_count": 0,
      "outputs": []
    },
    {
      "cell_type": "markdown",
      "metadata": {
        "id": "rvchvEgFLG2S",
        "colab_type": "text"
      },
      "source": [
        "## Saving the DataFrame to a file\n"
      ]
    },
    {
      "cell_type": "code",
      "metadata": {
        "id": "h-1SnARFLGs6",
        "colab_type": "code",
        "colab": {}
      },
      "source": [
        "df.to_csv('df,csv')\n",
        "df.to_json('df.json')\n",
        "df.to_excel('df.xls')"
      ],
      "execution_count": 0,
      "outputs": []
    },
    {
      "cell_type": "markdown",
      "metadata": {
        "id": "n23KZVUCL6vq",
        "colab_type": "text"
      },
      "source": [
        "## Visualizing the results\n"
      ]
    },
    {
      "cell_type": "code",
      "metadata": {
        "id": "Q4oD_hIXL6UB",
        "colab_type": "code",
        "colab": {}
      },
      "source": [
        "%matplotlib inline"
      ],
      "execution_count": 0,
      "outputs": []
    },
    {
      "cell_type": "code",
      "metadata": {
        "id": "vRogSrIGKahX",
        "colab_type": "code",
        "colab": {}
      },
      "source": [
        "import pylab\n",
        "pylab.rcParams.update({'font.family' : 'serif'})"
      ],
      "execution_count": 0,
      "outputs": []
    },
    {
      "cell_type": "code",
      "metadata": {
        "id": "3i14sI_IMwyr",
        "colab_type": "code",
        "colab": {
          "base_uri": "https://localhost:8080/",
          "height": 320
        },
        "outputId": "3b048a97-7064-4ddd-9493-ba2cc6fe00dd"
      },
      "source": [
        "df.describe()"
      ],
      "execution_count": 107,
      "outputs": [
        {
          "output_type": "execute_result",
          "data": {
            "text/html": [
              "<div>\n",
              "<style scoped>\n",
              "    .dataframe tbody tr th:only-of-type {\n",
              "        vertical-align: middle;\n",
              "    }\n",
              "\n",
              "    .dataframe tbody tr th {\n",
              "        vertical-align: top;\n",
              "    }\n",
              "\n",
              "    .dataframe thead th {\n",
              "        text-align: right;\n",
              "    }\n",
              "</style>\n",
              "<table border=\"1\" class=\"dataframe\">\n",
              "  <thead>\n",
              "    <tr style=\"text-align: right;\">\n",
              "      <th></th>\n",
              "      <th>Duration</th>\n",
              "      <th>Clicks</th>\n",
              "      <th>Impressions</th>\n",
              "      <th>Spent</th>\n",
              "      <th>CTR</th>\n",
              "      <th>CPC</th>\n",
              "      <th>CPI</th>\n",
              "      <th>Age</th>\n",
              "    </tr>\n",
              "  </thead>\n",
              "  <tbody>\n",
              "    <tr>\n",
              "      <th>count</th>\n",
              "      <td>5001.000000</td>\n",
              "      <td>5001.000000</td>\n",
              "      <td>5001.000000</td>\n",
              "      <td>5001.000000</td>\n",
              "      <td>5001.000000</td>\n",
              "      <td>5001.000000</td>\n",
              "      <td>5001.000000</td>\n",
              "      <td>5001.000000</td>\n",
              "    </tr>\n",
              "    <tr>\n",
              "      <th>mean</th>\n",
              "      <td>367.000000</td>\n",
              "      <td>498275.613877</td>\n",
              "      <td>248344.566687</td>\n",
              "      <td>499999.477504</td>\n",
              "      <td>9.560399</td>\n",
              "      <td>3.453166</td>\n",
              "      <td>22.445752</td>\n",
              "      <td>53.779444</td>\n",
              "    </tr>\n",
              "    <tr>\n",
              "      <th>std</th>\n",
              "      <td>246.958699</td>\n",
              "      <td>286631.283066</td>\n",
              "      <td>219918.331792</td>\n",
              "      <td>2.025326</td>\n",
              "      <td>68.592845</td>\n",
              "      <td>13.831365</td>\n",
              "      <td>142.528624</td>\n",
              "      <td>21.254975</td>\n",
              "    </tr>\n",
              "    <tr>\n",
              "      <th>min</th>\n",
              "      <td>-332.000000</td>\n",
              "      <td>1155.000000</td>\n",
              "      <td>126.000000</td>\n",
              "      <td>499993.000000</td>\n",
              "      <td>1.000480</td>\n",
              "      <td>0.500010</td>\n",
              "      <td>0.508320</td>\n",
              "      <td>18.000000</td>\n",
              "    </tr>\n",
              "    <tr>\n",
              "      <th>25%</th>\n",
              "      <td>176.000000</td>\n",
              "      <td>252754.000000</td>\n",
              "      <td>66182.000000</td>\n",
              "      <td>499998.000000</td>\n",
              "      <td>1.325777</td>\n",
              "      <td>0.670496</td>\n",
              "      <td>1.315900</td>\n",
              "      <td>36.000000</td>\n",
              "    </tr>\n",
              "    <tr>\n",
              "      <th>50%</th>\n",
              "      <td>364.000000</td>\n",
              "      <td>498573.000000</td>\n",
              "      <td>184528.000000</td>\n",
              "      <td>499999.000000</td>\n",
              "      <td>1.991345</td>\n",
              "      <td>1.002852</td>\n",
              "      <td>2.709610</td>\n",
              "      <td>55.000000</td>\n",
              "    </tr>\n",
              "    <tr>\n",
              "      <th>75%</th>\n",
              "      <td>556.000000</td>\n",
              "      <td>745714.000000</td>\n",
              "      <td>379968.000000</td>\n",
              "      <td>500001.000000</td>\n",
              "      <td>4.225450</td>\n",
              "      <td>1.978204</td>\n",
              "      <td>7.554939</td>\n",
              "      <td>72.000000</td>\n",
              "    </tr>\n",
              "    <tr>\n",
              "      <th>max</th>\n",
              "      <td>1064.000000</td>\n",
              "      <td>999978.000000</td>\n",
              "      <td>983630.000000</td>\n",
              "      <td>500007.000000</td>\n",
              "      <td>2306.915323</td>\n",
              "      <td>432.895238</td>\n",
              "      <td>3968.230159</td>\n",
              "      <td>90.000000</td>\n",
              "    </tr>\n",
              "  </tbody>\n",
              "</table>\n",
              "</div>"
            ],
            "text/plain": [
              "          Duration         Clicks  ...          CPI          Age\n",
              "count  5001.000000    5001.000000  ...  5001.000000  5001.000000\n",
              "mean    367.000000  498275.613877  ...    22.445752    53.779444\n",
              "std     246.958699  286631.283066  ...   142.528624    21.254975\n",
              "min    -332.000000    1155.000000  ...     0.508320    18.000000\n",
              "25%     176.000000  252754.000000  ...     1.315900    36.000000\n",
              "50%     364.000000  498573.000000  ...     2.709610    55.000000\n",
              "75%     556.000000  745714.000000  ...     7.554939    72.000000\n",
              "max    1064.000000  999978.000000  ...  3968.230159    90.000000\n",
              "\n",
              "[8 rows x 8 columns]"
            ]
          },
          "metadata": {
            "tags": []
          },
          "execution_count": 107
        }
      ]
    },
    {
      "cell_type": "code",
      "metadata": {
        "id": "4g5um9_RM6Cj",
        "colab_type": "code",
        "colab": {
          "base_uri": "https://localhost:8080/",
          "height": 422
        },
        "outputId": "d98ec818-76d8-4586-97ec-186ea145d5db"
      },
      "source": [
        "df[['Budget', 'Spent', 'Clicks', 'Impressions']].hist(\n",
        " bins=16, figsize=(16, 6)); # ; 를 붙이면 그래프만 나온다."
      ],
      "execution_count": 108,
      "outputs": [
        {
          "output_type": "display_data",
          "data": {
            "image/png": "[encoded data removed]",
            "text/plain": [
              "<Figure size 1152x432 with 4 Axes>"
            ]
          },
          "metadata": {
            "tags": []
          }
        }
      ]
    },
    {
      "cell_type": "code",
      "metadata": {
        "id": "n1_2mmojNRjL",
        "colab_type": "code",
        "colab": {
          "base_uri": "https://localhost:8080/",
          "height": 410
        },
        "outputId": "3844c619-6f9c-4d4f-cd9c-b03f23315199"
      },
      "source": [
        "df[['CTR', 'CPC', 'CPI']].hist(bins=20, figsize=(16, 6));"
      ],
      "execution_count": 109,
      "outputs": [
        {
          "output_type": "display_data",
          "data": {
            "image/png": "[encoded data removed]",
            "text/plain": [
              "<Figure size 1152x432 with 4 Axes>"
            ]
          },
          "metadata": {
            "tags": []
          }
        }
      ]
    },
    {
      "cell_type": "code",
      "metadata": {
        "id": "b_gYeI9ZOGUe",
        "colab_type": "code",
        "colab": {
          "base_uri": "https://localhost:8080/",
          "height": 474
        },
        "outputId": "3283960e-5e92-4109-85e2-6575ac41a261"
      },
      "source": [
        "mask = (df.Spent > 0.75 * df.Budget)\n",
        "df[mask][['Budget', 'Spent', 'Clicks', 'Impressions']].hist(\n",
        " bins=15, figsize=(16, 6), color='g');"
      ],
      "execution_count": 110,
      "outputs": [
        {
          "output_type": "error",
          "ename": "TypeError",
          "evalue": "ignored",
          "traceback": [
            "\u001b[0;31m---------------------------------------------------------------------------\u001b[0m",
            "\u001b[0;31mTypeError\u001b[0m                                 Traceback (most recent call last)",
            "\u001b[0;32m/usr/local/lib/python3.6/dist-packages/pandas/core/ops/__init__.py\u001b[0m in \u001b[0;36mna_op\u001b[0;34m(x, y)\u001b[0m\n\u001b[1;32m    967\u001b[0m         \u001b[0;32mtry\u001b[0m\u001b[0;34m:\u001b[0m\u001b[0;34m\u001b[0m\u001b[0;34m\u001b[0m\u001b[0m\n\u001b[0;32m--> 968\u001b[0;31m             \u001b[0mresult\u001b[0m \u001b[0;34m=\u001b[0m \u001b[0mexpressions\u001b[0m\u001b[0;34m.\u001b[0m\u001b[0mevaluate\u001b[0m\u001b[0;34m(\u001b[0m\u001b[0mop\u001b[0m\u001b[0;34m,\u001b[0m \u001b[0mstr_rep\u001b[0m\u001b[0;34m,\u001b[0m \u001b[0mx\u001b[0m\u001b[0;34m,\u001b[0m \u001b[0my\u001b[0m\u001b[0;34m,\u001b[0m \u001b[0;34m**\u001b[0m\u001b[0meval_kwargs\u001b[0m\u001b[0;34m)\u001b[0m\u001b[0;34m\u001b[0m\u001b[0;34m\u001b[0m\u001b[0m\n\u001b[0m\u001b[1;32m    969\u001b[0m         \u001b[0;32mexcept\u001b[0m \u001b[0mTypeError\u001b[0m\u001b[0;34m:\u001b[0m\u001b[0;34m\u001b[0m\u001b[0;34m\u001b[0m\u001b[0m\n",
            "\u001b[0;32m/usr/local/lib/python3.6/dist-packages/pandas/core/computation/expressions.py\u001b[0m in \u001b[0;36mevaluate\u001b[0;34m(op, op_str, a, b, use_numexpr, **eval_kwargs)\u001b[0m\n\u001b[1;32m    220\u001b[0m     \u001b[0;32mif\u001b[0m \u001b[0muse_numexpr\u001b[0m\u001b[0;34m:\u001b[0m\u001b[0;34m\u001b[0m\u001b[0;34m\u001b[0m\u001b[0m\n\u001b[0;32m--> 221\u001b[0;31m         \u001b[0;32mreturn\u001b[0m \u001b[0m_evaluate\u001b[0m\u001b[0;34m(\u001b[0m\u001b[0mop\u001b[0m\u001b[0;34m,\u001b[0m \u001b[0mop_str\u001b[0m\u001b[0;34m,\u001b[0m \u001b[0ma\u001b[0m\u001b[0;34m,\u001b[0m \u001b[0mb\u001b[0m\u001b[0;34m,\u001b[0m \u001b[0;34m**\u001b[0m\u001b[0meval_kwargs\u001b[0m\u001b[0;34m)\u001b[0m\u001b[0;34m\u001b[0m\u001b[0;34m\u001b[0m\u001b[0m\n\u001b[0m\u001b[1;32m    222\u001b[0m     \u001b[0;32mreturn\u001b[0m \u001b[0m_evaluate_standard\u001b[0m\u001b[0;34m(\u001b[0m\u001b[0mop\u001b[0m\u001b[0;34m,\u001b[0m \u001b[0mop_str\u001b[0m\u001b[0;34m,\u001b[0m \u001b[0ma\u001b[0m\u001b[0;34m,\u001b[0m \u001b[0mb\u001b[0m\u001b[0;34m)\u001b[0m\u001b[0;34m\u001b[0m\u001b[0;34m\u001b[0m\u001b[0m\n",
            "\u001b[0;32m/usr/local/lib/python3.6/dist-packages/pandas/core/computation/expressions.py\u001b[0m in \u001b[0;36m_evaluate_numexpr\u001b[0;34m(op, op_str, a, b, truediv, reversed, **eval_kwargs)\u001b[0m\n\u001b[1;32m    126\u001b[0m     \u001b[0;32mif\u001b[0m \u001b[0mresult\u001b[0m \u001b[0;32mis\u001b[0m \u001b[0;32mNone\u001b[0m\u001b[0;34m:\u001b[0m\u001b[0;34m\u001b[0m\u001b[0;34m\u001b[0m\u001b[0m\n\u001b[0;32m--> 127\u001b[0;31m         \u001b[0mresult\u001b[0m \u001b[0;34m=\u001b[0m \u001b[0m_evaluate_standard\u001b[0m\u001b[0;34m(\u001b[0m\u001b[0mop\u001b[0m\u001b[0;34m,\u001b[0m \u001b[0mop_str\u001b[0m\u001b[0;34m,\u001b[0m \u001b[0ma\u001b[0m\u001b[0;34m,\u001b[0m \u001b[0mb\u001b[0m\u001b[0;34m)\u001b[0m\u001b[0;34m\u001b[0m\u001b[0;34m\u001b[0m\u001b[0m\n\u001b[0m\u001b[1;32m    128\u001b[0m \u001b[0;34m\u001b[0m\u001b[0m\n",
            "\u001b[0;32m/usr/local/lib/python3.6/dist-packages/pandas/core/computation/expressions.py\u001b[0m in \u001b[0;36m_evaluate_standard\u001b[0;34m(op, op_str, a, b, **eval_kwargs)\u001b[0m\n\u001b[1;32m     69\u001b[0m     \u001b[0;32mwith\u001b[0m \u001b[0mnp\u001b[0m\u001b[0;34m.\u001b[0m\u001b[0merrstate\u001b[0m\u001b[0;34m(\u001b[0m\u001b[0mall\u001b[0m\u001b[0;34m=\u001b[0m\u001b[0;34m\"ignore\"\u001b[0m\u001b[0;34m)\u001b[0m\u001b[0;34m:\u001b[0m\u001b[0;34m\u001b[0m\u001b[0;34m\u001b[0m\u001b[0m\n\u001b[0;32m---> 70\u001b[0;31m         \u001b[0;32mreturn\u001b[0m \u001b[0mop\u001b[0m\u001b[0;34m(\u001b[0m\u001b[0ma\u001b[0m\u001b[0;34m,\u001b[0m \u001b[0mb\u001b[0m\u001b[0;34m)\u001b[0m\u001b[0;34m\u001b[0m\u001b[0;34m\u001b[0m\u001b[0m\n\u001b[0m\u001b[1;32m     71\u001b[0m \u001b[0;34m\u001b[0m\u001b[0m\n",
            "\u001b[0;32m/usr/local/lib/python3.6/dist-packages/pandas/core/ops/roperator.py\u001b[0m in \u001b[0;36mrmul\u001b[0;34m(left, right)\u001b[0m\n\u001b[1;32m     16\u001b[0m \u001b[0;32mdef\u001b[0m \u001b[0mrmul\u001b[0m\u001b[0;34m(\u001b[0m\u001b[0mleft\u001b[0m\u001b[0;34m,\u001b[0m \u001b[0mright\u001b[0m\u001b[0;34m)\u001b[0m\u001b[0;34m:\u001b[0m\u001b[0;34m\u001b[0m\u001b[0;34m\u001b[0m\u001b[0m\n\u001b[0;32m---> 17\u001b[0;31m     \u001b[0;32mreturn\u001b[0m \u001b[0mright\u001b[0m \u001b[0;34m*\u001b[0m \u001b[0mleft\u001b[0m\u001b[0;34m\u001b[0m\u001b[0;34m\u001b[0m\u001b[0m\n\u001b[0m\u001b[1;32m     18\u001b[0m \u001b[0;34m\u001b[0m\u001b[0m\n",
            "\u001b[0;31mTypeError\u001b[0m: can't multiply sequence by non-int of type 'float'",
            "\nDuring handling of the above exception, another exception occurred:\n",
            "\u001b[0;31mTypeError\u001b[0m                                 Traceback (most recent call last)",
            "\u001b[0;32m<ipython-input-110-ab56a5f924af>\u001b[0m in \u001b[0;36m<module>\u001b[0;34m()\u001b[0m\n\u001b[0;32m----> 1\u001b[0;31m \u001b[0mmask\u001b[0m \u001b[0;34m=\u001b[0m \u001b[0;34m(\u001b[0m\u001b[0mdf\u001b[0m\u001b[0;34m.\u001b[0m\u001b[0mSpent\u001b[0m \u001b[0;34m>\u001b[0m \u001b[0;36m0.75\u001b[0m \u001b[0;34m*\u001b[0m \u001b[0mdf\u001b[0m\u001b[0;34m.\u001b[0m\u001b[0mBudget\u001b[0m\u001b[0;34m)\u001b[0m\u001b[0;34m\u001b[0m\u001b[0;34m\u001b[0m\u001b[0m\n\u001b[0m\u001b[1;32m      2\u001b[0m df[mask][['Budget', 'Spent', 'Clicks', 'Impressions']].hist(\n\u001b[1;32m      3\u001b[0m  bins=15, figsize=(16, 6), color='g');\n",
            "\u001b[0;32m/usr/local/lib/python3.6/dist-packages/pandas/core/ops/__init__.py\u001b[0m in \u001b[0;36mwrapper\u001b[0;34m(left, right)\u001b[0m\n\u001b[1;32m   1046\u001b[0m \u001b[0;34m\u001b[0m\u001b[0m\n\u001b[1;32m   1047\u001b[0m         \u001b[0;32mwith\u001b[0m \u001b[0mnp\u001b[0m\u001b[0;34m.\u001b[0m\u001b[0merrstate\u001b[0m\u001b[0;34m(\u001b[0m\u001b[0mall\u001b[0m\u001b[0;34m=\u001b[0m\u001b[0;34m\"ignore\"\u001b[0m\u001b[0;34m)\u001b[0m\u001b[0;34m:\u001b[0m\u001b[0;34m\u001b[0m\u001b[0;34m\u001b[0m\u001b[0m\n\u001b[0;32m-> 1048\u001b[0;31m             \u001b[0mresult\u001b[0m \u001b[0;34m=\u001b[0m \u001b[0mna_op\u001b[0m\u001b[0;34m(\u001b[0m\u001b[0mlvalues\u001b[0m\u001b[0;34m,\u001b[0m \u001b[0mrvalues\u001b[0m\u001b[0;34m)\u001b[0m\u001b[0;34m\u001b[0m\u001b[0;34m\u001b[0m\u001b[0m\n\u001b[0m\u001b[1;32m   1049\u001b[0m         return construct_result(\n\u001b[1;32m   1050\u001b[0m             \u001b[0mleft\u001b[0m\u001b[0;34m,\u001b[0m \u001b[0mresult\u001b[0m\u001b[0;34m,\u001b[0m \u001b[0mindex\u001b[0m\u001b[0;34m=\u001b[0m\u001b[0mleft\u001b[0m\u001b[0;34m.\u001b[0m\u001b[0mindex\u001b[0m\u001b[0;34m,\u001b[0m \u001b[0mname\u001b[0m\u001b[0;34m=\u001b[0m\u001b[0mres_name\u001b[0m\u001b[0;34m,\u001b[0m \u001b[0mdtype\u001b[0m\u001b[0;34m=\u001b[0m\u001b[0;32mNone\u001b[0m\u001b[0;34m\u001b[0m\u001b[0;34m\u001b[0m\u001b[0m\n",
            "\u001b[0;32m/usr/local/lib/python3.6/dist-packages/pandas/core/ops/__init__.py\u001b[0m in \u001b[0;36mna_op\u001b[0;34m(x, y)\u001b[0m\n\u001b[1;32m    968\u001b[0m             \u001b[0mresult\u001b[0m \u001b[0;34m=\u001b[0m \u001b[0mexpressions\u001b[0m\u001b[0;34m.\u001b[0m\u001b[0mevaluate\u001b[0m\u001b[0;34m(\u001b[0m\u001b[0mop\u001b[0m\u001b[0;34m,\u001b[0m \u001b[0mstr_rep\u001b[0m\u001b[0;34m,\u001b[0m \u001b[0mx\u001b[0m\u001b[0;34m,\u001b[0m \u001b[0my\u001b[0m\u001b[0;34m,\u001b[0m \u001b[0;34m**\u001b[0m\u001b[0meval_kwargs\u001b[0m\u001b[0;34m)\u001b[0m\u001b[0;34m\u001b[0m\u001b[0;34m\u001b[0m\u001b[0m\n\u001b[1;32m    969\u001b[0m         \u001b[0;32mexcept\u001b[0m \u001b[0mTypeError\u001b[0m\u001b[0;34m:\u001b[0m\u001b[0;34m\u001b[0m\u001b[0;34m\u001b[0m\u001b[0m\n\u001b[0;32m--> 970\u001b[0;31m             \u001b[0mresult\u001b[0m \u001b[0;34m=\u001b[0m \u001b[0mmasked_arith_op\u001b[0m\u001b[0;34m(\u001b[0m\u001b[0mx\u001b[0m\u001b[0;34m,\u001b[0m \u001b[0my\u001b[0m\u001b[0;34m,\u001b[0m \u001b[0mop\u001b[0m\u001b[0;34m)\u001b[0m\u001b[0;34m\u001b[0m\u001b[0;34m\u001b[0m\u001b[0m\n\u001b[0m\u001b[1;32m    971\u001b[0m \u001b[0;34m\u001b[0m\u001b[0m\n\u001b[1;32m    972\u001b[0m         \u001b[0;32mreturn\u001b[0m \u001b[0mmissing\u001b[0m\u001b[0;34m.\u001b[0m\u001b[0mdispatch_fill_zeros\u001b[0m\u001b[0;34m(\u001b[0m\u001b[0mop\u001b[0m\u001b[0;34m,\u001b[0m \u001b[0mx\u001b[0m\u001b[0;34m,\u001b[0m \u001b[0my\u001b[0m\u001b[0;34m,\u001b[0m \u001b[0mresult\u001b[0m\u001b[0;34m)\u001b[0m\u001b[0;34m\u001b[0m\u001b[0;34m\u001b[0m\u001b[0m\n",
            "\u001b[0;32m/usr/local/lib/python3.6/dist-packages/pandas/core/ops/__init__.py\u001b[0m in \u001b[0;36mmasked_arith_op\u001b[0;34m(x, y, op)\u001b[0m\n\u001b[1;32m    462\u001b[0m         \u001b[0;32mif\u001b[0m \u001b[0mmask\u001b[0m\u001b[0;34m.\u001b[0m\u001b[0many\u001b[0m\u001b[0;34m(\u001b[0m\u001b[0;34m)\u001b[0m\u001b[0;34m:\u001b[0m\u001b[0;34m\u001b[0m\u001b[0;34m\u001b[0m\u001b[0m\n\u001b[1;32m    463\u001b[0m             \u001b[0;32mwith\u001b[0m \u001b[0mnp\u001b[0m\u001b[0;34m.\u001b[0m\u001b[0merrstate\u001b[0m\u001b[0;34m(\u001b[0m\u001b[0mall\u001b[0m\u001b[0;34m=\u001b[0m\u001b[0;34m\"ignore\"\u001b[0m\u001b[0;34m)\u001b[0m\u001b[0;34m:\u001b[0m\u001b[0;34m\u001b[0m\u001b[0;34m\u001b[0m\u001b[0m\n\u001b[0;32m--> 464\u001b[0;31m                 \u001b[0mresult\u001b[0m\u001b[0;34m[\u001b[0m\u001b[0mmask\u001b[0m\u001b[0;34m]\u001b[0m \u001b[0;34m=\u001b[0m \u001b[0mop\u001b[0m\u001b[0;34m(\u001b[0m\u001b[0mxrav\u001b[0m\u001b[0;34m[\u001b[0m\u001b[0mmask\u001b[0m\u001b[0;34m]\u001b[0m\u001b[0;34m,\u001b[0m \u001b[0my\u001b[0m\u001b[0;34m)\u001b[0m\u001b[0;34m\u001b[0m\u001b[0;34m\u001b[0m\u001b[0m\n\u001b[0m\u001b[1;32m    465\u001b[0m \u001b[0;34m\u001b[0m\u001b[0m\n\u001b[1;32m    466\u001b[0m     \u001b[0mresult\u001b[0m\u001b[0;34m,\u001b[0m \u001b[0mchanged\u001b[0m \u001b[0;34m=\u001b[0m \u001b[0mmaybe_upcast_putmask\u001b[0m\u001b[0;34m(\u001b[0m\u001b[0mresult\u001b[0m\u001b[0;34m,\u001b[0m \u001b[0;34m~\u001b[0m\u001b[0mmask\u001b[0m\u001b[0;34m,\u001b[0m \u001b[0mnp\u001b[0m\u001b[0;34m.\u001b[0m\u001b[0mnan\u001b[0m\u001b[0;34m)\u001b[0m\u001b[0;34m\u001b[0m\u001b[0;34m\u001b[0m\u001b[0m\n",
            "\u001b[0;32m/usr/local/lib/python3.6/dist-packages/pandas/core/ops/roperator.py\u001b[0m in \u001b[0;36mrmul\u001b[0;34m(left, right)\u001b[0m\n\u001b[1;32m     15\u001b[0m \u001b[0;34m\u001b[0m\u001b[0m\n\u001b[1;32m     16\u001b[0m \u001b[0;32mdef\u001b[0m \u001b[0mrmul\u001b[0m\u001b[0;34m(\u001b[0m\u001b[0mleft\u001b[0m\u001b[0;34m,\u001b[0m \u001b[0mright\u001b[0m\u001b[0;34m)\u001b[0m\u001b[0;34m:\u001b[0m\u001b[0;34m\u001b[0m\u001b[0;34m\u001b[0m\u001b[0m\n\u001b[0;32m---> 17\u001b[0;31m     \u001b[0;32mreturn\u001b[0m \u001b[0mright\u001b[0m \u001b[0;34m*\u001b[0m \u001b[0mleft\u001b[0m\u001b[0;34m\u001b[0m\u001b[0;34m\u001b[0m\u001b[0m\n\u001b[0m\u001b[1;32m     18\u001b[0m \u001b[0;34m\u001b[0m\u001b[0m\n\u001b[1;32m     19\u001b[0m \u001b[0;34m\u001b[0m\u001b[0m\n",
            "\u001b[0;31mTypeError\u001b[0m: can't multiply sequence by non-int of type 'float'"
          ]
        }
      ]
    },
    {
      "cell_type": "code",
      "metadata": {
        "id": "FsQ_vQDwOwop",
        "colab_type": "code",
        "colab": {
          "base_uri": "https://localhost:8080/",
          "height": 416
        },
        "outputId": "25010bd4-1dc5-4d18-a663-3b54f6536151"
      },
      "source": [
        "df_weekday = df.groupby(['Day of Week']).sum()\n",
        "df_weekday[['Impressions', 'Spent', 'Clicks']].plot(\n",
        " figsize=(16, 6), subplots=True);"
      ],
      "execution_count": 111,
      "outputs": [
        {
          "output_type": "display_data",
          "data": {
            "image/png": "[encoded data removed]",
            "text/plain": [
              "<Figure size 1152x432 with 3 Axes>"
            ]
          },
          "metadata": {
            "tags": []
          }
        }
      ]
    },
    {
      "cell_type": "code",
      "metadata": {
        "id": "x4oB2ddGRjfZ",
        "colab_type": "code",
        "colab": {
          "base_uri": "https://localhost:8080/",
          "height": 670
        },
        "outputId": "57fa3df1-139f-4d8a-989c-b07dafcb4ed0"
      },
      "source": [
        "agg_config = {\n",
        " 'Impressions': {\n",
        " 'Mean Impr': 'mean',\n",
        " 'Std Impr': 'std',\n",
        " },\n",
        " 'Spent': ['mean', 'std'],\n",
        "}\n",
        "df.groupby(['Target Gender', 'Target Age']).agg(agg_config)"
      ],
      "execution_count": 112,
      "outputs": [
        {
          "output_type": "stream",
          "text": [
            "/usr/local/lib/python3.6/dist-packages/pandas/core/groupby/generic.py:1455: FutureWarning: using a dict with renaming is deprecated and will be removed\n",
            "in a future version.\n",
            "\n",
            "For column-specific groupby renaming, use named aggregation\n",
            "\n",
            "    >>> df.groupby(...).agg(name=('column', aggfunc))\n",
            "\n",
            "  return super().aggregate(arg, *args, **kwargs)\n"
          ],
          "name": "stderr"
        },
        {
          "output_type": "execute_result",
          "data": {
            "text/html": [
              "<div>\n",
              "<style scoped>\n",
              "    .dataframe tbody tr th:only-of-type {\n",
              "        vertical-align: middle;\n",
              "    }\n",
              "\n",
              "    .dataframe tbody tr th {\n",
              "        vertical-align: top;\n",
              "    }\n",
              "\n",
              "    .dataframe thead tr th {\n",
              "        text-align: left;\n",
              "    }\n",
              "\n",
              "    .dataframe thead tr:last-of-type th {\n",
              "        text-align: right;\n",
              "    }\n",
              "</style>\n",
              "<table border=\"1\" class=\"dataframe\">\n",
              "  <thead>\n",
              "    <tr>\n",
              "      <th></th>\n",
              "      <th></th>\n",
              "      <th colspan=\"2\" halign=\"left\">Impressions</th>\n",
              "      <th colspan=\"2\" halign=\"left\">Spent</th>\n",
              "    </tr>\n",
              "    <tr>\n",
              "      <th></th>\n",
              "      <th></th>\n",
              "      <th>Mean Impr</th>\n",
              "      <th>Std Impr</th>\n",
              "      <th>mean</th>\n",
              "      <th>std</th>\n",
              "    </tr>\n",
              "    <tr>\n",
              "      <th>Target Gender</th>\n",
              "      <th>Target Age</th>\n",
              "      <th></th>\n",
              "      <th></th>\n",
              "      <th></th>\n",
              "      <th></th>\n",
              "    </tr>\n",
              "  </thead>\n",
              "  <tbody>\n",
              "    <tr>\n",
              "      <th rowspan=\"5\" valign=\"top\">B</th>\n",
              "      <th>20-25</th>\n",
              "      <td>253095.906977</td>\n",
              "      <td>220118.048782</td>\n",
              "      <td>499999.627907</td>\n",
              "      <td>1.860085</td>\n",
              "    </tr>\n",
              "    <tr>\n",
              "      <th>20-30</th>\n",
              "      <td>246278.957895</td>\n",
              "      <td>211049.882019</td>\n",
              "      <td>499999.673684</td>\n",
              "      <td>1.812733</td>\n",
              "    </tr>\n",
              "    <tr>\n",
              "      <th>20-35</th>\n",
              "      <td>264852.931507</td>\n",
              "      <td>197293.628399</td>\n",
              "      <td>499999.767123</td>\n",
              "      <td>1.940222</td>\n",
              "    </tr>\n",
              "    <tr>\n",
              "      <th>20-40</th>\n",
              "      <td>228321.488095</td>\n",
              "      <td>208434.517524</td>\n",
              "      <td>499999.476190</td>\n",
              "      <td>2.170316</td>\n",
              "    </tr>\n",
              "    <tr>\n",
              "      <th>20-45</th>\n",
              "      <td>236630.157895</td>\n",
              "      <td>218371.855559</td>\n",
              "      <td>499999.789474</td>\n",
              "      <td>2.016018</td>\n",
              "    </tr>\n",
              "    <tr>\n",
              "      <th>...</th>\n",
              "      <th>...</th>\n",
              "      <td>...</td>\n",
              "      <td>...</td>\n",
              "      <td>...</td>\n",
              "      <td>...</td>\n",
              "    </tr>\n",
              "    <tr>\n",
              "      <th rowspan=\"5\" valign=\"top\">M</th>\n",
              "      <th>45-50</th>\n",
              "      <td>232670.947368</td>\n",
              "      <td>248178.780115</td>\n",
              "      <td>499998.473684</td>\n",
              "      <td>1.775400</td>\n",
              "    </tr>\n",
              "    <tr>\n",
              "      <th>45-55</th>\n",
              "      <td>254181.400000</td>\n",
              "      <td>205905.294496</td>\n",
              "      <td>499999.466667</td>\n",
              "      <td>2.065591</td>\n",
              "    </tr>\n",
              "    <tr>\n",
              "      <th>45-60</th>\n",
              "      <td>239934.000000</td>\n",
              "      <td>263584.741354</td>\n",
              "      <td>499999.800000</td>\n",
              "      <td>2.347576</td>\n",
              "    </tr>\n",
              "    <tr>\n",
              "      <th>45-65</th>\n",
              "      <td>259854.235294</td>\n",
              "      <td>268031.082570</td>\n",
              "      <td>499999.941176</td>\n",
              "      <td>1.819017</td>\n",
              "    </tr>\n",
              "    <tr>\n",
              "      <th>45-70</th>\n",
              "      <td>260034.333333</td>\n",
              "      <td>192571.424496</td>\n",
              "      <td>500000.666667</td>\n",
              "      <td>1.527525</td>\n",
              "    </tr>\n",
              "  </tbody>\n",
              "</table>\n",
              "<p>89 rows × 4 columns</p>\n",
              "</div>"
            ],
            "text/plain": [
              "                            Impressions                         Spent          \n",
              "                              Mean Impr       Std Impr           mean       std\n",
              "Target Gender Target Age                                                       \n",
              "B             20-25       253095.906977  220118.048782  499999.627907  1.860085\n",
              "              20-30       246278.957895  211049.882019  499999.673684  1.812733\n",
              "              20-35       264852.931507  197293.628399  499999.767123  1.940222\n",
              "              20-40       228321.488095  208434.517524  499999.476190  2.170316\n",
              "              20-45       236630.157895  218371.855559  499999.789474  2.016018\n",
              "...                                 ...            ...            ...       ...\n",
              "M             45-50       232670.947368  248178.780115  499998.473684  1.775400\n",
              "              45-55       254181.400000  205905.294496  499999.466667  2.065591\n",
              "              45-60       239934.000000  263584.741354  499999.800000  2.347576\n",
              "              45-65       259854.235294  268031.082570  499999.941176  1.819017\n",
              "              45-70       260034.333333  192571.424496  500000.666667  1.527525\n",
              "\n",
              "[89 rows x 4 columns]"
            ]
          },
          "metadata": {
            "tags": []
          },
          "execution_count": 112
        }
      ]
    },
    {
      "cell_type": "code",
      "metadata": {
        "id": "hCnDA54qSMbG",
        "colab_type": "code",
        "colab": {
          "base_uri": "https://localhost:8080/",
          "height": 1000
        },
        "outputId": "b84d9895-89f6-444d-82ed-2d0be95b8467"
      },
      "source": [
        "pivot = df.pivot_table(\n",
        " values=['Impressions', 'Clicks', 'Spent'],\n",
        " index=['Target Age'],\n",
        " columns=['Target Gender'],\n",
        " aggfunc=np.sum\n",
        ")\n",
        "pivot"
      ],
      "execution_count": 115,
      "outputs": [
        {
          "output_type": "execute_result",
          "data": {
            "text/html": [
              "<div>\n",
              "<style scoped>\n",
              "    .dataframe tbody tr th:only-of-type {\n",
              "        vertical-align: middle;\n",
              "    }\n",
              "\n",
              "    .dataframe tbody tr th {\n",
              "        vertical-align: top;\n",
              "    }\n",
              "\n",
              "    .dataframe thead tr th {\n",
              "        text-align: left;\n",
              "    }\n",
              "\n",
              "    .dataframe thead tr:last-of-type th {\n",
              "        text-align: right;\n",
              "    }\n",
              "</style>\n",
              "<table border=\"1\" class=\"dataframe\">\n",
              "  <thead>\n",
              "    <tr>\n",
              "      <th></th>\n",
              "      <th colspan=\"3\" halign=\"left\">Clicks</th>\n",
              "      <th colspan=\"3\" halign=\"left\">Impressions</th>\n",
              "      <th colspan=\"3\" halign=\"left\">Spent</th>\n",
              "    </tr>\n",
              "    <tr>\n",
              "      <th>Target Gender</th>\n",
              "      <th>B</th>\n",
              "      <th>F</th>\n",
              "      <th>M</th>\n",
              "      <th>B</th>\n",
              "      <th>F</th>\n",
              "      <th>M</th>\n",
              "      <th>B</th>\n",
              "      <th>F</th>\n",
              "      <th>M</th>\n",
              "    </tr>\n",
              "    <tr>\n",
              "      <th>Target Age</th>\n",
              "      <th></th>\n",
              "      <th></th>\n",
              "      <th></th>\n",
              "      <th></th>\n",
              "      <th></th>\n",
              "      <th></th>\n",
              "      <th></th>\n",
              "      <th></th>\n",
              "      <th></th>\n",
              "    </tr>\n",
              "  </thead>\n",
              "  <tbody>\n",
              "    <tr>\n",
              "      <th>20-25</th>\n",
              "      <td>44338206.0</td>\n",
              "      <td>35437302.0</td>\n",
              "      <td>33221236.0</td>\n",
              "      <td>21766248.0</td>\n",
              "      <td>18093305.0</td>\n",
              "      <td>16824460.0</td>\n",
              "      <td>42999968.0</td>\n",
              "      <td>33999989.0</td>\n",
              "      <td>31999993.0</td>\n",
              "    </tr>\n",
              "    <tr>\n",
              "      <th>20-30</th>\n",
              "      <td>49889451.0</td>\n",
              "      <td>42615385.0</td>\n",
              "      <td>41120930.0</td>\n",
              "      <td>23396501.0</td>\n",
              "      <td>23846744.0</td>\n",
              "      <td>21957243.0</td>\n",
              "      <td>47499969.0</td>\n",
              "      <td>43499954.0</td>\n",
              "      <td>37999944.0</td>\n",
              "    </tr>\n",
              "    <tr>\n",
              "      <th>20-35</th>\n",
              "      <td>38023621.0</td>\n",
              "      <td>39094567.0</td>\n",
              "      <td>43686118.0</td>\n",
              "      <td>19334264.0</td>\n",
              "      <td>19913628.0</td>\n",
              "      <td>21888160.0</td>\n",
              "      <td>36499983.0</td>\n",
              "      <td>37999966.0</td>\n",
              "      <td>42499969.0</td>\n",
              "    </tr>\n",
              "    <tr>\n",
              "      <th>20-40</th>\n",
              "      <td>39109501.0</td>\n",
              "      <td>41478987.0</td>\n",
              "      <td>34578051.0</td>\n",
              "      <td>19179005.0</td>\n",
              "      <td>20173596.0</td>\n",
              "      <td>18088257.0</td>\n",
              "      <td>41999956.0</td>\n",
              "      <td>40999962.0</td>\n",
              "      <td>34999950.0</td>\n",
              "    </tr>\n",
              "    <tr>\n",
              "      <th>20-45</th>\n",
              "      <td>9729420.0</td>\n",
              "      <td>7590531.0</td>\n",
              "      <td>5309248.0</td>\n",
              "      <td>4495973.0</td>\n",
              "      <td>4128328.0</td>\n",
              "      <td>3363876.0</td>\n",
              "      <td>9499996.0</td>\n",
              "      <td>9999993.0</td>\n",
              "      <td>4499999.0</td>\n",
              "    </tr>\n",
              "    <tr>\n",
              "      <th>25-30</th>\n",
              "      <td>35590906.0</td>\n",
              "      <td>35960414.0</td>\n",
              "      <td>40750434.0</td>\n",
              "      <td>16725383.0</td>\n",
              "      <td>16958204.0</td>\n",
              "      <td>18804237.0</td>\n",
              "      <td>35499993.0</td>\n",
              "      <td>36499952.0</td>\n",
              "      <td>39999952.0</td>\n",
              "    </tr>\n",
              "    <tr>\n",
              "      <th>25-35</th>\n",
              "      <td>33528947.0</td>\n",
              "      <td>28983006.0</td>\n",
              "      <td>43406125.0</td>\n",
              "      <td>16929617.0</td>\n",
              "      <td>14009461.0</td>\n",
              "      <td>21853438.0</td>\n",
              "      <td>33499923.0</td>\n",
              "      <td>28499973.0</td>\n",
              "      <td>38499980.0</td>\n",
              "    </tr>\n",
              "    <tr>\n",
              "      <th>25-40</th>\n",
              "      <td>38805882.0</td>\n",
              "      <td>44342912.0</td>\n",
              "      <td>39940583.0</td>\n",
              "      <td>18282784.0</td>\n",
              "      <td>19645496.0</td>\n",
              "      <td>17273414.0</td>\n",
              "      <td>41499990.0</td>\n",
              "      <td>42999961.0</td>\n",
              "      <td>40499961.0</td>\n",
              "    </tr>\n",
              "    <tr>\n",
              "      <th>25-45</th>\n",
              "      <td>35096402.0</td>\n",
              "      <td>42264786.0</td>\n",
              "      <td>34960269.0</td>\n",
              "      <td>16738279.0</td>\n",
              "      <td>22339615.0</td>\n",
              "      <td>16792813.0</td>\n",
              "      <td>40999961.0</td>\n",
              "      <td>41999966.0</td>\n",
              "      <td>39499933.0</td>\n",
              "    </tr>\n",
              "    <tr>\n",
              "      <th>25-50</th>\n",
              "      <td>7241016.0</td>\n",
              "      <td>7695901.0</td>\n",
              "      <td>8697281.0</td>\n",
              "      <td>3013999.0</td>\n",
              "      <td>4616372.0</td>\n",
              "      <td>5446927.0</td>\n",
              "      <td>7499993.0</td>\n",
              "      <td>6499995.0</td>\n",
              "      <td>7500002.0</td>\n",
              "    </tr>\n",
              "    <tr>\n",
              "      <th>30-35</th>\n",
              "      <td>41022935.0</td>\n",
              "      <td>41559615.0</td>\n",
              "      <td>37727605.0</td>\n",
              "      <td>19389311.0</td>\n",
              "      <td>20369317.0</td>\n",
              "      <td>19073156.0</td>\n",
              "      <td>39499927.0</td>\n",
              "      <td>44499954.0</td>\n",
              "      <td>37999962.0</td>\n",
              "    </tr>\n",
              "    <tr>\n",
              "      <th>30-40</th>\n",
              "      <td>38941204.0</td>\n",
              "      <td>34082477.0</td>\n",
              "      <td>39308232.0</td>\n",
              "      <td>18882192.0</td>\n",
              "      <td>16443677.0</td>\n",
              "      <td>19825316.0</td>\n",
              "      <td>40499945.0</td>\n",
              "      <td>35499970.0</td>\n",
              "      <td>37999946.0</td>\n",
              "    </tr>\n",
              "    <tr>\n",
              "      <th>30-45</th>\n",
              "      <td>31951606.0</td>\n",
              "      <td>46917512.0</td>\n",
              "      <td>29623005.0</td>\n",
              "      <td>16126856.0</td>\n",
              "      <td>22496559.0</td>\n",
              "      <td>15018048.0</td>\n",
              "      <td>31999967.0</td>\n",
              "      <td>42999949.0</td>\n",
              "      <td>27999965.0</td>\n",
              "    </tr>\n",
              "    <tr>\n",
              "      <th>30-50</th>\n",
              "      <td>29253419.0</td>\n",
              "      <td>30911711.0</td>\n",
              "      <td>32630993.0</td>\n",
              "      <td>13963054.0</td>\n",
              "      <td>13259429.0</td>\n",
              "      <td>17551160.0</td>\n",
              "      <td>32499980.0</td>\n",
              "      <td>28999973.0</td>\n",
              "      <td>34499942.0</td>\n",
              "    </tr>\n",
              "    <tr>\n",
              "      <th>30-55</th>\n",
              "      <td>9383039.0</td>\n",
              "      <td>8416281.0</td>\n",
              "      <td>9802003.0</td>\n",
              "      <td>4841910.0</td>\n",
              "      <td>4890419.0</td>\n",
              "      <td>4585883.0</td>\n",
              "      <td>8999988.0</td>\n",
              "      <td>7499980.0</td>\n",
              "      <td>10000008.0</td>\n",
              "    </tr>\n",
              "    <tr>\n",
              "      <th>35-40</th>\n",
              "      <td>48877941.0</td>\n",
              "      <td>39557976.0</td>\n",
              "      <td>34721476.0</td>\n",
              "      <td>23315291.0</td>\n",
              "      <td>20385321.0</td>\n",
              "      <td>18711821.0</td>\n",
              "      <td>48999949.0</td>\n",
              "      <td>37499962.0</td>\n",
              "      <td>35499951.0</td>\n",
              "    </tr>\n",
              "    <tr>\n",
              "      <th>35-45</th>\n",
              "      <td>40725869.0</td>\n",
              "      <td>28422637.0</td>\n",
              "      <td>35424976.0</td>\n",
              "      <td>19856652.0</td>\n",
              "      <td>13895591.0</td>\n",
              "      <td>18552370.0</td>\n",
              "      <td>39499978.0</td>\n",
              "      <td>31499934.0</td>\n",
              "      <td>35999980.0</td>\n",
              "    </tr>\n",
              "    <tr>\n",
              "      <th>35-50</th>\n",
              "      <td>40538368.0</td>\n",
              "      <td>37668875.0</td>\n",
              "      <td>38613474.0</td>\n",
              "      <td>19033580.0</td>\n",
              "      <td>18083339.0</td>\n",
              "      <td>19785218.0</td>\n",
              "      <td>42999924.0</td>\n",
              "      <td>35499978.0</td>\n",
              "      <td>42999956.0</td>\n",
              "    </tr>\n",
              "    <tr>\n",
              "      <th>35-55</th>\n",
              "      <td>47479661.0</td>\n",
              "      <td>36232662.0</td>\n",
              "      <td>53018300.0</td>\n",
              "      <td>27778622.0</td>\n",
              "      <td>18267938.0</td>\n",
              "      <td>25333554.0</td>\n",
              "      <td>45499958.0</td>\n",
              "      <td>35999948.0</td>\n",
              "      <td>49999945.0</td>\n",
              "    </tr>\n",
              "    <tr>\n",
              "      <th>35-60</th>\n",
              "      <td>9832584.0</td>\n",
              "      <td>9255031.0</td>\n",
              "      <td>3570573.0</td>\n",
              "      <td>5952601.0</td>\n",
              "      <td>5644014.0</td>\n",
              "      <td>1198883.0</td>\n",
              "      <td>9499984.0</td>\n",
              "      <td>8999992.0</td>\n",
              "      <td>3999995.0</td>\n",
              "    </tr>\n",
              "    <tr>\n",
              "      <th>40-45</th>\n",
              "      <td>46307315.0</td>\n",
              "      <td>26677980.0</td>\n",
              "      <td>31825186.0</td>\n",
              "      <td>25024435.0</td>\n",
              "      <td>12030948.0</td>\n",
              "      <td>14006623.0</td>\n",
              "      <td>46999930.0</td>\n",
              "      <td>26999997.0</td>\n",
              "      <td>37999963.0</td>\n",
              "    </tr>\n",
              "    <tr>\n",
              "      <th>40-50</th>\n",
              "      <td>34497061.0</td>\n",
              "      <td>37251384.0</td>\n",
              "      <td>41278651.0</td>\n",
              "      <td>18426990.0</td>\n",
              "      <td>18207781.0</td>\n",
              "      <td>22293343.0</td>\n",
              "      <td>35999966.0</td>\n",
              "      <td>36499936.0</td>\n",
              "      <td>40499955.0</td>\n",
              "    </tr>\n",
              "    <tr>\n",
              "      <th>40-55</th>\n",
              "      <td>37760430.0</td>\n",
              "      <td>27911535.0</td>\n",
              "      <td>36768178.0</td>\n",
              "      <td>18965227.0</td>\n",
              "      <td>13935117.0</td>\n",
              "      <td>20522955.0</td>\n",
              "      <td>35499956.0</td>\n",
              "      <td>28499966.0</td>\n",
              "      <td>36499954.0</td>\n",
              "    </tr>\n",
              "    <tr>\n",
              "      <th>40-60</th>\n",
              "      <td>35665435.0</td>\n",
              "      <td>33825620.0</td>\n",
              "      <td>31983316.0</td>\n",
              "      <td>19049222.0</td>\n",
              "      <td>15201880.0</td>\n",
              "      <td>15486097.0</td>\n",
              "      <td>34999951.0</td>\n",
              "      <td>36999978.0</td>\n",
              "      <td>34999938.0</td>\n",
              "    </tr>\n",
              "    <tr>\n",
              "      <th>40-65</th>\n",
              "      <td>10207723.0</td>\n",
              "      <td>5625523.0</td>\n",
              "      <td>8462242.0</td>\n",
              "      <td>4449174.0</td>\n",
              "      <td>2475502.0</td>\n",
              "      <td>4965185.0</td>\n",
              "      <td>8999989.0</td>\n",
              "      <td>7000001.0</td>\n",
              "      <td>8499988.0</td>\n",
              "    </tr>\n",
              "    <tr>\n",
              "      <th>45-50</th>\n",
              "      <td>7326457.0</td>\n",
              "      <td>5720240.0</td>\n",
              "      <td>8167261.0</td>\n",
              "      <td>3676501.0</td>\n",
              "      <td>2090928.0</td>\n",
              "      <td>4420748.0</td>\n",
              "      <td>7499996.0</td>\n",
              "      <td>6000003.0</td>\n",
              "      <td>9499971.0</td>\n",
              "    </tr>\n",
              "    <tr>\n",
              "      <th>45-55</th>\n",
              "      <td>8010514.0</td>\n",
              "      <td>10486694.0</td>\n",
              "      <td>7514433.0</td>\n",
              "      <td>3821020.0</td>\n",
              "      <td>6071823.0</td>\n",
              "      <td>3812721.0</td>\n",
              "      <td>9499998.0</td>\n",
              "      <td>7999990.0</td>\n",
              "      <td>7499992.0</td>\n",
              "    </tr>\n",
              "    <tr>\n",
              "      <th>45-60</th>\n",
              "      <td>7561044.0</td>\n",
              "      <td>5580577.0</td>\n",
              "      <td>5002075.0</td>\n",
              "      <td>3206841.0</td>\n",
              "      <td>3182246.0</td>\n",
              "      <td>2399340.0</td>\n",
              "      <td>7499989.0</td>\n",
              "      <td>5999989.0</td>\n",
              "      <td>4999998.0</td>\n",
              "    </tr>\n",
              "    <tr>\n",
              "      <th>45-65</th>\n",
              "      <td>13076677.0</td>\n",
              "      <td>9258918.0</td>\n",
              "      <td>7562078.0</td>\n",
              "      <td>5434520.0</td>\n",
              "      <td>4797947.0</td>\n",
              "      <td>4417522.0</td>\n",
              "      <td>12499990.0</td>\n",
              "      <td>8999989.0</td>\n",
              "      <td>8499999.0</td>\n",
              "    </tr>\n",
              "    <tr>\n",
              "      <th>45-70</th>\n",
              "      <td>1500260.0</td>\n",
              "      <td>NaN</td>\n",
              "      <td>1102080.0</td>\n",
              "      <td>427730.0</td>\n",
              "      <td>NaN</td>\n",
              "      <td>780103.0</td>\n",
              "      <td>999997.0</td>\n",
              "      <td>NaN</td>\n",
              "      <td>1500002.0</td>\n",
              "    </tr>\n",
              "  </tbody>\n",
              "</table>\n",
              "</div>"
            ],
            "text/plain": [
              "                   Clicks              ...       Spent            \n",
              "Target Gender           B           F  ...           F           M\n",
              "Target Age                             ...                        \n",
              "20-25          44338206.0  35437302.0  ...  33999989.0  31999993.0\n",
              "20-30          49889451.0  42615385.0  ...  43499954.0  37999944.0\n",
              "20-35          38023621.0  39094567.0  ...  37999966.0  42499969.0\n",
              "20-40          39109501.0  41478987.0  ...  40999962.0  34999950.0\n",
              "20-45           9729420.0   7590531.0  ...   9999993.0   4499999.0\n",
              "25-30          35590906.0  35960414.0  ...  36499952.0  39999952.0\n",
              "25-35          33528947.0  28983006.0  ...  28499973.0  38499980.0\n",
              "25-40          38805882.0  44342912.0  ...  42999961.0  40499961.0\n",
              "25-45          35096402.0  42264786.0  ...  41999966.0  39499933.0\n",
              "25-50           7241016.0   7695901.0  ...   6499995.0   7500002.0\n",
              "30-35          41022935.0  41559615.0  ...  44499954.0  37999962.0\n",
              "30-40          38941204.0  34082477.0  ...  35499970.0  37999946.0\n",
              "30-45          31951606.0  46917512.0  ...  42999949.0  27999965.0\n",
              "30-50          29253419.0  30911711.0  ...  28999973.0  34499942.0\n",
              "30-55           9383039.0   8416281.0  ...   7499980.0  10000008.0\n",
              "35-40          48877941.0  39557976.0  ...  37499962.0  35499951.0\n",
              "35-45          40725869.0  28422637.0  ...  31499934.0  35999980.0\n",
              "35-50          40538368.0  37668875.0  ...  35499978.0  42999956.0\n",
              "35-55          47479661.0  36232662.0  ...  35999948.0  49999945.0\n",
              "35-60           9832584.0   9255031.0  ...   8999992.0   3999995.0\n",
              "40-45          46307315.0  26677980.0  ...  26999997.0  37999963.0\n",
              "40-50          34497061.0  37251384.0  ...  36499936.0  40499955.0\n",
              "40-55          37760430.0  27911535.0  ...  28499966.0  36499954.0\n",
              "40-60          35665435.0  33825620.0  ...  36999978.0  34999938.0\n",
              "40-65          10207723.0   5625523.0  ...   7000001.0   8499988.0\n",
              "45-50           7326457.0   5720240.0  ...   6000003.0   9499971.0\n",
              "45-55           8010514.0  10486694.0  ...   7999990.0   7499992.0\n",
              "45-60           7561044.0   5580577.0  ...   5999989.0   4999998.0\n",
              "45-65          13076677.0   9258918.0  ...   8999989.0   8499999.0\n",
              "45-70           1500260.0         NaN  ...         NaN   1500002.0\n",
              "\n",
              "[30 rows x 9 columns]"
            ]
          },
          "metadata": {
            "tags": []
          },
          "execution_count": 115
        }
      ]
    },
    {
      "cell_type": "code",
      "metadata": {
        "id": "5WgrMsR7T0Nj",
        "colab_type": "code",
        "colab": {}
      },
      "source": [
        ""
      ],
      "execution_count": 0,
      "outputs": []
    },
    {
      "cell_type": "markdown",
      "metadata": {
        "id": "Kx0axgOrVm-X",
        "colab_type": "text"
      },
      "source": [
        ""
      ]
    }
  ]
}