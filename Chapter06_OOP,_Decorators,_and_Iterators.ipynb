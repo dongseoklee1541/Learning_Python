{
  "nbformat": 4,
  "nbformat_minor": 0,
  "metadata": {
    "colab": {
      "name": "Chapter06_OOP, Decorators, and Iterators.ipynb",
      "provenance": []
    },
    "kernelspec": {
      "name": "python3",
      "display_name": "Python 3"
    }
  },
  "cells": [
    {
      "cell_type": "code",
      "metadata": {
        "id": "Ifje-BRxcZL7",
        "colab_type": "code",
        "colab": {
          "base_uri": "https://localhost:8080/",
          "height": 35
        },
        "outputId": "14abf289-790a-44a8-9a2e-4da7e24a88b4"
      },
      "source": [
        "from time import sleep, time\n",
        "\n",
        "def f():\n",
        "  sleep(.3)\n",
        "\n",
        "def g():\n",
        "  sleep(.5)\n",
        "\n",
        "t = time()\n",
        "f()\n",
        "print('f took: ', time() - t)"
      ],
      "execution_count": 1,
      "outputs": [
        {
          "output_type": "stream",
          "text": [
            "f took:  0.3005802631378174\n"
          ],
          "name": "stdout"
        }
      ]
    },
    {
      "cell_type": "code",
      "metadata": {
        "id": "YjgaqlbFcJrY",
        "colab_type": "code",
        "colab": {
          "base_uri": "https://localhost:8080/",
          "height": 35
        },
        "outputId": "c1b3db7e-b5a4-483f-d2dd-6cd7d7c63dc8"
      },
      "source": [
        "t = time()\n",
        "g()\n",
        "print('g took:', time() - t)"
      ],
      "execution_count": 3,
      "outputs": [
        {
          "output_type": "stream",
          "text": [
            "g took: 0.5007472038269043\n"
          ],
          "name": "stdout"
        }
      ]
    },
    {
      "cell_type": "code",
      "metadata": {
        "id": "sZuxpJw_dIxt",
        "colab_type": "code",
        "colab": {}
      },
      "source": [
        "def measure(func):\n",
        "  t = time()\n",
        "  func()\n",
        "  print(func.__name__, 'took:', time() - t)"
      ],
      "execution_count": 0,
      "outputs": []
    },
    {
      "cell_type": "code",
      "metadata": {
        "id": "AN6AplUpdWJk",
        "colab_type": "code",
        "colab": {
          "base_uri": "https://localhost:8080/",
          "height": 35
        },
        "outputId": "747a4d8c-b929-4d34-a926-0bb48cbec52e"
      },
      "source": [
        "measure(f)"
      ],
      "execution_count": 5,
      "outputs": [
        {
          "output_type": "stream",
          "text": [
            "f took: 0.30041956901550293\n"
          ],
          "name": "stdout"
        }
      ]
    },
    {
      "cell_type": "code",
      "metadata": {
        "id": "6vurMxYUdXzu",
        "colab_type": "code",
        "colab": {
          "base_uri": "https://localhost:8080/",
          "height": 35
        },
        "outputId": "def10e04-4412-4104-910b-3f5e6611874e"
      },
      "source": [
        "measure(g)"
      ],
      "execution_count": 6,
      "outputs": [
        {
          "output_type": "stream",
          "text": [
            "g took: 0.5006206035614014\n"
          ],
          "name": "stdout"
        }
      ]
    },
    {
      "cell_type": "code",
      "metadata": {
        "id": "XLeCxf1UdY-X",
        "colab_type": "code",
        "colab": {}
      },
      "source": [
        "def f(sleep_time = 0.1):\n",
        "  sleep(sleep_time)"
      ],
      "execution_count": 0,
      "outputs": []
    },
    {
      "cell_type": "code",
      "metadata": {
        "id": "pCQ9JAEtdyVA",
        "colab_type": "code",
        "colab": {}
      },
      "source": [
        "def measure(func,*args,**kwargs):\n",
        "  t = time()\n",
        "  func(*args, **kwargs)\n",
        "  print(func.__name__, 'took:', time() - t)"
      ],
      "execution_count": 0,
      "outputs": []
    },
    {
      "cell_type": "code",
      "metadata": {
        "id": "0hiLqJf-d92I",
        "colab_type": "code",
        "colab": {
          "base_uri": "https://localhost:8080/",
          "height": 35
        },
        "outputId": "24391365-db7e-4df8-95e7-9241a467b16a"
      },
      "source": [
        "measure(f,sleep_time=0.3)"
      ],
      "execution_count": 12,
      "outputs": [
        {
          "output_type": "stream",
          "text": [
            "f took: 0.3003983497619629\n"
          ],
          "name": "stdout"
        }
      ]
    },
    {
      "cell_type": "code",
      "metadata": {
        "id": "BidoJw2veCbR",
        "colab_type": "code",
        "colab": {
          "base_uri": "https://localhost:8080/",
          "height": 35
        },
        "outputId": "0e5f5364-51fd-4eee-9516-a55ccb67cf1b"
      },
      "source": [
        "measure(f,0.2)"
      ],
      "execution_count": 13,
      "outputs": [
        {
          "output_type": "stream",
          "text": [
            "f took: 0.20128536224365234\n"
          ],
          "name": "stdout"
        }
      ]
    },
    {
      "cell_type": "code",
      "metadata": {
        "id": "gAkw_9VPf7EE",
        "colab_type": "code",
        "colab": {}
      },
      "source": [
        "def f(sleep_time=0.1):\n",
        "  sleep(sleep_time)"
      ],
      "execution_count": 0,
      "outputs": []
    },
    {
      "cell_type": "code",
      "metadata": {
        "id": "I079hFaFeMW7",
        "colab_type": "code",
        "colab": {}
      },
      "source": [
        "def measure(func):\n",
        "  def wrapper(*args,**kwargs):\n",
        "    t = time()\n",
        "    func(*args, **kwargs)\n",
        "    print(func.__name__, 'took:', time() - t)\n",
        "  return wrapper"
      ],
      "execution_count": 0,
      "outputs": []
    },
    {
      "cell_type": "code",
      "metadata": {
        "id": "EYZzVqejfArr",
        "colab_type": "code",
        "colab": {}
      },
      "source": [
        "f = measure(f)"
      ],
      "execution_count": 0,
      "outputs": []
    },
    {
      "cell_type": "code",
      "metadata": {
        "id": "OFjRXBo5fEij",
        "colab_type": "code",
        "colab": {
          "base_uri": "https://localhost:8080/",
          "height": 35
        },
        "outputId": "6d199f02-7286-405b-933d-8acfa0bfd86e"
      },
      "source": [
        "f(0.2)"
      ],
      "execution_count": 27,
      "outputs": [
        {
          "output_type": "stream",
          "text": [
            "f took: 0.2019047737121582\n"
          ],
          "name": "stdout"
        }
      ]
    },
    {
      "cell_type": "code",
      "metadata": {
        "id": "Z7E19zOnfGVH",
        "colab_type": "code",
        "colab": {
          "base_uri": "https://localhost:8080/",
          "height": 35
        },
        "outputId": "0f986b6d-e62d-411a-bc07-71683affd7ae"
      },
      "source": [
        "f(sleep_time=0.3)"
      ],
      "execution_count": 28,
      "outputs": [
        {
          "output_type": "stream",
          "text": [
            "f took: 0.30078673362731934\n"
          ],
          "name": "stdout"
        }
      ]
    },
    {
      "cell_type": "code",
      "metadata": {
        "id": "E6mNaBCzfmU6",
        "colab_type": "code",
        "colab": {
          "base_uri": "https://localhost:8080/",
          "height": 35
        },
        "outputId": "91e6e621-2cf4-4b42-9dcc-2420021655b4"
      },
      "source": [
        "print(f.__name__)"
      ],
      "execution_count": 29,
      "outputs": [
        {
          "output_type": "stream",
          "text": [
            "wrapper\n"
          ],
          "name": "stdout"
        }
      ]
    },
    {
      "cell_type": "markdown",
      "metadata": {
        "id": "L6wnUcrrlHvC",
        "colab_type": "text"
      },
      "source": [
        "퍼스트 클래스 함수"
      ]
    },
    {
      "cell_type": "code",
      "metadata": {
        "id": "yhK6N6hnkvrL",
        "colab_type": "code",
        "colab": {
          "base_uri": "https://localhost:8080/",
          "height": 72
        },
        "outputId": "9bf67440-c57a-492b-d381-b3238d68f3c9"
      },
      "source": [
        "def square(x):\n",
        "  return x*x\n",
        "\n",
        "print(square(5))\n",
        "\n",
        "f = square\n",
        "\n",
        "print(square)\n",
        "print(f)"
      ],
      "execution_count": 32,
      "outputs": [
        {
          "output_type": "stream",
          "text": [
            "25\n",
            "<function square at 0x7f711aba2510>\n",
            "<function square at 0x7f711aba2510>\n"
          ],
          "name": "stdout"
        }
      ]
    },
    {
      "cell_type": "code",
      "metadata": {
        "id": "STJJf-izlSLQ",
        "colab_type": "code",
        "colab": {
          "base_uri": "https://localhost:8080/",
          "height": 35
        },
        "outputId": "d9eff7bf-4299-4abc-ca38-13a69cd51850"
      },
      "source": [
        "print(f(5))"
      ],
      "execution_count": 33,
      "outputs": [
        {
          "output_type": "stream",
          "text": [
            "25\n"
          ],
          "name": "stdout"
        }
      ]
    },
    {
      "cell_type": "code",
      "metadata": {
        "id": "bLOEw3rjlZQI",
        "colab_type": "code",
        "colab": {
          "base_uri": "https://localhost:8080/",
          "height": 35
        },
        "outputId": "7f582e05-8c8e-4d75-eb6b-8e12e4a454e2"
      },
      "source": [
        "def square(x):\n",
        "  return x*x\n",
        "\n",
        "def my_map(func,arg_list):\n",
        "  result = []\n",
        "  for i in arg_list:\n",
        "    result.append(func(i))\n",
        "  return result\n",
        "\n",
        "num_list = [1,2,3,4,5]\n",
        "\n",
        "sqaures = my_map(square,num_list)\n",
        "\n",
        "print(sqaures)"
      ],
      "execution_count": 36,
      "outputs": [
        {
          "output_type": "stream",
          "text": [
            "[1, 4, 9, 16, 25]\n"
          ],
          "name": "stdout"
        }
      ]
    },
    {
      "cell_type": "code",
      "metadata": {
        "id": "nB1z3h8Ylu3-",
        "colab_type": "code",
        "colab": {
          "base_uri": "https://localhost:8080/",
          "height": 35
        },
        "outputId": "1822f592-1f80-41e4-fefc-48c575a655e0"
      },
      "source": [
        "def simple_sqaure(args_list):\n",
        "  result = []\n",
        "  for i in args_list:\n",
        "    result.append(i * i)\n",
        "  return result\n",
        "\n",
        "simple_sqaures = simple_sqaure(num_list)\n",
        "print(simple_sqaures)"
      ],
      "execution_count": 38,
      "outputs": [
        {
          "output_type": "stream",
          "text": [
            "[1, 4, 9, 16, 25]\n"
          ],
          "name": "stdout"
        }
      ]
    },
    {
      "cell_type": "code",
      "metadata": {
        "id": "-7iL_Q2emO3o",
        "colab_type": "code",
        "colab": {
          "base_uri": "https://localhost:8080/",
          "height": 72
        },
        "outputId": "28870d2e-4715-4263-f5ed-5878874918f0"
      },
      "source": [
        "def square(x):\n",
        "    return x * x\n",
        "\n",
        "def cube(x):\n",
        "    return x * x * x\n",
        "\n",
        "def quad(x):\n",
        "    return x * x * x * x\n",
        "\n",
        "def my_map(func, arg_list):\n",
        "    result = []\n",
        "    for i in arg_list:\n",
        "        result.append(func(i)) # square 함수 호출, func == square\n",
        "    return result\n",
        "\n",
        "num_list = [1, 2, 3, 4, 5]\n",
        "\n",
        "squares = my_map(square, num_list)\n",
        "cubes = my_map(cube, num_list)\n",
        "quads = my_map(quad, num_list)\n",
        "\n",
        "print(sqaures)\n",
        "print(cubes)\n",
        "print(quads)"
      ],
      "execution_count": 39,
      "outputs": [
        {
          "output_type": "stream",
          "text": [
            "[1, 4, 9, 16, 25]\n",
            "[1, 8, 27, 64, 125]\n",
            "[1, 16, 81, 256, 625]\n"
          ],
          "name": "stdout"
        }
      ]
    },
    {
      "cell_type": "code",
      "metadata": {
        "id": "29h-SKmsmbCi",
        "colab_type": "code",
        "colab": {
          "base_uri": "https://localhost:8080/",
          "height": 53
        },
        "outputId": "2440b28b-1907-4d76-9d1a-2515cbb47eb2"
      },
      "source": [
        "def logger(msg):\n",
        "  def log_message(): # 클로저(closure), 다른 함수의 지역변수를 그 함수가 종료된 후에도 기억\n",
        "    print('Log: ', msg)\n",
        "\n",
        "  return log_message\n",
        "\n",
        "log_hi = logger('Hi')\n",
        "print(log_hi)\n",
        "log_hi()"
      ],
      "execution_count": 40,
      "outputs": [
        {
          "output_type": "stream",
          "text": [
            "<function logger.<locals>.log_message at 0x7f711aab9d08>\n",
            "Log:  Hi\n"
          ],
          "name": "stdout"
        }
      ]
    },
    {
      "cell_type": "code",
      "metadata": {
        "id": "Nmbgu9hdm6Zt",
        "colab_type": "code",
        "colab": {
          "base_uri": "https://localhost:8080/",
          "height": 53
        },
        "outputId": "7738602e-23d9-4bdc-e088-02714b4cbfb9"
      },
      "source": [
        "del logger\n",
        "try:\n",
        "  print(logger)\n",
        "except NameError:\n",
        "  print('NameError: logger는 존재하지 않습니다.')\n",
        "\n",
        "log_hi() # logger가 지워진 뒤에도 log_meesage 함수는 'Hi'를 기억함"
      ],
      "execution_count": 41,
      "outputs": [
        {
          "output_type": "stream",
          "text": [
            "NameError: logger는 존재하지 않습니다.\n",
            "Log:  Hi\n"
          ],
          "name": "stdout"
        }
      ]
    },
    {
      "cell_type": "code",
      "metadata": {
        "id": "PL7m60MpoBqO",
        "colab_type": "code",
        "colab": {
          "base_uri": "https://localhost:8080/",
          "height": 35
        },
        "outputId": "efa9576b-d0f4-4509-8831-4e848244db5d"
      },
      "source": [
        "def decorator_function(original_function):\n",
        "  def wrapper_function():\n",
        "    return original_function()\n",
        "  return wrapper_function\n",
        "\n",
        "def display():\n",
        "  print(\"display 함수가 실행되었습니다.\")\n",
        "\n",
        "decorated_display = decorator_function(display)\n",
        "decorated_display()"
      ],
      "execution_count": 42,
      "outputs": [
        {
          "output_type": "stream",
          "text": [
            "display 함수가 실행되었습니다.\n"
          ],
          "name": "stdout"
        }
      ]
    },
    {
      "cell_type": "code",
      "metadata": {
        "id": "M0SA7d4TrLs1",
        "colab_type": "code",
        "colab": {}
      },
      "source": [
        "def func()"
      ],
      "execution_count": 0,
      "outputs": []
    },
    {
      "cell_type": "code",
      "metadata": {
        "id": "Fsw9s1kjrgp1",
        "colab_type": "code",
        "colab": {
          "base_uri": "https://localhost:8080/",
          "height": 108
        },
        "outputId": "22b57056-807c-4de3-c67e-70c7b691f860"
      },
      "source": [
        "def decorator_function(original_function):\n",
        "  def wrapper_function():\n",
        "    print('{}함수가 호출되기전 입니다.'.format(original_function.__name__))\n",
        "    return original_function()\n",
        "  return wrapper_function\n",
        "\n",
        "@decorator_function #1\n",
        "def display_1():\n",
        "  print(\"display_1 함수가 실행됐습니다.\")\n",
        "\n",
        "@decorator_function #2\n",
        "def display_2():\n",
        "  print(\"display_2 함수가 실행됐습니다.\")\n",
        "\n",
        "# display_1 = decorator_function(display_1)  #3\n",
        "# display_2 = decorator_function(display_2)  #4\n",
        "\n",
        "display_1()\n",
        "print(display_2())"
      ],
      "execution_count": 44,
      "outputs": [
        {
          "output_type": "stream",
          "text": [
            "display_1함수가 호출되기전 입니다.\n",
            "display_1 함수가 실행됐습니다.\n",
            "display_2함수가 호출되기전 입니다.\n",
            "display_2 함수가 실행됐습니다.\n",
            "None\n"
          ],
          "name": "stdout"
        }
      ]
    },
    {
      "cell_type": "code",
      "metadata": {
        "id": "7IE3IYqOpN97",
        "colab_type": "code",
        "colab": {
          "base_uri": "https://localhost:8080/",
          "height": 108
        },
        "outputId": "6e6bf80b-c2c5-4ce7-a0a7-9eb88913c86d"
      },
      "source": [
        "def decorator_function(original_function):\n",
        "  def wrapper_function(*args,**kwargs): #1 인자 추가\n",
        "    print('{}함수가 호출되기전 입니다.'.format(original_function.__name__))\n",
        "    return original_function(*args, **kwargs) #2 인자 추가\n",
        "  return wrapper_function\n",
        "\n",
        "@decorator_function\n",
        "def display():\n",
        "  print(\"display 함수가 실행됐습니다.\")\n",
        "\n",
        "@decorator_function\n",
        "def display_info(name,age):\n",
        "  print(\"display_info({}.{}) 함수가 실행됐습니다.\".format(name,age))\n",
        "\n",
        "display()\n",
        "print(display_info('John',25))"
      ],
      "execution_count": 45,
      "outputs": [
        {
          "output_type": "stream",
          "text": [
            "display함수가 호출되기전 입니다.\n",
            "display 함수가 실행됐습니다.\n",
            "display_info함수가 호출되기전 입니다.\n",
            "display_info(John.25) 함수가 실행됐습니다.\n",
            "None\n"
          ],
          "name": "stdout"
        }
      ]
    },
    {
      "cell_type": "code",
      "metadata": {
        "id": "OrwsC2rSstPT",
        "colab_type": "code",
        "colab": {
          "base_uri": "https://localhost:8080/",
          "height": 35
        },
        "outputId": "b5b9c20e-ce9f-4c78-9838-918cc997c0ec"
      },
      "source": [
        "from time import sleep, time\n",
        "from functools import wraps\n",
        "\n",
        "def measure(func):\n",
        "  @wraps(func) # wrapper 함수 사용하기\n",
        "  def wrapper(*args,**kwargs):\n",
        "    t = time()\n",
        "    func(*args, **kwargs)\n",
        "    print(func.__name__, 'took:', time() - t)\n",
        "  return wrapper\n",
        "\n",
        "@measure\n",
        "def f(sleep_time=0.1):\n",
        "  \"\"\"I'm a cat. I love to sleep! \"\"\"\n",
        "  sleep(sleep_time)\n",
        "\n",
        "f(sleep_time = 0.3)"
      ],
      "execution_count": 48,
      "outputs": [
        {
          "output_type": "stream",
          "text": [
            "f took: 0.30298542976379395\n"
          ],
          "name": "stdout"
        }
      ]
    },
    {
      "cell_type": "code",
      "metadata": {
        "id": "aPAaGuqwt25h",
        "colab_type": "code",
        "colab": {
          "base_uri": "https://localhost:8080/",
          "height": 35
        },
        "outputId": "38259cf0-49d4-4966-bafd-55e2e0e6de84"
      },
      "source": [
        "print(f.__name__, ':', f.__doc__)"
      ],
      "execution_count": 49,
      "outputs": [
        {
          "output_type": "stream",
          "text": [
            "f : I'm a cat. I love to sleep! \n"
          ],
          "name": "stdout"
        }
      ]
    },
    {
      "cell_type": "markdown",
      "metadata": {
        "id": "5Gdqspg-vVo8",
        "colab_type": "text"
      },
      "source": [
        "데코레이터 2개 동시에 사용하기"
      ]
    },
    {
      "cell_type": "code",
      "metadata": {
        "id": "svK7rhg6t6U6",
        "colab_type": "code",
        "colab": {}
      },
      "source": [
        "def measure(func):\n",
        "  @wraps(func)\n",
        "  def wrapper(*args,**kwargs):\n",
        "    t = time()\n",
        "    result = func(*args, **kwargs)\n",
        "    print(func.__name__, 'took:', time() - t)\n",
        "    return result\n",
        "  return wrapper\n",
        "\n",
        "def max_result(func):\n",
        "  @wraps(func)\n",
        "  def wrapper(*args, **kwargs):\n",
        "    result = func(*args, **kwargs)\n",
        "    if result > 100:\n",
        "      print('Result is too big ({0}). Max allowed is 100.'.format(result))\n",
        "    return result\n",
        "  return wrapper\n",
        "\n",
        "@measure\n",
        "@max_result\n",
        "def cube(n):\n",
        "  return n**3\n"
      ],
      "execution_count": 0,
      "outputs": []
    },
    {
      "cell_type": "code",
      "metadata": {
        "id": "nD05BSO1uniD",
        "colab_type": "code",
        "colab": {
          "base_uri": "https://localhost:8080/",
          "height": 53
        },
        "outputId": "43266f43-0bcd-420a-f033-9012e5da9726"
      },
      "source": [
        "print(cube(2))"
      ],
      "execution_count": 52,
      "outputs": [
        {
          "output_type": "stream",
          "text": [
            "cube took: 6.9141387939453125e-06\n",
            "8\n"
          ],
          "name": "stdout"
        }
      ]
    },
    {
      "cell_type": "code",
      "metadata": {
        "id": "ihyVtHhOvPxf",
        "colab_type": "code",
        "colab": {
          "base_uri": "https://localhost:8080/",
          "height": 72
        },
        "outputId": "857faf37-06fc-4905-f081-84ece0e5b26d"
      },
      "source": [
        "print(cube(5))"
      ],
      "execution_count": 53,
      "outputs": [
        {
          "output_type": "stream",
          "text": [
            "Result is too big (125). Max allowed is 100.\n",
            "cube took: 0.000980377197265625\n",
            "125\n"
          ],
          "name": "stdout"
        }
      ]
    },
    {
      "cell_type": "markdown",
      "metadata": {
        "id": "JNh2rMaSwrAa",
        "colab_type": "text"
      },
      "source": [
        "# A decorator factory"
      ]
    },
    {
      "cell_type": "code",
      "metadata": {
        "id": "w2tZd-51wq1T",
        "colab_type": "code",
        "colab": {
          "base_uri": "https://localhost:8080/",
          "height": 53
        },
        "outputId": "0dc9a1a5-5ca4-4051-c36e-4e6759a165b8"
      },
      "source": [
        "def max_result(threashold): \n",
        "  def decorator(func):\n",
        "    @wraps(func)\n",
        "    def wrapper(*args, **kwargs):\n",
        "      result = func(*args, **kwargs)\n",
        "      if result > threashold: # 임계값을 넣어서 다이나믹하게 실행 가능\n",
        "        print(\n",
        "            'Result is too big ({0}). Max allowed is {1}'\n",
        "            .format(result,threashold))\n",
        "      return result\n",
        "    return wrapper\n",
        "  return decorator\n",
        "\n",
        "@max_result(75) # 임계값 자체를 넣어서 실행\n",
        "def cube(n):\n",
        "  return n ** 3\n",
        "print(cube(5))"
      ],
      "execution_count": 54,
      "outputs": [
        {
          "output_type": "stream",
          "text": [
            "Result is too big (125). Max allowed is 75\n",
            "125\n"
          ],
          "name": "stdout"
        }
      ]
    },
    {
      "cell_type": "markdown",
      "metadata": {
        "id": "28JFww0Bxcnt",
        "colab_type": "text"
      },
      "source": [
        "# Object-oriented programming\n",
        "### class\n",
        "class는 object를 만드는데 사용된다.\n"
      ]
    },
    {
      "cell_type": "code",
      "metadata": {
        "id": "oi4TskpHyXLS",
        "colab_type": "code",
        "colab": {
          "base_uri": "https://localhost:8080/",
          "height": 72
        },
        "outputId": "2c329645-8079-495a-f1b7-34a55347c30f"
      },
      "source": [
        "class Simplest():\n",
        "  pass\n",
        "\n",
        "print(type(Simplest))\n",
        "\n",
        "simp  = Simplest()\n",
        "print(type(simp))\n",
        "print(type(simp) == Simplest)"
      ],
      "execution_count": 56,
      "outputs": [
        {
          "output_type": "stream",
          "text": [
            "<class 'type'>\n",
            "<class '__main__.Simplest'>\n",
            "True\n"
          ],
          "name": "stdout"
        }
      ]
    },
    {
      "cell_type": "markdown",
      "metadata": {
        "id": "gbSE1XjB0L5U",
        "colab_type": "text"
      },
      "source": [
        "## Class and object namespaces"
      ]
    },
    {
      "cell_type": "code",
      "metadata": {
        "id": "yd1-bxmTvRbQ",
        "colab_type": "code",
        "colab": {
          "base_uri": "https://localhost:8080/",
          "height": 127
        },
        "outputId": "e661d90f-9094-46b3-f290-1b32fe0cff40"
      },
      "source": [
        "class Person():\n",
        "  species = 'Human'\n",
        "\n",
        "print(Person.species)\n",
        "\n",
        "Person.alive = True #다이나믹하게 추가\n",
        "print(Person.alive)\n",
        "\n",
        "man =  Person()\n",
        "print(man.species) \n",
        "print(man.alive)\n",
        "\n",
        "Person.alive = False\n",
        "print(man.alive)\n",
        "\n",
        "man.name = 'Darth' # Person의 인스턴스인 man의 특성 추가\n",
        "man.surname = 'Vader'\n",
        "print(man.name, man.surname)"
      ],
      "execution_count": 60,
      "outputs": [
        {
          "output_type": "stream",
          "text": [
            "Human\n",
            "True\n",
            "Human\n",
            "True\n",
            "False\n",
            "Darth Vader\n"
          ],
          "name": "stdout"
        }
      ]
    },
    {
      "cell_type": "markdown",
      "metadata": {
        "id": "dhvy_tQL1bvW",
        "colab_type": "text"
      },
      "source": [
        "## Attribute shadowing"
      ]
    },
    {
      "cell_type": "code",
      "metadata": {
        "id": "O9rnwUR_0WwS",
        "colab_type": "code",
        "colab": {
          "base_uri": "https://localhost:8080/",
          "height": 320
        },
        "outputId": "611d6579-824e-41ac-e6bd-2039ab018f15"
      },
      "source": [
        "class Point():\n",
        "  x = 10\n",
        "  y = 7\n",
        "\n",
        "p = Point()\n",
        "print(p.x)\n",
        "print(p.y)\n",
        "\n",
        "p.x = 12\n",
        "print(p.x)\n",
        "print(Point.x)\n",
        "\n",
        "del p.x\n",
        "print(p.x)\n",
        "\n",
        "p.z = 3\n",
        "print(p.z)\n",
        "\n",
        "print(Point.z) # 인스턴스인 p에서 만들어진 것이기에 클래스인 Point엔 없다."
      ],
      "execution_count": 62,
      "outputs": [
        {
          "output_type": "stream",
          "text": [
            "10\n",
            "7\n",
            "12\n",
            "10\n",
            "10\n",
            "3\n"
          ],
          "name": "stdout"
        },
        {
          "output_type": "error",
          "ename": "AttributeError",
          "evalue": "ignored",
          "traceback": [
            "\u001b[0;31m---------------------------------------------------------------------------\u001b[0m",
            "\u001b[0;31mAttributeError\u001b[0m                            Traceback (most recent call last)",
            "\u001b[0;32m<ipython-input-62-291a16edf842>\u001b[0m in \u001b[0;36m<module>\u001b[0;34m()\u001b[0m\n\u001b[1;32m     17\u001b[0m \u001b[0mprint\u001b[0m\u001b[0;34m(\u001b[0m\u001b[0mp\u001b[0m\u001b[0;34m.\u001b[0m\u001b[0mz\u001b[0m\u001b[0;34m)\u001b[0m\u001b[0;34m\u001b[0m\u001b[0;34m\u001b[0m\u001b[0m\n\u001b[1;32m     18\u001b[0m \u001b[0;34m\u001b[0m\u001b[0m\n\u001b[0;32m---> 19\u001b[0;31m \u001b[0mprint\u001b[0m\u001b[0;34m(\u001b[0m\u001b[0mPoint\u001b[0m\u001b[0;34m.\u001b[0m\u001b[0mz\u001b[0m\u001b[0;34m)\u001b[0m\u001b[0;34m\u001b[0m\u001b[0;34m\u001b[0m\u001b[0m\n\u001b[0m",
            "\u001b[0;31mAttributeError\u001b[0m: type object 'Point' has no attribute 'z'"
          ]
        }
      ]
    },
    {
      "cell_type": "markdown",
      "metadata": {
        "id": "7_IDIKyi2rY1",
        "colab_type": "text"
      },
      "source": [
        "## I, me, and myself – using the self variable\n"
      ]
    },
    {
      "cell_type": "code",
      "metadata": {
        "id": "Dy33089l1bGn",
        "colab_type": "code",
        "colab": {
          "base_uri": "https://localhost:8080/",
          "height": 72
        },
        "outputId": "5ee521e3-3d66-4340-d4b8-9af10cc699fc"
      },
      "source": [
        "class Square():\n",
        "  side = 8\n",
        "  def area(self): # self는 인스턴스를 가리킨다\n",
        "    return self.side ** 2\n",
        "\n",
        "sq = Square()\n",
        "print(sq.area())\n",
        "print(Square.area(sq))\n",
        "\n",
        "sq.side = 10\n",
        "print(sq.area())\n"
      ],
      "execution_count": 67,
      "outputs": [
        {
          "output_type": "stream",
          "text": [
            "64\n",
            "64\n",
            "100\n"
          ],
          "name": "stdout"
        }
      ]
    },
    {
      "cell_type": "code",
      "metadata": {
        "id": "m5CDV9yn3SpH",
        "colab_type": "code",
        "colab": {
          "base_uri": "https://localhost:8080/",
          "height": 53
        },
        "outputId": "d7a682b2-82f5-4b9b-90af-12d1bd0f1e8d"
      },
      "source": [
        "class Price():\n",
        "  def final_price(self,vat,discount=0):\n",
        "    return(self.net_price * (100 + vat) / 100) - discount\n",
        "\n",
        "p1 = Price()\n",
        "p1.net_price = 100\n",
        "print(Price.final_price(p1,20,10))\n",
        "print(p1.final_price(20,10))"
      ],
      "execution_count": 68,
      "outputs": [
        {
          "output_type": "stream",
          "text": [
            "110.0\n",
            "110.0\n"
          ],
          "name": "stdout"
        }
      ]
    },
    {
      "cell_type": "markdown",
      "metadata": {
        "id": "cliN3PT84vuw",
        "colab_type": "text"
      },
      "source": [
        "## Initializing an instance\n"
      ]
    },
    {
      "cell_type": "code",
      "metadata": {
        "id": "aQSOw2G04viH",
        "colab_type": "code",
        "colab": {
          "base_uri": "https://localhost:8080/",
          "height": 72
        },
        "outputId": "54e81698-fcf8-43db-d75a-cf02c5bcef42"
      },
      "source": [
        "class Rectangle():\n",
        "  def __init__(self, sideA, sideB):\n",
        "    self.sideA = sideA\n",
        "    self.sideB = sideB\n",
        "\n",
        "  def area(self):\n",
        "    return self.sideA * self.sideB\n",
        "\n",
        "r1 = Rectangle(10,4)\n",
        "print(r1.sideA, r1.sideB)\n",
        "print(r1.area())\n",
        "\n",
        "r2 = Rectangle(7,3)\n",
        "print(r2.area())"
      ],
      "execution_count": 72,
      "outputs": [
        {
          "output_type": "stream",
          "text": [
            "10 4\n",
            "40\n",
            "21\n"
          ],
          "name": "stdout"
        }
      ]
    },
    {
      "cell_type": "markdown",
      "metadata": {
        "id": "GNMGJl3y5341",
        "colab_type": "text"
      },
      "source": [
        "## OOP is about code reuse\n",
        "\n",
        "## Inheritance and composition\n",
        "\n",
        "Inheritance : two objects are related by means of an Is-A type of relationship.\n",
        "\n",
        "composition : two object are related by means of a Has-A type of relationship.\n"
      ]
    },
    {
      "cell_type": "code",
      "metadata": {
        "id": "x3XRGrEW53s4",
        "colab_type": "code",
        "colab": {
          "base_uri": "https://localhost:8080/",
          "height": 90
        },
        "outputId": "4add1e82-33a6-4983-b7a6-a2e9f56bed18"
      },
      "source": [
        "class Engine():\n",
        "  def start(self):\n",
        "    pass\n",
        "  def stop(self):\n",
        "    pass\n",
        "\n",
        "class ElectricEngine(Engine): # Is-A Engine ,상속 클래스의 괄호안에 다른(부모)클래스 넣기\n",
        " pass\n",
        "\n",
        "class V8Engine(Engine): # Is-A Engine\n",
        " pass\n",
        "\n",
        "class Car():\n",
        "  engine_cls = Engine\n",
        "  \n",
        "  def __init__(self):\n",
        "    self.engine = self.engine_cls() # Has-A engine\n",
        "\n",
        "  def start(self):\n",
        "    print(\n",
        "        'Starting engine {0} for car {1}... wroom, wroom!'\n",
        "        .format(\n",
        "            self.engine.__class__.__name__,\n",
        "            self.__class__.__name__) \n",
        "    )\n",
        "    self.engine.start()\n",
        "  \n",
        "  def stop(self):\n",
        "    self.engine.stop()\n",
        "\n",
        "class RaceCar(Car): # Is-A Car\n",
        "  engine_cls = V8Engine\n",
        "\n",
        "class CityCar(Car): # Is-A Car\n",
        "  engine_cls = ElectricEngine\n",
        "\n",
        "class F1Car(RaceCar):\n",
        "  engine_cls = V8Engine\n",
        "\n",
        "car = Car()\n",
        "racecar = RaceCar()\n",
        "citycar = CityCar()\n",
        "f1car = F1Car()\n",
        "cars = [car, racecar, citycar, f1car]\n",
        "\n",
        "for car in cars:\n",
        "  car.start()"
      ],
      "execution_count": 76,
      "outputs": [
        {
          "output_type": "stream",
          "text": [
            "Starting engine Engine for car Car... wroom, wroom!\n",
            "Starting engine V8Engine for car RaceCar... wroom, wroom!\n",
            "Starting engine ElectricEngine for car CityCar... wroom, wroom!\n",
            "Starting engine V8Engine for car F1Car... wroom, wroom!\n"
          ],
          "name": "stdout"
        }
      ]
    },
    {
      "cell_type": "code",
      "metadata": {
        "id": "BCGy2ege4SxP",
        "colab_type": "code",
        "colab": {
          "base_uri": "https://localhost:8080/",
          "height": 182
        },
        "outputId": "1176adef-0b13-40da-a635-57eb6eb5e740"
      },
      "source": [
        "car = Car()\n",
        "racecar = RaceCar()\n",
        "f1car = F1Car()\n",
        "cars = [(car,'car'), (racecar,'racecar'),(f1car,'f1car')]\n",
        "car_classes = [Car,RaceCar,F1Car]\n",
        "\n",
        "for car, car_name in cars:\n",
        "  for class_ in car_classes:\n",
        "    belongs = isinstance(car,class_) \n",
        "    # isinstance(인스턴스,클래스) : 인스턴스가 클래스의 인스턴스가 맞는지 \n",
        "    msg = 'is a' if belongs else 'is not a'\n",
        "    print(car_name, msg, class_.__name__)"
      ],
      "execution_count": 78,
      "outputs": [
        {
          "output_type": "stream",
          "text": [
            "car is a Car\n",
            "car is not a RaceCar\n",
            "car is not a F1Car\n",
            "racecar is a Car\n",
            "racecar is a RaceCar\n",
            "racecar is not a F1Car\n",
            "f1car is a Car\n",
            "f1car is a RaceCar\n",
            "f1car is a F1Car\n"
          ],
          "name": "stdout"
        }
      ]
    },
    {
      "cell_type": "code",
      "metadata": {
        "id": "msH2p2YxBRme",
        "colab_type": "code",
        "colab": {
          "base_uri": "https://localhost:8080/",
          "height": 182
        },
        "outputId": "b657d113-52d7-496c-d2dc-19dba1b2bfb6"
      },
      "source": [
        "for class1 in car_classes:\n",
        "  for class2 in car_classes:\n",
        "    is_subclass = issubclass(class1,class2)\n",
        "    msg = '{0} a subclass of'.format(\n",
        "        'is' if is_subclass else 'is not')\n",
        "    print(class1.__name__, msg, class2.__name__)"
      ],
      "execution_count": 79,
      "outputs": [
        {
          "output_type": "stream",
          "text": [
            "Car is a subclass of Car\n",
            "Car is not a subclass of RaceCar\n",
            "Car is not a subclass of F1Car\n",
            "RaceCar is a subclass of Car\n",
            "RaceCar is a subclass of RaceCar\n",
            "RaceCar is not a subclass of F1Car\n",
            "F1Car is a subclass of Car\n",
            "F1Car is a subclass of RaceCar\n",
            "F1Car is a subclass of F1Car\n"
          ],
          "name": "stdout"
        }
      ]
    },
    {
      "cell_type": "markdown",
      "metadata": {
        "id": "NDh6poJNDCgO",
        "colab_type": "text"
      },
      "source": [
        "## Accessing a base class\n"
      ]
    },
    {
      "cell_type": "code",
      "metadata": {
        "id": "T4N5mtJ7DAX6",
        "colab_type": "code",
        "colab": {}
      },
      "source": [
        "class Book:\n",
        "  def __init__(self,title,publisher,pages):\n",
        "    self.title = title\n",
        "    self.publisher = publisher\n",
        "    self.pages = pages\n",
        "\n",
        "class Ebook(Book):\n",
        "  def __init__(self,title, publisher, pages, format_):\n",
        "    self.title = title # base class인 book 에서 가져온 녀석들\n",
        "    self.publisher = publisher # base class인 book 에서 가져온 녀석들\n",
        "    self.pages = pages # base class인 book 에서 가져온 녀석들\n",
        "    self.format_ = format_"
      ],
      "execution_count": 0,
      "outputs": []
    },
    {
      "cell_type": "code",
      "metadata": {
        "id": "3Uo7PI8eDATY",
        "colab_type": "code",
        "colab": {
          "base_uri": "https://localhost:8080/",
          "height": 90
        },
        "outputId": "98a5f55f-9e28-4cd9-fa88-37563f49693b"
      },
      "source": [
        "class Book:\n",
        "  def __init__(self,title,publisher,pages):\n",
        "    self.title = title\n",
        "    self.publisher = publisher\n",
        "    self.pages = pages\n",
        "\n",
        "class Ebook(Book):\n",
        "  def __init__(self,title, publisher, pages, format_):\n",
        "    Book.__init__(self,title,publisher,pages) \n",
        "    \"\"\"부모 클래스의 생성자를 불러와 실행\"\"\"\n",
        "    self.format_ = format_\n",
        "\n",
        "ebook = Ebook('Learning Python', 'packt Publisher', 360, 'PDF')\n",
        "print(ebook.title)\n",
        "print(ebook.publisher)\n",
        "print(ebook.pages)\n",
        "print(ebook.format_)"
      ],
      "execution_count": 83,
      "outputs": [
        {
          "output_type": "stream",
          "text": [
            "Learning Python\n",
            "packt Publisher\n",
            "360\n",
            "PDF\n"
          ],
          "name": "stdout"
        }
      ]
    },
    {
      "cell_type": "code",
      "metadata": {
        "id": "gWrejL3TE5Nc",
        "colab_type": "code",
        "colab": {
          "base_uri": "https://localhost:8080/",
          "height": 90
        },
        "outputId": "91bf2e57-391b-4c12-c7a7-e7a6ec81e391"
      },
      "source": [
        "class Book:\n",
        "  def __init__(self,title,publisher,pages):\n",
        "    self.title = title\n",
        "    self.publisher = publisher\n",
        "    self.pages = pages\n",
        "\n",
        "class Ebook(Book):\n",
        "  def __init__(self,title, publisher, pages, format_):\n",
        "    super().__init__(title,publisher,pages)\n",
        "    # super(Ebook,self).__init__(title,publisher,pages)\n",
        "    self.format_ = format_\n",
        "\n",
        "ebook = Ebook('Learning Python', 'Packt Publishing', 360, 'PDF')\n",
        "print(ebook.title) # Learning Python\n",
        "print(ebook.publisher) # Packt Publishing\n",
        "print(ebook.pages) # 360\n",
        "print(ebook.format_) # PDF"
      ],
      "execution_count": 85,
      "outputs": [
        {
          "output_type": "stream",
          "text": [
            "Learning Python\n",
            "Packt Publishing\n",
            "360\n",
            "PDF\n"
          ],
          "name": "stdout"
        }
      ]
    },
    {
      "cell_type": "markdown",
      "metadata": {
        "id": "TWqRijkxG7MX",
        "colab_type": "text"
      },
      "source": [
        "## Multiple inheritance\n"
      ]
    },
    {
      "cell_type": "code",
      "metadata": {
        "id": "4i_sBH5hCchU",
        "colab_type": "code",
        "colab": {
          "base_uri": "https://localhost:8080/",
          "height": 127
        },
        "outputId": "daa2789d-f57a-461e-eed7-e893f0251337"
      },
      "source": [
        "class Shape:\n",
        "  geometric_type = 'Generic Shape'\n",
        "\n",
        "  def area(self): # This acts as placeholder for the interface\n",
        "    raise NotImplementedError\n",
        "\n",
        "  def get_geometric_type(self):\n",
        "    return self.geometric_type\n",
        "  \n",
        "class Plotter:\n",
        "\n",
        "  def plot(sef,ratio,topleft):\n",
        "    print('Plotting at {}, ratio {}.'.format(\n",
        "        topleft, ratio))\n",
        "    \n",
        "class Polygon(Shape,Plotter):\n",
        "  geomatric_type = 'Polygon'\n",
        "\n",
        "class RegularPolygon(Polygon):\n",
        "  geometric_type = 'Regular Polygon'\n",
        "\n",
        "  def __init__(self, side):\n",
        "    self.side = side\n",
        "\n",
        "class RegularHexagon(RegularPolygon):\n",
        "  geometric_type = 'RegularHexagon'\n",
        "\n",
        "  def area(self):\n",
        "    return 1.5 * (3 ** .5 * self.side ** 2)\n",
        "\n",
        "class Sqaure(RegularPolygon):\n",
        "  geometric_type = 'Sqaure'\n",
        "\n",
        "  def area(self):\n",
        "    return self.side * self.side\n",
        "\n",
        "hexagon = RegularHexagon(10)\n",
        "print(hexagon.area())\n",
        "print(hexagon.get_geometric_type())\n",
        "hexagon.plot(0.8,(75,77))\n",
        "\n",
        "sqaure = Sqaure(12)\n",
        "print(sqaure.area())\n",
        "print(sqaure.get_geometric_type())\n",
        "sqaure.plot(0.93, (74,75))"
      ],
      "execution_count": 86,
      "outputs": [
        {
          "output_type": "stream",
          "text": [
            "259.8076211353316\n",
            "RegularHexagon\n",
            "Plotting at (75, 77), ratio 0.8.\n",
            "144\n",
            "Sqaure\n",
            "Plotting at (74, 75), ratio 0.93.\n"
          ],
          "name": "stdout"
        }
      ]
    },
    {
      "cell_type": "markdown",
      "metadata": {
        "id": "24_TcK4sd4tI",
        "colab_type": "text"
      },
      "source": [
        "## Method resolution order\n"
      ]
    },
    {
      "cell_type": "code",
      "metadata": {
        "id": "N5of2s4SbbRP",
        "colab_type": "code",
        "colab": {
          "base_uri": "https://localhost:8080/",
          "height": 35
        },
        "outputId": "a5ac8b34-45ea-4fc9-db6f-0288320f2456"
      },
      "source": [
        "print(square.__class__.mro())"
      ],
      "execution_count": 89,
      "outputs": [
        {
          "output_type": "stream",
          "text": [
            "[<class 'function'>, <class 'object'>]\n"
          ],
          "name": "stdout"
        }
      ]
    },
    {
      "cell_type": "code",
      "metadata": {
        "id": "xCsc1gyofwk8",
        "colab_type": "code",
        "colab": {
          "base_uri": "https://localhost:8080/",
          "height": 35
        },
        "outputId": "cdbb0d19-2383-44b3-e05a-5789083316d8"
      },
      "source": [
        "class A:\n",
        "  label = 'a'\n",
        "\n",
        "class B(A):\n",
        "  label = 'b'\n",
        "\n",
        "class C(A):\n",
        "  label = 'c'\n",
        "\n",
        "class D(B,C):\n",
        "  pass\n",
        "\n",
        "d = D()\n",
        "print(d.label) # 바로 위 상속에서 왼쪽에 있는 클래스의 변수 사용"
      ],
      "execution_count": 90,
      "outputs": [
        {
          "output_type": "stream",
          "text": [
            "b\n"
          ],
          "name": "stdout"
        }
      ]
    },
    {
      "cell_type": "code",
      "metadata": {
        "id": "TpD_PmjvbbOK",
        "colab_type": "code",
        "colab": {
          "base_uri": "https://localhost:8080/",
          "height": 73
        },
        "outputId": "855650f0-00eb-4008-93a6-c2d06623e4e2"
      },
      "source": [
        "class A:\n",
        "  label = 'a'\n",
        "\n",
        "class B(A):\n",
        "  pass # was : label = 'b'\n",
        "\n",
        "class C(A):\n",
        "  label = 'c'\n",
        "\n",
        "class D(B,C):\n",
        "  pass\n",
        "\n",
        "d = D()\n",
        "print(d.label)\n",
        "print(d.__class__.mro())\n",
        "# print(d.__class__.__mro__)"
      ],
      "execution_count": 91,
      "outputs": [
        {
          "output_type": "stream",
          "text": [
            "c\n",
            "[<class '__main__.D'>, <class '__main__.B'>, <class '__main__.C'>, <class '__main__.A'>, <class 'object'>]\n"
          ],
          "name": "stdout"
        }
      ]
    },
    {
      "cell_type": "markdown",
      "metadata": {
        "id": "jgpM-nTBha_N",
        "colab_type": "text"
      },
      "source": [
        "## Static and class methods"
      ]
    },
    {
      "cell_type": "markdown",
      "metadata": {
        "id": "LFpEDVpdhtoS",
        "colab_type": "text"
      },
      "source": [
        "Static methods(정적 메소드)\n",
        "\n",
        "파이썬에서는 다른언어와는 다르게 정적메소드임에도 불구하고 인스턴스에서도 접근이 가능합니다. 이 차이에 유의해야합니다."
      ]
    },
    {
      "cell_type": "code",
      "metadata": {
        "id": "T6vPzVCEaXJw",
        "colab_type": "code",
        "colab": {
          "base_uri": "https://localhost:8080/",
          "height": 108
        },
        "outputId": "aed8cc65-603e-4c07-8c9c-630356850c87"
      },
      "source": [
        "class String:\n",
        "\n",
        "  @staticmethod\n",
        "  def is_palindrome(s, case_insensitive=True):\n",
        "    # we allow only letters and numbers\n",
        "    s = ''.join(c for c in s if c.isalnum())\n",
        "    # isalnum : 알파벳과 숫자로 이루어져 있다면 True 반환\n",
        "    if case_insensitive:\n",
        "      s = s.lower()\n",
        "    for c in range(len(s) // 2):\n",
        "      if s[c] != s[-c -1]:\n",
        "        return False\n",
        "    return True\n",
        "\n",
        "  @staticmethod\n",
        "  def get_unique_words(sentence):\n",
        "    return set(sentence.split())\n",
        "\n",
        "print(String.is_palindrome(\n",
        "    'Reader', case_insensitive=False))\n",
        "print(String.is_palindrome('A nut for a jar of tuna'))\n",
        "print(String.is_palindrome('Never Odd, or Even!'))\n",
        "print(String.is_palindrome(\n",
        "    'In Girum Imus Nocte Et Consumimur Igni'))\n",
        "\n",
        "print(String.get_unique_words(\n",
        " 'I love palindromes. I really really love them!'))"
      ],
      "execution_count": 94,
      "outputs": [
        {
          "output_type": "stream",
          "text": [
            "False\n",
            "True\n",
            "True\n",
            "True\n",
            "{'palindromes.', 'them!', 'I', 'love', 'really'}\n"
          ],
          "name": "stdout"
        }
      ]
    },
    {
      "cell_type": "markdown",
      "metadata": {
        "id": "U2Be3Tpukopl",
        "colab_type": "text"
      },
      "source": [
        "## Class methods\n"
      ]
    },
    {
      "cell_type": "code",
      "metadata": {
        "id": "RUVuwe_FkYPS",
        "colab_type": "code",
        "colab": {
          "base_uri": "https://localhost:8080/",
          "height": 53
        },
        "outputId": "04e2dc45-7d86-4b39-b1c4-e234618441a8"
      },
      "source": [
        "class Point:\n",
        "  def __init__(self,x,y):\n",
        "    self.x = x\n",
        "    self.y = y\n",
        "\n",
        "  @classmethod # 첫번째 인자로 클래스 입력\n",
        "  def from_tuple(cls, coords):\n",
        "    return cls(*coords)\n",
        "\n",
        "  @classmethod\n",
        "  def from_point(cls, point):\n",
        "    return cls(point.x, point.y)\n",
        "\n",
        "p = Point.from_tuple((3,7))\n",
        "print(p.x,p.y)\n",
        "q = Point.from_point(p)\n",
        "print(q.x,q.y)\n"
      ],
      "execution_count": 95,
      "outputs": [
        {
          "output_type": "stream",
          "text": [
            "3 7\n",
            "3 7\n"
          ],
          "name": "stdout"
        }
      ]
    },
    {
      "cell_type": "code",
      "metadata": {
        "id": "P3oX78ICkP8C",
        "colab_type": "code",
        "colab": {}
      },
      "source": [
        "class String:\n",
        "\n",
        "  @classmethod\n",
        "  def is_palindrome(cls,s,case_insensitive=True):\n",
        "    s = cls._strip_string(s)\n",
        "    if case_insensitive:\n",
        "      s = s.lower()\n",
        "    return cls._is_palindrome(s)\n",
        "\n",
        "  @staticmethod\n",
        "  def _strip_string(s):\n",
        "    return ''.join(c for c in s if c.isalnum())\n",
        "\n",
        "  @staticmethod\n",
        "  def _is_palindrome(s):\n",
        "    for c in range(len(s) // 2):\n",
        "      if s[c] != s[-c -1]:\n",
        "        return False\n",
        "    return True\n",
        "\n",
        "  @staticmethod\n",
        "  def get_unique_words(sentence):\n",
        "    return set(sentence.split())"
      ],
      "execution_count": 0,
      "outputs": []
    },
    {
      "cell_type": "code",
      "metadata": {
        "id": "D0ZAKyi7oXxb",
        "colab_type": "code",
        "colab": {
          "base_uri": "https://localhost:8080/",
          "height": 53
        },
        "outputId": "c258148c-ebdc-46d4-c8d6-d6fe6b65c106"
      },
      "source": [
        "print(String.is_palindrome('A nut for a jar of tuna'))\n",
        "print(String.is_palindrome('A nut for a jar of beans'))"
      ],
      "execution_count": 97,
      "outputs": [
        {
          "output_type": "stream",
          "text": [
            "True\n",
            "False\n"
          ],
          "name": "stdout"
        }
      ]
    },
    {
      "cell_type": "code",
      "metadata": {
        "id": "N0RaSW3eodQJ",
        "colab_type": "code",
        "colab": {}
      },
      "source": [
        ""
      ],
      "execution_count": 0,
      "outputs": []
    }
  ]
}