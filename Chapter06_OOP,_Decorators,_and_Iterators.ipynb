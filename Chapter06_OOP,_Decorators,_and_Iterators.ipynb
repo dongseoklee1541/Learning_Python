{
 "cells": [
  {
   "cell_type": "code",
   "execution_count": 1,
   "metadata": {
    "colab": {
     "base_uri": "https://localhost:8080/",
     "height": 35
    },
    "colab_type": "code",
    "id": "Ifje-BRxcZL7",
    "outputId": "14abf289-790a-44a8-9a2e-4da7e24a88b4"
   },
   "outputs": [
    {
     "name": "stdout",
     "output_type": "stream",
     "text": [
      "f took:  0.3000674247741699\n"
     ]
    }
   ],
   "source": [
    "from time import sleep, time\n",
    "\n",
    "def f():\n",
    "  sleep(.3)\n",
    "\n",
    "def g():\n",
    "  sleep(.5)\n",
    "\n",
    "t = time()\n",
    "f()\n",
    "print('f took: ', time() - t)"
   ]
  },
  {
   "cell_type": "code",
   "execution_count": 2,
   "metadata": {
    "colab": {
     "base_uri": "https://localhost:8080/",
     "height": 35
    },
    "colab_type": "code",
    "id": "YjgaqlbFcJrY",
    "outputId": "c1b3db7e-b5a4-483f-d2dd-6cd7d7c63dc8"
   },
   "outputs": [
    {
     "name": "stdout",
     "output_type": "stream",
     "text": [
      "g took: 0.5001232624053955\n"
     ]
    }
   ],
   "source": [
    "t = time()\n",
    "g()\n",
    "print('g took:', time() - t)"
   ]
  },
  {
   "cell_type": "code",
   "execution_count": 3,
   "metadata": {
    "colab": {},
    "colab_type": "code",
    "id": "sZuxpJw_dIxt"
   },
   "outputs": [],
   "source": [
    "def measure(func):\n",
    "  t = time()\n",
    "  func()\n",
    "  print(func.__name__, 'took:', time() - t)"
   ]
  },
  {
   "cell_type": "code",
   "execution_count": 4,
   "metadata": {
    "colab": {
     "base_uri": "https://localhost:8080/",
     "height": 35
    },
    "colab_type": "code",
    "id": "AN6AplUpdWJk",
    "outputId": "747a4d8c-b929-4d34-a926-0bb48cbec52e"
   },
   "outputs": [
    {
     "name": "stdout",
     "output_type": "stream",
     "text": [
      "f took: 0.3000645637512207\n"
     ]
    }
   ],
   "source": [
    "measure(f)"
   ]
  },
  {
   "cell_type": "code",
   "execution_count": 5,
   "metadata": {
    "colab": {
     "base_uri": "https://localhost:8080/",
     "height": 35
    },
    "colab_type": "code",
    "id": "6vurMxYUdXzu",
    "outputId": "def10e04-4412-4104-910b-3f5e6611874e"
   },
   "outputs": [
    {
     "name": "stdout",
     "output_type": "stream",
     "text": [
      "g took: 0.5001235008239746\n"
     ]
    }
   ],
   "source": [
    "measure(g)"
   ]
  },
  {
   "cell_type": "code",
   "execution_count": 6,
   "metadata": {
    "colab": {},
    "colab_type": "code",
    "id": "XLeCxf1UdY-X"
   },
   "outputs": [],
   "source": [
    "def f(sleep_time = 0.1):\n",
    "  sleep(sleep_time)"
   ]
  },
  {
   "cell_type": "code",
   "execution_count": 7,
   "metadata": {
    "colab": {},
    "colab_type": "code",
    "id": "pCQ9JAEtdyVA"
   },
   "outputs": [],
   "source": [
    "def measure(func,*args,**kwargs):\n",
    "  t = time()\n",
    "  func(*args, **kwargs)\n",
    "  print(func.__name__, 'took:', time() - t)"
   ]
  },
  {
   "cell_type": "code",
   "execution_count": 8,
   "metadata": {
    "colab": {
     "base_uri": "https://localhost:8080/",
     "height": 35
    },
    "colab_type": "code",
    "id": "0hiLqJf-d92I",
    "outputId": "24391365-db7e-4df8-95e7-9241a467b16a"
   },
   "outputs": [
    {
     "name": "stdout",
     "output_type": "stream",
     "text": [
      "f took: 0.3000822067260742\n"
     ]
    }
   ],
   "source": [
    "measure(f,sleep_time=0.3)"
   ]
  },
  {
   "cell_type": "code",
   "execution_count": 9,
   "metadata": {
    "colab": {
     "base_uri": "https://localhost:8080/",
     "height": 35
    },
    "colab_type": "code",
    "id": "BidoJw2veCbR",
    "outputId": "0e5f5364-51fd-4eee-9516-a55ccb67cf1b"
   },
   "outputs": [
    {
     "name": "stdout",
     "output_type": "stream",
     "text": [
      "f took: 0.20005178451538086\n"
     ]
    }
   ],
   "source": [
    "measure(f,0.2)"
   ]
  },
  {
   "cell_type": "code",
   "execution_count": 10,
   "metadata": {
    "colab": {},
    "colab_type": "code",
    "id": "gAkw_9VPf7EE"
   },
   "outputs": [],
   "source": [
    "def f(sleep_time=0.1):\n",
    "  sleep(sleep_time)"
   ]
  },
  {
   "cell_type": "code",
   "execution_count": 11,
   "metadata": {
    "colab": {},
    "colab_type": "code",
    "id": "I079hFaFeMW7"
   },
   "outputs": [],
   "source": [
    "def measure(func):\n",
    "  def wrapper(*args,**kwargs):\n",
    "    t = time()\n",
    "    func(*args, **kwargs)\n",
    "    print(func.__name__, 'took:', time() - t)\n",
    "  return wrapper"
   ]
  },
  {
   "cell_type": "code",
   "execution_count": 12,
   "metadata": {
    "colab": {},
    "colab_type": "code",
    "id": "EYZzVqejfArr"
   },
   "outputs": [],
   "source": [
    "f = measure(f)"
   ]
  },
  {
   "cell_type": "code",
   "execution_count": 13,
   "metadata": {
    "colab": {
     "base_uri": "https://localhost:8080/",
     "height": 35
    },
    "colab_type": "code",
    "id": "OFjRXBo5fEij",
    "outputId": "6d199f02-7286-405b-933d-8acfa0bfd86e"
   },
   "outputs": [
    {
     "name": "stdout",
     "output_type": "stream",
     "text": [
      "f took: 0.20006036758422852\n"
     ]
    }
   ],
   "source": [
    "f(0.2)"
   ]
  },
  {
   "cell_type": "code",
   "execution_count": 14,
   "metadata": {
    "colab": {
     "base_uri": "https://localhost:8080/",
     "height": 35
    },
    "colab_type": "code",
    "id": "Z7E19zOnfGVH",
    "outputId": "0f986b6d-e62d-411a-bc07-71683affd7ae"
   },
   "outputs": [
    {
     "name": "stdout",
     "output_type": "stream",
     "text": [
      "f took: 0.300065279006958\n"
     ]
    }
   ],
   "source": [
    "f(sleep_time=0.3)"
   ]
  },
  {
   "cell_type": "code",
   "execution_count": 15,
   "metadata": {
    "colab": {
     "base_uri": "https://localhost:8080/",
     "height": 35
    },
    "colab_type": "code",
    "id": "E6mNaBCzfmU6",
    "outputId": "91e6e621-2cf4-4b42-9dcc-2420021655b4"
   },
   "outputs": [
    {
     "name": "stdout",
     "output_type": "stream",
     "text": [
      "wrapper\n"
     ]
    }
   ],
   "source": [
    "print(f.__name__)"
   ]
  },
  {
   "cell_type": "markdown",
   "metadata": {
    "colab_type": "text",
    "id": "L6wnUcrrlHvC"
   },
   "source": [
    "퍼스트 클래스 함수"
   ]
  },
  {
   "cell_type": "code",
   "execution_count": 16,
   "metadata": {
    "colab": {
     "base_uri": "https://localhost:8080/",
     "height": 72
    },
    "colab_type": "code",
    "id": "yhK6N6hnkvrL",
    "outputId": "9bf67440-c57a-492b-d381-b3238d68f3c9"
   },
   "outputs": [
    {
     "name": "stdout",
     "output_type": "stream",
     "text": [
      "25\n",
      "<function square at 0x000002731BF22EA0>\n",
      "<function square at 0x000002731BF22EA0>\n"
     ]
    }
   ],
   "source": [
    "def square(x):\n",
    "  return x*x\n",
    "\n",
    "print(square(5))\n",
    "\n",
    "f = square\n",
    "\n",
    "print(square)\n",
    "print(f)"
   ]
  },
  {
   "cell_type": "code",
   "execution_count": 17,
   "metadata": {
    "colab": {
     "base_uri": "https://localhost:8080/",
     "height": 35
    },
    "colab_type": "code",
    "id": "STJJf-izlSLQ",
    "outputId": "d9eff7bf-4299-4abc-ca38-13a69cd51850"
   },
   "outputs": [
    {
     "name": "stdout",
     "output_type": "stream",
     "text": [
      "25\n"
     ]
    }
   ],
   "source": [
    "print(f(5))"
   ]
  },
  {
   "cell_type": "code",
   "execution_count": 18,
   "metadata": {
    "colab": {
     "base_uri": "https://localhost:8080/",
     "height": 35
    },
    "colab_type": "code",
    "id": "bLOEw3rjlZQI",
    "outputId": "7f582e05-8c8e-4d75-eb6b-8e12e4a454e2"
   },
   "outputs": [
    {
     "name": "stdout",
     "output_type": "stream",
     "text": [
      "[1, 4, 9, 16, 25]\n"
     ]
    }
   ],
   "source": [
    "def square(x):\n",
    "  return x*x\n",
    "\n",
    "def my_map(func,arg_list):\n",
    "  result = []\n",
    "  for i in arg_list:\n",
    "    result.append(func(i))\n",
    "  return result\n",
    "\n",
    "num_list = [1,2,3,4,5]\n",
    "\n",
    "sqaures = my_map(square,num_list)\n",
    "\n",
    "print(sqaures)"
   ]
  },
  {
   "cell_type": "code",
   "execution_count": 19,
   "metadata": {
    "colab": {
     "base_uri": "https://localhost:8080/",
     "height": 35
    },
    "colab_type": "code",
    "id": "nB1z3h8Ylu3-",
    "outputId": "1822f592-1f80-41e4-fefc-48c575a655e0"
   },
   "outputs": [
    {
     "name": "stdout",
     "output_type": "stream",
     "text": [
      "[1, 4, 9, 16, 25]\n"
     ]
    }
   ],
   "source": [
    "def simple_sqaure(args_list):\n",
    "  result = []\n",
    "  for i in args_list:\n",
    "    result.append(i * i)\n",
    "  return result\n",
    "\n",
    "simple_sqaures = simple_sqaure(num_list)\n",
    "print(simple_sqaures)"
   ]
  },
  {
   "cell_type": "code",
   "execution_count": 20,
   "metadata": {
    "colab": {
     "base_uri": "https://localhost:8080/",
     "height": 72
    },
    "colab_type": "code",
    "id": "-7iL_Q2emO3o",
    "outputId": "28870d2e-4715-4263-f5ed-5878874918f0"
   },
   "outputs": [
    {
     "name": "stdout",
     "output_type": "stream",
     "text": [
      "[1, 4, 9, 16, 25]\n",
      "[1, 8, 27, 64, 125]\n",
      "[1, 16, 81, 256, 625]\n"
     ]
    }
   ],
   "source": [
    "def square(x):\n",
    "    return x * x\n",
    "\n",
    "def cube(x):\n",
    "    return x * x * x\n",
    "\n",
    "def quad(x):\n",
    "    return x * x * x * x\n",
    "\n",
    "def my_map(func, arg_list):\n",
    "    result = []\n",
    "    for i in arg_list:\n",
    "        result.append(func(i)) # square 함수 호출, func == square\n",
    "    return result\n",
    "\n",
    "num_list = [1, 2, 3, 4, 5]\n",
    "\n",
    "squares = my_map(square, num_list)\n",
    "cubes = my_map(cube, num_list)\n",
    "quads = my_map(quad, num_list)\n",
    "\n",
    "print(sqaures)\n",
    "print(cubes)\n",
    "print(quads)"
   ]
  },
  {
   "cell_type": "code",
   "execution_count": 21,
   "metadata": {
    "colab": {
     "base_uri": "https://localhost:8080/",
     "height": 53
    },
    "colab_type": "code",
    "id": "29h-SKmsmbCi",
    "outputId": "2440b28b-1907-4d76-9d1a-2515cbb47eb2"
   },
   "outputs": [
    {
     "name": "stdout",
     "output_type": "stream",
     "text": [
      "<function logger.<locals>.log_message at 0x000002731BF22D90>\n",
      "Log:  Hi\n"
     ]
    }
   ],
   "source": [
    "def logger(msg):\n",
    "  def log_message(): # 클로저(closure), 다른 함수의 지역변수를 그 함수가 종료된 후에도 기억\n",
    "    print('Log: ', msg)\n",
    "\n",
    "  return log_message\n",
    "\n",
    "log_hi = logger('Hi')\n",
    "print(log_hi)\n",
    "log_hi()"
   ]
  },
  {
   "cell_type": "code",
   "execution_count": 22,
   "metadata": {
    "colab": {
     "base_uri": "https://localhost:8080/",
     "height": 53
    },
    "colab_type": "code",
    "id": "Nmbgu9hdm6Zt",
    "outputId": "7738602e-23d9-4bdc-e088-02714b4cbfb9"
   },
   "outputs": [
    {
     "name": "stdout",
     "output_type": "stream",
     "text": [
      "NameError: logger는 존재하지 않습니다.\n",
      "Log:  Hi\n"
     ]
    }
   ],
   "source": [
    "del logger\n",
    "try:\n",
    "  print(logger)\n",
    "except NameError:\n",
    "  print('NameError: logger는 존재하지 않습니다.')\n",
    "\n",
    "log_hi() # logger가 지워진 뒤에도 log_meesage 함수는 'Hi'를 기억함"
   ]
  },
  {
   "cell_type": "code",
   "execution_count": 23,
   "metadata": {
    "colab": {
     "base_uri": "https://localhost:8080/",
     "height": 35
    },
    "colab_type": "code",
    "id": "PL7m60MpoBqO",
    "outputId": "efa9576b-d0f4-4509-8831-4e848244db5d"
   },
   "outputs": [
    {
     "name": "stdout",
     "output_type": "stream",
     "text": [
      "display 함수가 실행되었습니다.\n"
     ]
    }
   ],
   "source": [
    "def decorator_function(original_function):\n",
    "  def wrapper_function():\n",
    "    return original_function()\n",
    "  return wrapper_function\n",
    "\n",
    "def display():\n",
    "  print(\"display 함수가 실행되었습니다.\")\n",
    "\n",
    "decorated_display = decorator_function(display)\n",
    "decorated_display()"
   ]
  },
  {
   "cell_type": "code",
   "execution_count": 25,
   "metadata": {
    "colab": {
     "base_uri": "https://localhost:8080/",
     "height": 108
    },
    "colab_type": "code",
    "id": "Fsw9s1kjrgp1",
    "outputId": "22b57056-807c-4de3-c67e-70c7b691f860"
   },
   "outputs": [
    {
     "name": "stdout",
     "output_type": "stream",
     "text": [
      "display_1함수가 호출되기전 입니다.\n",
      "display_1 함수가 실행됐습니다.\n",
      "display_2함수가 호출되기전 입니다.\n",
      "display_2 함수가 실행됐습니다.\n",
      "None\n"
     ]
    }
   ],
   "source": [
    "def decorator_function(original_function):\n",
    "  def wrapper_function():\n",
    "    print('{}함수가 호출되기전 입니다.'.format(original_function.__name__))\n",
    "    return original_function()\n",
    "  return wrapper_function\n",
    "\n",
    "@decorator_function #1\n",
    "def display_1():\n",
    "  print(\"display_1 함수가 실행됐습니다.\")\n",
    "\n",
    "@decorator_function #2\n",
    "def display_2():\n",
    "  print(\"display_2 함수가 실행됐습니다.\")\n",
    "\n",
    "# display_1 = decorator_function(display_1)  #3\n",
    "# display_2 = decorator_function(display_2)  #4\n",
    "\n",
    "display_1()\n",
    "print(display_2())"
   ]
  },
  {
   "cell_type": "code",
   "execution_count": 26,
   "metadata": {
    "colab": {
     "base_uri": "https://localhost:8080/",
     "height": 108
    },
    "colab_type": "code",
    "id": "7IE3IYqOpN97",
    "outputId": "6e6bf80b-c2c5-4ce7-a0a7-9eb88913c86d"
   },
   "outputs": [
    {
     "name": "stdout",
     "output_type": "stream",
     "text": [
      "display함수가 호출되기전 입니다.\n",
      "display 함수가 실행됐습니다.\n",
      "display_info함수가 호출되기전 입니다.\n",
      "display_info(John.25) 함수가 실행됐습니다.\n",
      "None\n"
     ]
    }
   ],
   "source": [
    "def decorator_function(original_function):\n",
    "  def wrapper_function(*args,**kwargs): #1 인자 추가\n",
    "    print('{}함수가 호출되기전 입니다.'.format(original_function.__name__))\n",
    "    return original_function(*args, **kwargs) #2 인자 추가\n",
    "  return wrapper_function\n",
    "\n",
    "@decorator_function\n",
    "def display():\n",
    "  print(\"display 함수가 실행됐습니다.\")\n",
    "\n",
    "@decorator_function\n",
    "def display_info(name,age):\n",
    "  print(\"display_info({}.{}) 함수가 실행됐습니다.\".format(name,age))\n",
    "\n",
    "display()\n",
    "print(display_info('John',25))"
   ]
  },
  {
   "cell_type": "code",
   "execution_count": 27,
   "metadata": {
    "colab": {
     "base_uri": "https://localhost:8080/",
     "height": 35
    },
    "colab_type": "code",
    "id": "OrwsC2rSstPT",
    "outputId": "b5b9c20e-ce9f-4c78-9838-918cc997c0ec"
   },
   "outputs": [
    {
     "name": "stdout",
     "output_type": "stream",
     "text": [
      "f took: 0.30007243156433105\n"
     ]
    }
   ],
   "source": [
    "from time import sleep, time\n",
    "from functools import wraps\n",
    "\n",
    "def measure(func):\n",
    "  @wraps(func) # wrapper 함수 사용하기\n",
    "  def wrapper(*args,**kwargs):\n",
    "    t = time()\n",
    "    func(*args, **kwargs)\n",
    "    print(func.__name__, 'took:', time() - t)\n",
    "  return wrapper\n",
    "\n",
    "@measure\n",
    "def f(sleep_time=0.1):\n",
    "  \"\"\"I'm a cat. I love to sleep! \"\"\"\n",
    "  sleep(sleep_time)\n",
    "\n",
    "f(sleep_time = 0.3)"
   ]
  },
  {
   "cell_type": "code",
   "execution_count": 28,
   "metadata": {
    "colab": {
     "base_uri": "https://localhost:8080/",
     "height": 35
    },
    "colab_type": "code",
    "id": "aPAaGuqwt25h",
    "outputId": "38259cf0-49d4-4966-bafd-55e2e0e6de84"
   },
   "outputs": [
    {
     "name": "stdout",
     "output_type": "stream",
     "text": [
      "f : I'm a cat. I love to sleep! \n"
     ]
    }
   ],
   "source": [
    "print(f.__name__, ':', f.__doc__)"
   ]
  },
  {
   "cell_type": "markdown",
   "metadata": {
    "colab_type": "text",
    "id": "5Gdqspg-vVo8"
   },
   "source": [
    "데코레이터 2개 동시에 사용하기"
   ]
  },
  {
   "cell_type": "code",
   "execution_count": 29,
   "metadata": {
    "colab": {},
    "colab_type": "code",
    "id": "svK7rhg6t6U6"
   },
   "outputs": [],
   "source": [
    "def measure(func):\n",
    "  @wraps(func)\n",
    "  def wrapper(*args,**kwargs):\n",
    "    t = time()\n",
    "    result = func(*args, **kwargs)\n",
    "    print(func.__name__, 'took:', time() - t)\n",
    "    return result\n",
    "  return wrapper\n",
    "\n",
    "def max_result(func):\n",
    "  @wraps(func)\n",
    "  def wrapper(*args, **kwargs):\n",
    "    result = func(*args, **kwargs)\n",
    "    if result > 100:\n",
    "      print('Result is too big ({0}). Max allowed is 100.'.format(result))\n",
    "    return result\n",
    "  return wrapper\n",
    "\n",
    "@measure\n",
    "@max_result\n",
    "def cube(n):\n",
    "  return n**3\n"
   ]
  },
  {
   "cell_type": "code",
   "execution_count": 30,
   "metadata": {
    "colab": {
     "base_uri": "https://localhost:8080/",
     "height": 53
    },
    "colab_type": "code",
    "id": "nD05BSO1uniD",
    "outputId": "43266f43-0bcd-420a-f033-9012e5da9726"
   },
   "outputs": [
    {
     "name": "stdout",
     "output_type": "stream",
     "text": [
      "cube took: 0.0\n",
      "8\n"
     ]
    }
   ],
   "source": [
    "print(cube(2))"
   ]
  },
  {
   "cell_type": "code",
   "execution_count": 31,
   "metadata": {
    "colab": {
     "base_uri": "https://localhost:8080/",
     "height": 72
    },
    "colab_type": "code",
    "id": "ihyVtHhOvPxf",
    "outputId": "857faf37-06fc-4905-f081-84ece0e5b26d"
   },
   "outputs": [
    {
     "name": "stdout",
     "output_type": "stream",
     "text": [
      "Result is too big (125). Max allowed is 100.\n",
      "cube took: 0.0\n",
      "125\n"
     ]
    }
   ],
   "source": [
    "print(cube(5))"
   ]
  },
  {
   "cell_type": "markdown",
   "metadata": {
    "colab_type": "text",
    "id": "JNh2rMaSwrAa"
   },
   "source": [
    "# A decorator factory"
   ]
  },
  {
   "cell_type": "code",
   "execution_count": 32,
   "metadata": {
    "colab": {
     "base_uri": "https://localhost:8080/",
     "height": 53
    },
    "colab_type": "code",
    "id": "w2tZd-51wq1T",
    "outputId": "0dc9a1a5-5ca4-4051-c36e-4e6759a165b8"
   },
   "outputs": [
    {
     "name": "stdout",
     "output_type": "stream",
     "text": [
      "Result is too big (125). Max allowed is 75\n",
      "125\n"
     ]
    }
   ],
   "source": [
    "def max_result(threashold): \n",
    "  def decorator(func):\n",
    "    @wraps(func)\n",
    "    def wrapper(*args, **kwargs):\n",
    "      result = func(*args, **kwargs)\n",
    "      if result > threashold: # 임계값을 넣어서 다이나믹하게 실행 가능\n",
    "        print(\n",
    "            'Result is too big ({0}). Max allowed is {1}'\n",
    "            .format(result,threashold))\n",
    "      return result\n",
    "    return wrapper\n",
    "  return decorator\n",
    "\n",
    "@max_result(75) # 임계값 자체를 넣어서 실행\n",
    "def cube(n):\n",
    "  return n ** 3\n",
    "print(cube(5))"
   ]
  },
  {
   "cell_type": "markdown",
   "metadata": {
    "colab_type": "text",
    "id": "28JFww0Bxcnt"
   },
   "source": [
    "# Object-oriented programming\n",
    "### class\n",
    "class는 object를 만드는데 사용된다.\n"
   ]
  },
  {
   "cell_type": "code",
   "execution_count": 33,
   "metadata": {
    "colab": {
     "base_uri": "https://localhost:8080/",
     "height": 72
    },
    "colab_type": "code",
    "id": "oi4TskpHyXLS",
    "outputId": "2c329645-8079-495a-f1b7-34a55347c30f"
   },
   "outputs": [
    {
     "name": "stdout",
     "output_type": "stream",
     "text": [
      "<class 'type'>\n",
      "<class '__main__.Simplest'>\n",
      "True\n"
     ]
    }
   ],
   "source": [
    "class Simplest():\n",
    "  pass\n",
    "\n",
    "print(type(Simplest))\n",
    "\n",
    "simp  = Simplest()\n",
    "print(type(simp))\n",
    "print(type(simp) == Simplest)"
   ]
  },
  {
   "cell_type": "markdown",
   "metadata": {
    "colab_type": "text",
    "id": "gbSE1XjB0L5U"
   },
   "source": [
    "## Class and object namespaces"
   ]
  },
  {
   "cell_type": "code",
   "execution_count": 34,
   "metadata": {
    "colab": {
     "base_uri": "https://localhost:8080/",
     "height": 127
    },
    "colab_type": "code",
    "id": "yd1-bxmTvRbQ",
    "outputId": "e661d90f-9094-46b3-f290-1b32fe0cff40"
   },
   "outputs": [
    {
     "name": "stdout",
     "output_type": "stream",
     "text": [
      "Human\n",
      "True\n",
      "Human\n",
      "True\n",
      "False\n",
      "Darth Vader\n"
     ]
    }
   ],
   "source": [
    "class Person():\n",
    "  species = 'Human'\n",
    "\n",
    "print(Person.species)\n",
    "\n",
    "Person.alive = True #다이나믹하게 추가\n",
    "print(Person.alive)\n",
    "\n",
    "man =  Person()\n",
    "print(man.species) \n",
    "print(man.alive)\n",
    "\n",
    "Person.alive = False\n",
    "print(man.alive)\n",
    "\n",
    "man.name = 'Darth' # Person의 인스턴스인 man의 특성 추가\n",
    "man.surname = 'Vader'\n",
    "print(man.name, man.surname)"
   ]
  },
  {
   "cell_type": "markdown",
   "metadata": {
    "colab_type": "text",
    "id": "dhvy_tQL1bvW"
   },
   "source": [
    "## Attribute shadowing"
   ]
  },
  {
   "cell_type": "code",
   "execution_count": 35,
   "metadata": {
    "colab": {
     "base_uri": "https://localhost:8080/",
     "height": 320
    },
    "colab_type": "code",
    "id": "O9rnwUR_0WwS",
    "outputId": "611d6579-824e-41ac-e6bd-2039ab018f15"
   },
   "outputs": [
    {
     "name": "stdout",
     "output_type": "stream",
     "text": [
      "10\n",
      "7\n",
      "12\n",
      "10\n",
      "10\n",
      "3\n"
     ]
    },
    {
     "ename": "AttributeError",
     "evalue": "type object 'Point' has no attribute 'z'",
     "output_type": "error",
     "traceback": [
      "\u001b[1;31m---------------------------------------------------------------------------\u001b[0m",
      "\u001b[1;31mAttributeError\u001b[0m                            Traceback (most recent call last)",
      "\u001b[1;32m<ipython-input-35-372ebb071952>\u001b[0m in \u001b[0;36m<module>\u001b[1;34m()\u001b[0m\n\u001b[0;32m     17\u001b[0m \u001b[0mprint\u001b[0m\u001b[1;33m(\u001b[0m\u001b[0mp\u001b[0m\u001b[1;33m.\u001b[0m\u001b[0mz\u001b[0m\u001b[1;33m)\u001b[0m\u001b[1;33m\u001b[0m\u001b[0m\n\u001b[0;32m     18\u001b[0m \u001b[1;33m\u001b[0m\u001b[0m\n\u001b[1;32m---> 19\u001b[1;33m \u001b[0mprint\u001b[0m\u001b[1;33m(\u001b[0m\u001b[0mPoint\u001b[0m\u001b[1;33m.\u001b[0m\u001b[0mz\u001b[0m\u001b[1;33m)\u001b[0m \u001b[1;31m# 인스턴스인 p에서 만들어진 것이기에 클래스인 Point엔 없다.\u001b[0m\u001b[1;33m\u001b[0m\u001b[0m\n\u001b[0m",
      "\u001b[1;31mAttributeError\u001b[0m: type object 'Point' has no attribute 'z'"
     ]
    }
   ],
   "source": [
    "class Point():\n",
    "  x = 10\n",
    "  y = 7\n",
    "\n",
    "p = Point()\n",
    "print(p.x)\n",
    "print(p.y)\n",
    "\n",
    "p.x = 12\n",
    "print(p.x)\n",
    "print(Point.x)\n",
    "\n",
    "del p.x\n",
    "print(p.x)\n",
    "\n",
    "p.z = 3\n",
    "print(p.z)\n",
    "\n",
    "print(Point.z) # 인스턴스인 p에서 만들어진 것이기에 클래스인 Point엔 없다."
   ]
  },
  {
   "cell_type": "markdown",
   "metadata": {
    "colab_type": "text",
    "id": "7_IDIKyi2rY1"
   },
   "source": [
    "## I, me, and myself – using the self variable\n"
   ]
  },
  {
   "cell_type": "code",
   "execution_count": null,
   "metadata": {
    "colab": {
     "base_uri": "https://localhost:8080/",
     "height": 72
    },
    "colab_type": "code",
    "id": "Dy33089l1bGn",
    "outputId": "5ee521e3-3d66-4340-d4b8-9af10cc699fc"
   },
   "outputs": [],
   "source": [
    "class Square():\n",
    "  side = 8\n",
    "  def area(self): # self는 인스턴스를 가리킨다\n",
    "    return self.side ** 2\n",
    "\n",
    "sq = Square()\n",
    "print(sq.area())\n",
    "print(Square.area(sq))\n",
    "\n",
    "sq.side = 10\n",
    "print(sq.area())\n"
   ]
  },
  {
   "cell_type": "code",
   "execution_count": null,
   "metadata": {
    "colab": {
     "base_uri": "https://localhost:8080/",
     "height": 53
    },
    "colab_type": "code",
    "id": "m5CDV9yn3SpH",
    "outputId": "d7a682b2-82f5-4b9b-90af-12d1bd0f1e8d"
   },
   "outputs": [],
   "source": [
    "class Price():\n",
    "  def final_price(self,vat,discount=0):\n",
    "    return(self.net_price * (100 + vat) / 100) - discount\n",
    "\n",
    "p1 = Price()\n",
    "p1.net_price = 100\n",
    "print(Price.final_price(p1,20,10))\n",
    "print(p1.final_price(20,10))"
   ]
  },
  {
   "cell_type": "markdown",
   "metadata": {
    "colab_type": "text",
    "id": "cliN3PT84vuw"
   },
   "source": [
    "## Initializing an instance\n"
   ]
  },
  {
   "cell_type": "code",
   "execution_count": 36,
   "metadata": {
    "colab": {
     "base_uri": "https://localhost:8080/",
     "height": 72
    },
    "colab_type": "code",
    "id": "aQSOw2G04viH",
    "outputId": "54e81698-fcf8-43db-d75a-cf02c5bcef42"
   },
   "outputs": [
    {
     "name": "stdout",
     "output_type": "stream",
     "text": [
      "10 4\n",
      "40\n",
      "21\n"
     ]
    }
   ],
   "source": [
    "class Rectangle():\n",
    "  def __init__(self, sideA, sideB):\n",
    "    self.sideA = sideA\n",
    "    self.sideB = sideB\n",
    "\n",
    "  def area(self):\n",
    "    return self.sideA * self.sideB\n",
    "\n",
    "r1 = Rectangle(10,4)\n",
    "print(r1.sideA, r1.sideB)\n",
    "print(r1.area())\n",
    "\n",
    "r2 = Rectangle(7,3)\n",
    "print(r2.area())"
   ]
  },
  {
   "cell_type": "markdown",
   "metadata": {
    "colab_type": "text",
    "id": "GNMGJl3y5341"
   },
   "source": [
    "## OOP is about code reuse\n",
    "\n",
    "## Inheritance and composition\n",
    "\n",
    "Inheritance : two objects are related by means of an Is-A type of relationship.\n",
    "\n",
    "composition : two object are related by means of a Has-A type of relationship.\n"
   ]
  },
  {
   "cell_type": "code",
   "execution_count": 37,
   "metadata": {
    "colab": {
     "base_uri": "https://localhost:8080/",
     "height": 90
    },
    "colab_type": "code",
    "id": "x3XRGrEW53s4",
    "outputId": "4add1e82-33a6-4983-b7a6-a2e9f56bed18"
   },
   "outputs": [
    {
     "name": "stdout",
     "output_type": "stream",
     "text": [
      "Starting engine Engine for car Car... wroom, wroom!\n",
      "Starting engine V8Engine for car RaceCar... wroom, wroom!\n",
      "Starting engine ElectricEngine for car CityCar... wroom, wroom!\n",
      "Starting engine V8Engine for car F1Car... wroom, wroom!\n"
     ]
    }
   ],
   "source": [
    "class Engine():\n",
    "  def start(self):\n",
    "    pass\n",
    "  def stop(self):\n",
    "    pass\n",
    "\n",
    "class ElectricEngine(Engine): # Is-A Engine ,상속 클래스의 괄호안에 다른(부모)클래스 넣기\n",
    " pass\n",
    "\n",
    "class V8Engine(Engine): # Is-A Engine\n",
    " pass\n",
    "\n",
    "class Car():\n",
    "  engine_cls = Engine\n",
    "  \n",
    "  def __init__(self):\n",
    "    self.engine = self.engine_cls() # Has-A engine\n",
    "\n",
    "  def start(self):\n",
    "    print(\n",
    "        'Starting engine {0} for car {1}... wroom, wroom!'\n",
    "        .format(\n",
    "            self.engine.__class__.__name__,\n",
    "            self.__class__.__name__) \n",
    "    )\n",
    "    self.engine.start()\n",
    "  \n",
    "  def stop(self):\n",
    "    self.engine.stop()\n",
    "\n",
    "class RaceCar(Car): # Is-A Car\n",
    "  engine_cls = V8Engine\n",
    "\n",
    "class CityCar(Car): # Is-A Car\n",
    "  engine_cls = ElectricEngine\n",
    "\n",
    "class F1Car(RaceCar):\n",
    "  engine_cls = V8Engine\n",
    "\n",
    "car = Car()\n",
    "racecar = RaceCar()\n",
    "citycar = CityCar()\n",
    "f1car = F1Car()\n",
    "cars = [car, racecar, citycar, f1car]\n",
    "\n",
    "for car in cars:\n",
    "  car.start()"
   ]
  },
  {
   "cell_type": "code",
   "execution_count": 38,
   "metadata": {
    "colab": {
     "base_uri": "https://localhost:8080/",
     "height": 182
    },
    "colab_type": "code",
    "id": "BCGy2ege4SxP",
    "outputId": "1176adef-0b13-40da-a635-57eb6eb5e740"
   },
   "outputs": [
    {
     "name": "stdout",
     "output_type": "stream",
     "text": [
      "car is a Car\n",
      "car is not a RaceCar\n",
      "car is not a F1Car\n",
      "racecar is a Car\n",
      "racecar is a RaceCar\n",
      "racecar is not a F1Car\n",
      "f1car is a Car\n",
      "f1car is a RaceCar\n",
      "f1car is a F1Car\n"
     ]
    }
   ],
   "source": [
    "car = Car()\n",
    "racecar = RaceCar()\n",
    "f1car = F1Car()\n",
    "cars = [(car,'car'), (racecar,'racecar'),(f1car,'f1car')]\n",
    "car_classes = [Car,RaceCar,F1Car]\n",
    "\n",
    "for car, car_name in cars:\n",
    "  for class_ in car_classes:\n",
    "    belongs = isinstance(car,class_) \n",
    "    # isinstance(인스턴스,클래스) : 인스턴스가 클래스의 인스턴스가 맞는지 \n",
    "    msg = 'is a' if belongs else 'is not a'\n",
    "    print(car_name, msg, class_.__name__)"
   ]
  },
  {
   "cell_type": "code",
   "execution_count": 39,
   "metadata": {
    "colab": {
     "base_uri": "https://localhost:8080/",
     "height": 182
    },
    "colab_type": "code",
    "id": "msH2p2YxBRme",
    "outputId": "b657d113-52d7-496c-d2dc-19dba1b2bfb6"
   },
   "outputs": [
    {
     "name": "stdout",
     "output_type": "stream",
     "text": [
      "Car is a subclass of Car\n",
      "Car is not a subclass of RaceCar\n",
      "Car is not a subclass of F1Car\n",
      "RaceCar is a subclass of Car\n",
      "RaceCar is a subclass of RaceCar\n",
      "RaceCar is not a subclass of F1Car\n",
      "F1Car is a subclass of Car\n",
      "F1Car is a subclass of RaceCar\n",
      "F1Car is a subclass of F1Car\n"
     ]
    }
   ],
   "source": [
    "for class1 in car_classes:\n",
    "  for class2 in car_classes:\n",
    "    is_subclass = issubclass(class1,class2)\n",
    "    msg = '{0} a subclass of'.format(\n",
    "        'is' if is_subclass else 'is not')\n",
    "    print(class1.__name__, msg, class2.__name__)"
   ]
  },
  {
   "cell_type": "markdown",
   "metadata": {
    "colab_type": "text",
    "id": "NDh6poJNDCgO"
   },
   "source": [
    "## Accessing a base class\n"
   ]
  },
  {
   "cell_type": "code",
   "execution_count": 40,
   "metadata": {
    "colab": {},
    "colab_type": "code",
    "id": "T4N5mtJ7DAX6"
   },
   "outputs": [],
   "source": [
    "class Book:\n",
    "  def __init__(self,title,publisher,pages):\n",
    "    self.title = title\n",
    "    self.publisher = publisher\n",
    "    self.pages = pages\n",
    "\n",
    "class Ebook(Book):\n",
    "  def __init__(self,title, publisher, pages, format_):\n",
    "    self.title = title # base class인 book 에서 가져온 녀석들\n",
    "    self.publisher = publisher # base class인 book 에서 가져온 녀석들\n",
    "    self.pages = pages # base class인 book 에서 가져온 녀석들\n",
    "    self.format_ = format_"
   ]
  },
  {
   "cell_type": "code",
   "execution_count": 41,
   "metadata": {
    "colab": {
     "base_uri": "https://localhost:8080/",
     "height": 90
    },
    "colab_type": "code",
    "id": "3Uo7PI8eDATY",
    "outputId": "98a5f55f-9e28-4cd9-fa88-37563f49693b"
   },
   "outputs": [
    {
     "name": "stdout",
     "output_type": "stream",
     "text": [
      "Learning Python\n",
      "packt Publisher\n",
      "360\n",
      "PDF\n"
     ]
    }
   ],
   "source": [
    "class Book:\n",
    "  def __init__(self,title,publisher,pages):\n",
    "    self.title = title\n",
    "    self.publisher = publisher\n",
    "    self.pages = pages\n",
    "\n",
    "class Ebook(Book):\n",
    "  def __init__(self,title, publisher, pages, format_):\n",
    "    Book.__init__(self,title,publisher,pages) \n",
    "    \"\"\"부모 클래스의 생성자를 불러와 실행\"\"\"\n",
    "    self.format_ = format_\n",
    "\n",
    "ebook = Ebook('Learning Python', 'packt Publisher', 360, 'PDF')\n",
    "print(ebook.title)\n",
    "print(ebook.publisher)\n",
    "print(ebook.pages)\n",
    "print(ebook.format_)"
   ]
  },
  {
   "cell_type": "code",
   "execution_count": 42,
   "metadata": {
    "colab": {
     "base_uri": "https://localhost:8080/",
     "height": 90
    },
    "colab_type": "code",
    "id": "gWrejL3TE5Nc",
    "outputId": "91bf2e57-391b-4c12-c7a7-e7a6ec81e391"
   },
   "outputs": [
    {
     "name": "stdout",
     "output_type": "stream",
     "text": [
      "Learning Python\n",
      "Packt Publishing\n",
      "360\n",
      "PDF\n"
     ]
    }
   ],
   "source": [
    "class Book:\n",
    "  def __init__(self,title,publisher,pages):\n",
    "    self.title = title\n",
    "    self.publisher = publisher\n",
    "    self.pages = pages\n",
    "\n",
    "class Ebook(Book):\n",
    "  def __init__(self,title, publisher, pages, format_):\n",
    "    super().__init__(title,publisher,pages)\n",
    "    # super(Ebook,self).__init__(title,publisher,pages)\n",
    "    self.format_ = format_\n",
    "\n",
    "ebook = Ebook('Learning Python', 'Packt Publishing', 360, 'PDF')\n",
    "print(ebook.title) # Learning Python\n",
    "print(ebook.publisher) # Packt Publishing\n",
    "print(ebook.pages) # 360\n",
    "print(ebook.format_) # PDF"
   ]
  },
  {
   "cell_type": "markdown",
   "metadata": {
    "colab_type": "text",
    "id": "TWqRijkxG7MX"
   },
   "source": [
    "## Multiple inheritance\n"
   ]
  },
  {
   "cell_type": "code",
   "execution_count": 43,
   "metadata": {
    "colab": {
     "base_uri": "https://localhost:8080/",
     "height": 127
    },
    "colab_type": "code",
    "id": "4i_sBH5hCchU",
    "outputId": "daa2789d-f57a-461e-eed7-e893f0251337"
   },
   "outputs": [
    {
     "name": "stdout",
     "output_type": "stream",
     "text": [
      "259.8076211353316\n",
      "RegularHexagon\n",
      "Plotting at (75, 77), ratio 0.8.\n",
      "144\n",
      "Sqaure\n",
      "Plotting at (74, 75), ratio 0.93.\n"
     ]
    }
   ],
   "source": [
    "class Shape:\n",
    "  geometric_type = 'Generic Shape'\n",
    "\n",
    "  def area(self): # This acts as placeholder for the interface\n",
    "    raise NotImplementedError\n",
    "\n",
    "  def get_geometric_type(self):\n",
    "    return self.geometric_type\n",
    "  \n",
    "class Plotter:\n",
    "\n",
    "  def plot(sef,ratio,topleft):\n",
    "    print('Plotting at {}, ratio {}.'.format(\n",
    "        topleft, ratio))\n",
    "    \n",
    "class Polygon(Shape,Plotter):\n",
    "  geomatric_type = 'Polygon'\n",
    "\n",
    "class RegularPolygon(Polygon):\n",
    "  geometric_type = 'Regular Polygon'\n",
    "\n",
    "  def __init__(self, side):\n",
    "    self.side = side\n",
    "\n",
    "class RegularHexagon(RegularPolygon):\n",
    "  geometric_type = 'RegularHexagon'\n",
    "\n",
    "  def area(self):\n",
    "    return 1.5 * (3 ** .5 * self.side ** 2)\n",
    "\n",
    "class Sqaure(RegularPolygon):\n",
    "  geometric_type = 'Sqaure'\n",
    "\n",
    "  def area(self):\n",
    "    return self.side * self.side\n",
    "\n",
    "hexagon = RegularHexagon(10)\n",
    "print(hexagon.area())\n",
    "print(hexagon.get_geometric_type())\n",
    "hexagon.plot(0.8,(75,77))\n",
    "\n",
    "sqaure = Sqaure(12)\n",
    "print(sqaure.area())\n",
    "print(sqaure.get_geometric_type())\n",
    "sqaure.plot(0.93, (74,75))"
   ]
  },
  {
   "cell_type": "markdown",
   "metadata": {
    "colab_type": "text",
    "id": "24_TcK4sd4tI"
   },
   "source": [
    "## Method resolution order\n"
   ]
  },
  {
   "cell_type": "code",
   "execution_count": 44,
   "metadata": {
    "colab": {
     "base_uri": "https://localhost:8080/",
     "height": 35
    },
    "colab_type": "code",
    "id": "N5of2s4SbbRP",
    "outputId": "a5ac8b34-45ea-4fc9-db6f-0288320f2456"
   },
   "outputs": [
    {
     "name": "stdout",
     "output_type": "stream",
     "text": [
      "[<class 'function'>, <class 'object'>]\n"
     ]
    }
   ],
   "source": [
    "print(square.__class__.mro())"
   ]
  },
  {
   "cell_type": "code",
   "execution_count": 45,
   "metadata": {
    "colab": {
     "base_uri": "https://localhost:8080/",
     "height": 35
    },
    "colab_type": "code",
    "id": "xCsc1gyofwk8",
    "outputId": "cdbb0d19-2383-44b3-e05a-5789083316d8"
   },
   "outputs": [
    {
     "name": "stdout",
     "output_type": "stream",
     "text": [
      "b\n"
     ]
    }
   ],
   "source": [
    "class A:\n",
    "  label = 'a'\n",
    "\n",
    "class B(A):\n",
    "  label = 'b'\n",
    "\n",
    "class C(A):\n",
    "  label = 'c'\n",
    "\n",
    "class D(B,C):\n",
    "  pass\n",
    "\n",
    "d = D()\n",
    "print(d.label) # 바로 위 상속에서 왼쪽에 있는 클래스의 변수 사용"
   ]
  },
  {
   "cell_type": "code",
   "execution_count": 46,
   "metadata": {
    "colab": {
     "base_uri": "https://localhost:8080/",
     "height": 73
    },
    "colab_type": "code",
    "id": "TpD_PmjvbbOK",
    "outputId": "855650f0-00eb-4008-93a6-c2d06623e4e2"
   },
   "outputs": [
    {
     "name": "stdout",
     "output_type": "stream",
     "text": [
      "c\n",
      "[<class '__main__.D'>, <class '__main__.B'>, <class '__main__.C'>, <class '__main__.A'>, <class 'object'>]\n"
     ]
    }
   ],
   "source": [
    "class A:\n",
    "  label = 'a'\n",
    "\n",
    "class B(A):\n",
    "  pass # was : label = 'b'\n",
    "\n",
    "class C(A):\n",
    "  label = 'c'\n",
    "\n",
    "class D(B,C):\n",
    "  pass\n",
    "\n",
    "d = D()\n",
    "print(d.label)\n",
    "print(d.__class__.mro())\n",
    "# print(d.__class__.__mro__)"
   ]
  },
  {
   "cell_type": "markdown",
   "metadata": {
    "colab_type": "text",
    "id": "jgpM-nTBha_N"
   },
   "source": [
    "## Static and class methods"
   ]
  },
  {
   "cell_type": "markdown",
   "metadata": {
    "colab_type": "text",
    "id": "LFpEDVpdhtoS"
   },
   "source": [
    "Static methods(정적 메소드)\n",
    "\n",
    "파이썬에서는 다른언어와는 다르게 정적메소드임에도 불구하고 인스턴스에서도 접근이 가능합니다. 이 차이에 유의해야합니다."
   ]
  },
  {
   "cell_type": "code",
   "execution_count": 47,
   "metadata": {
    "colab": {
     "base_uri": "https://localhost:8080/",
     "height": 108
    },
    "colab_type": "code",
    "id": "T6vPzVCEaXJw",
    "outputId": "aed8cc65-603e-4c07-8c9c-630356850c87"
   },
   "outputs": [
    {
     "name": "stdout",
     "output_type": "stream",
     "text": [
      "False\n",
      "True\n",
      "True\n",
      "True\n",
      "{'palindromes.', 'love', 'really', 'them!', 'I'}\n"
     ]
    }
   ],
   "source": [
    "class String:\n",
    "\n",
    "  @staticmethod\n",
    "  def is_palindrome(s, case_insensitive=True):\n",
    "    # we allow only letters and numbers\n",
    "    s = ''.join(c for c in s if c.isalnum())\n",
    "    # isalnum : 알파벳과 숫자로 이루어져 있다면 True 반환\n",
    "    if case_insensitive:\n",
    "      s = s.lower()\n",
    "    for c in range(len(s) // 2):\n",
    "      if s[c] != s[-c -1]:\n",
    "        return False\n",
    "    return True\n",
    "\n",
    "  @staticmethod\n",
    "  def get_unique_words(sentence):\n",
    "    return set(sentence.split())\n",
    "\n",
    "print(String.is_palindrome(\n",
    "    'Reader', case_insensitive=False))\n",
    "print(String.is_palindrome('A nut for a jar of tuna'))\n",
    "print(String.is_palindrome('Never Odd, or Even!'))\n",
    "print(String.is_palindrome(\n",
    "    'In Girum Imus Nocte Et Consumimur Igni'))\n",
    "\n",
    "print(String.get_unique_words(\n",
    " 'I love palindromes. I really really love them!'))"
   ]
  },
  {
   "cell_type": "markdown",
   "metadata": {
    "colab_type": "text",
    "id": "U2Be3Tpukopl"
   },
   "source": [
    "## Class methods\n"
   ]
  },
  {
   "cell_type": "code",
   "execution_count": 48,
   "metadata": {
    "colab": {
     "base_uri": "https://localhost:8080/",
     "height": 53
    },
    "colab_type": "code",
    "id": "RUVuwe_FkYPS",
    "outputId": "04e2dc45-7d86-4b39-b1c4-e234618441a8"
   },
   "outputs": [
    {
     "name": "stdout",
     "output_type": "stream",
     "text": [
      "3 7\n",
      "3 7\n"
     ]
    }
   ],
   "source": [
    "class Point:\n",
    "  def __init__(self,x,y):\n",
    "    self.x = x\n",
    "    self.y = y\n",
    "\n",
    "  @classmethod # 첫번째 인자로 클래스 입력\n",
    "  def from_tuple(cls, coords):\n",
    "    return cls(*coords)\n",
    "\n",
    "  @classmethod\n",
    "  def from_point(cls, point):\n",
    "    return cls(point.x, point.y)\n",
    "\n",
    "p = Point.from_tuple((3,7))\n",
    "print(p.x,p.y)\n",
    "q = Point.from_point(p)\n",
    "print(q.x,q.y)\n"
   ]
  },
  {
   "cell_type": "code",
   "execution_count": 49,
   "metadata": {
    "colab": {},
    "colab_type": "code",
    "id": "P3oX78ICkP8C"
   },
   "outputs": [],
   "source": [
    "class String:\n",
    "\n",
    "  @classmethod\n",
    "  def is_palindrome(cls,s,case_insensitive=True):\n",
    "    s = cls._strip_string(s)\n",
    "    if case_insensitive:\n",
    "      s = s.lower()\n",
    "    return cls._is_palindrome(s)\n",
    "\n",
    "  @staticmethod\n",
    "  def _strip_string(s):\n",
    "    return ''.join(c for c in s if c.isalnum())\n",
    "\n",
    "  @staticmethod\n",
    "  def _is_palindrome(s):\n",
    "    for c in range(len(s) // 2):\n",
    "      if s[c] != s[-c -1]:\n",
    "        return False\n",
    "    return True\n",
    "\n",
    "  @staticmethod\n",
    "  def get_unique_words(sentence):\n",
    "    return set(sentence.split())"
   ]
  },
  {
   "cell_type": "code",
   "execution_count": 50,
   "metadata": {
    "colab": {
     "base_uri": "https://localhost:8080/",
     "height": 53
    },
    "colab_type": "code",
    "id": "D0ZAKyi7oXxb",
    "outputId": "c258148c-ebdc-46d4-c8d6-d6fe6b65c106"
   },
   "outputs": [
    {
     "name": "stdout",
     "output_type": "stream",
     "text": [
      "True\n",
      "False\n"
     ]
    }
   ],
   "source": [
    "print(String.is_palindrome('A nut for a jar of tuna'))\n",
    "print(String.is_palindrome('A nut for a jar of beans'))"
   ]
  },
  {
   "cell_type": "markdown",
   "metadata": {},
   "source": [
    "## Private methods and name mangling\n",
    "\n",
    "파이썬은 __name__ : public / __name : private\n"
   ]
  },
  {
   "cell_type": "code",
   "execution_count": 12,
   "metadata": {
    "scrolled": true
   },
   "outputs": [
    {
     "name": "stdout",
     "output_type": "stream",
     "text": [
      "Op1 with factor 100...\n",
      "Op2 with factor 42...\n",
      "Op1 with factor 42...\n"
     ]
    }
   ],
   "source": [
    "class A:\n",
    "    def __init__(self,factor):\n",
    "        self._factor = factor # _factor 는 \n",
    "    def op1(self):\n",
    "        print('Op1 with factor {}...'.format(self._factor))\n",
    "        \n",
    "class B(A):\n",
    "    def op2(self,factor):\n",
    "        self._factor = factor\n",
    "        print('Op2 with factor {}...'.format(self._factor))\n",
    "        \n",
    "obj = B(100)\n",
    "obj.op1()\n",
    "obj.op2(42)\n",
    "obj.op1()"
   ]
  },
  {
   "cell_type": "code",
   "execution_count": 13,
   "metadata": {},
   "outputs": [
    {
     "name": "stdout",
     "output_type": "stream",
     "text": [
      "dict_keys(['_factor'])\n"
     ]
    }
   ],
   "source": [
    "print(obj.__dict__.keys())"
   ]
  },
  {
   "cell_type": "code",
   "execution_count": 14,
   "metadata": {},
   "outputs": [
    {
     "name": "stdout",
     "output_type": "stream",
     "text": [
      "Op1 with factor 100...\n",
      "Op2 with factor 42...\n",
      "Op1 with factor 100...\n"
     ]
    }
   ],
   "source": [
    "class A:\n",
    "    def __init__(self,factor):\n",
    "        self.__factor = factor # _factor 는 \n",
    "    def op1(self):\n",
    "        print('Op1 with factor {}...'.format(self.__factor))\n",
    "        \n",
    "class B(A):\n",
    "    def op2(self,factor):\n",
    "        self.__factor = factor\n",
    "        print('Op2 with factor {}...'.format(self.__factor))\n",
    "\n",
    "obj = B(100)\n",
    "obj.op1()\n",
    "obj.op2(42)\n",
    "obj.op1()"
   ]
  },
  {
   "cell_type": "code",
   "execution_count": 15,
   "metadata": {},
   "outputs": [
    {
     "name": "stdout",
     "output_type": "stream",
     "text": [
      "dict_keys(['_A__factor', '_B__factor'])\n"
     ]
    }
   ],
   "source": [
    "print(obj.__dict__.keys()) # __ 를 사용해서 분리함"
   ]
  },
  {
   "cell_type": "code",
   "execution_count": 22,
   "metadata": {},
   "outputs": [],
   "source": [
    "class Person:\n",
    "    def __init__(self, age):\n",
    "        self.age = age # anyone can modify this freely\n",
    "\n",
    "class PersonWithAccessors:\n",
    "    def __init__(self,age):\n",
    "        self._age = age\n",
    "    def get_age(self):\n",
    "        return self._age\n",
    "    \n",
    "    def set_age(self):\n",
    "        if 18 <= age <= 99:\n",
    "            self._age = age\n",
    "        else:\n",
    "            raise ValueError(('Age must be within [18, 99'))"
   ]
  },
  {
   "cell_type": "code",
   "execution_count": 26,
   "metadata": {},
   "outputs": [],
   "source": [
    "class PersonPythonic:\n",
    "    def __init__(self, age):\n",
    "        self._age = age\n",
    "    \n",
    "    @property # get 역할 \n",
    "    def age(self):\n",
    "        return self._age\n",
    "                             \n",
    "    @age.setter # set 역할\n",
    "    def age(self,age):\n",
    "        if 18 <= age <= 99:\n",
    "            self._age = age\n",
    "        else:\n",
    "            raise ValueError('Age must be within [18, 99]')\n",
    "\n",
    "person = PersonPythonic(39)"
   ]
  },
  {
   "cell_type": "code",
   "execution_count": 27,
   "metadata": {},
   "outputs": [
    {
     "name": "stdout",
     "output_type": "stream",
     "text": [
      "39\n",
      "42\n"
     ]
    },
    {
     "ename": "ValueError",
     "evalue": "Age must be within [18, 99]",
     "output_type": "error",
     "traceback": [
      "\u001b[1;31m---------------------------------------------------------------------------\u001b[0m",
      "\u001b[1;31mValueError\u001b[0m                                Traceback (most recent call last)",
      "\u001b[1;32m<ipython-input-27-eee109f3910c>\u001b[0m in \u001b[0;36m<module>\u001b[1;34m()\u001b[0m\n\u001b[0;32m      2\u001b[0m \u001b[0mperson\u001b[0m\u001b[1;33m.\u001b[0m\u001b[0mage\u001b[0m \u001b[1;33m=\u001b[0m \u001b[1;36m42\u001b[0m\u001b[1;33m\u001b[0m\u001b[0m\n\u001b[0;32m      3\u001b[0m \u001b[0mprint\u001b[0m\u001b[1;33m(\u001b[0m\u001b[0mperson\u001b[0m\u001b[1;33m.\u001b[0m\u001b[0mage\u001b[0m\u001b[1;33m)\u001b[0m\u001b[1;33m\u001b[0m\u001b[0m\n\u001b[1;32m----> 4\u001b[1;33m \u001b[0mperson\u001b[0m\u001b[1;33m.\u001b[0m\u001b[0mage\u001b[0m\u001b[1;33m=\u001b[0m\u001b[1;36m100\u001b[0m\u001b[1;33m\u001b[0m\u001b[0m\n\u001b[0m",
      "\u001b[1;32m<ipython-input-26-d36e24bc1fd3>\u001b[0m in \u001b[0;36mage\u001b[1;34m(self, age)\u001b[0m\n\u001b[0;32m     12\u001b[0m             \u001b[0mself\u001b[0m\u001b[1;33m.\u001b[0m\u001b[0m_age\u001b[0m \u001b[1;33m=\u001b[0m \u001b[0mage\u001b[0m\u001b[1;33m\u001b[0m\u001b[0m\n\u001b[0;32m     13\u001b[0m         \u001b[1;32melse\u001b[0m\u001b[1;33m:\u001b[0m\u001b[1;33m\u001b[0m\u001b[0m\n\u001b[1;32m---> 14\u001b[1;33m             \u001b[1;32mraise\u001b[0m \u001b[0mValueError\u001b[0m\u001b[1;33m(\u001b[0m\u001b[1;34m'Age must be within [18, 99]'\u001b[0m\u001b[1;33m)\u001b[0m\u001b[1;33m\u001b[0m\u001b[0m\n\u001b[0m\u001b[0;32m     15\u001b[0m \u001b[1;33m\u001b[0m\u001b[0m\n\u001b[0;32m     16\u001b[0m \u001b[0mperson\u001b[0m \u001b[1;33m=\u001b[0m \u001b[0mPersonPythonic\u001b[0m\u001b[1;33m(\u001b[0m\u001b[1;36m39\u001b[0m\u001b[1;33m)\u001b[0m\u001b[1;33m\u001b[0m\u001b[0m\n",
      "\u001b[1;31mValueError\u001b[0m: Age must be within [18, 99]"
     ]
    }
   ],
   "source": [
    "print(person.age)\n",
    "person.age = 42\n",
    "print(person.age)\n",
    "person.age=100"
   ]
  },
  {
   "cell_type": "markdown",
   "metadata": {},
   "source": [
    "## Operator overloading\n"
   ]
  },
  {
   "cell_type": "code",
   "execution_count": 28,
   "metadata": {},
   "outputs": [
    {
     "name": "stdout",
     "output_type": "stream",
     "text": [
      "24\n",
      "False\n",
      "25\n",
      "True\n"
     ]
    }
   ],
   "source": [
    "class Weird:\n",
    "    def __init__(self,s):\n",
    "        self._s = s\n",
    "        \n",
    "    def __len__(self):\n",
    "        return len(self._s)\n",
    "    \n",
    "    def __bool__(self):\n",
    "        return '42' in self._s\n",
    "    \n",
    "weird = Weird('Hello! I am 9 years old!')\n",
    "print(len(weird))\n",
    "print(bool(weird))\n",
    "\n",
    "weird2 = Weird('Hello! I am 42 years old!')\n",
    "print(len(weird2))\n",
    "print(bool(weird2))"
   ]
  },
  {
   "cell_type": "markdown",
   "metadata": {},
   "source": [
    "Polymorphism – a brief overview\n"
   ]
  },
  {
   "cell_type": "markdown",
   "metadata": {},
   "source": [
    "Writing a custom iterator\n",
    "\n",
    "• Iterable: An object is said to be iterable if it's capable of returning its\n",
    "members one at a time. Lists, tuples, strings, dicts, are all iterables. Custom\n",
    "objects that define either of __iter__ or __getitem__ methods are also\n",
    "iterables.\n",
    "\n",
    "\n",
    "Iterator: An object is said to be an iterator if it represents a stream of data. A\n",
    "custom iterator is required to provide an implementation for __iter__ that\n",
    "returns the object itself, and an implementation for __next__, which returns\n",
    "the next item of the data stream until the stream is exhausted, at which point\n",
    "all successive calls to __next__ simply raise the StopIteration exception.\n",
    "Built-in functions such as iter and next are mapped to call __iter__ and\n",
    "__next__ on an object, behind the scenes."
   ]
  },
  {
   "cell_type": "code",
   "execution_count": 44,
   "metadata": {},
   "outputs": [
    {
     "ename": "TypeError",
     "evalue": "'OddEven' object is not iterable",
     "output_type": "error",
     "traceback": [
      "\u001b[1;31m---------------------------------------------------------------------------\u001b[0m",
      "\u001b[1;31mTypeError\u001b[0m                                 Traceback (most recent call last)",
      "\u001b[1;32m<ipython-input-44-3c001a2ffcdb>\u001b[0m in \u001b[0;36m<module>\u001b[1;34m()\u001b[0m\n\u001b[0;32m     16\u001b[0m \u001b[0moddeven\u001b[0m \u001b[1;33m=\u001b[0m \u001b[0mOddEven\u001b[0m\u001b[1;33m(\u001b[0m\u001b[1;34m'ThIsIsCoOl!'\u001b[0m\u001b[1;33m)\u001b[0m\u001b[1;33m\u001b[0m\u001b[0m\n\u001b[0;32m     17\u001b[0m \u001b[1;33m\u001b[0m\u001b[0m\n\u001b[1;32m---> 18\u001b[1;33m \u001b[0mprint\u001b[0m\u001b[1;33m(\u001b[0m\u001b[1;34m''\u001b[0m\u001b[1;33m.\u001b[0m\u001b[0mjoin\u001b[0m\u001b[1;33m(\u001b[0m\u001b[0mc\u001b[0m \u001b[1;32mfor\u001b[0m \u001b[0mc\u001b[0m \u001b[1;32min\u001b[0m \u001b[0moddeven\u001b[0m\u001b[1;33m)\u001b[0m\u001b[1;33m)\u001b[0m\u001b[1;33m\u001b[0m\u001b[0m\n\u001b[0m\u001b[0;32m     19\u001b[0m \u001b[1;33m\u001b[0m\u001b[0m\n\u001b[0;32m     20\u001b[0m \u001b[0moddeven\u001b[0m \u001b[1;33m=\u001b[0m \u001b[0mOddEven\u001b[0m\u001b[1;33m(\u001b[0m\u001b[1;34m'HoLa'\u001b[0m\u001b[1;33m)\u001b[0m\u001b[1;33m\u001b[0m\u001b[0m\n",
      "\u001b[1;31mTypeError\u001b[0m: 'OddEven' object is not iterable"
     ]
    }
   ],
   "source": [
    "class OddEven:\n",
    "    \n",
    "    def __init__(self, data):\n",
    "        self._data = data\n",
    "        self.indexes = (list(range(0, len(data), 2)) +\n",
    "            list(range(1, len(data), 2)))\n",
    "        \n",
    "        def __iter__(self):\n",
    "            return self\n",
    "        \n",
    "        def __next__(self):\n",
    "            if self.indexes:\n",
    "                return self._data[self.indexes.pop(0)]\n",
    "            raise StopIteration # index가 비었을때\n",
    "\n",
    "oddeven = OddEven('ThIsIsCoOl!')\n",
    "\n",
    "print(''.join(c for c in oddeven))\n",
    "\n",
    "oddeven = OddEven('HoLa') \n",
    "it = iter(oddeven)\n",
    "print(next(it))\n",
    "print(next(it))\n",
    "print(next(it))\n",
    "print(next(it))"
   ]
  },
  {
   "cell_type": "code",
   "execution_count": null,
   "metadata": {},
   "outputs": [],
   "source": []
  }
 ],
 "metadata": {
  "colab": {
   "name": "Chapter06_OOP, Decorators, and Iterators.ipynb",
   "provenance": []
  },
  "kernelspec": {
   "display_name": "Python 3",
   "language": "python",
   "name": "python3"
  },
  "language_info": {
   "codemirror_mode": {
    "name": "ipython",
    "version": 3
   },
   "file_extension": ".py",
   "mimetype": "text/x-python",
   "name": "python",
   "nbconvert_exporter": "python",
   "pygments_lexer": "ipython3",
   "version": "3.6.5"
  }
 },
 "nbformat": 4,
 "nbformat_minor": 1
}
