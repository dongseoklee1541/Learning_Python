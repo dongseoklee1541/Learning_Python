{
  "nbformat": 4,
  "nbformat_minor": 0,
  "metadata": {
    "colab": {
      "name": "Untitled2.ipynb",
      "provenance": [],
      "collapsed_sections": []
    },
    "kernelspec": {
      "name": "python3",
      "display_name": "Python 3"
    }
  },
  "cells": [
    {
      "cell_type": "code",
      "metadata": {
        "id": "EgjqTRk1b5VJ",
        "colab_type": "code",
        "outputId": "7fd0f816-881f-4c06-a430-8746c42e85ce",
        "colab": {
          "base_uri": "https://localhost:8080/",
          "height": 111
        }
      },
      "source": [
        "def debug(*msg, print_separator=True):\n",
        "  print(*msg)\n",
        "  if print_separator:\n",
        "    print('-' * 40)\n",
        "\n",
        "debug('Data is ...')\n",
        "debug('Different', 'Strings', 'Are not a problem')\n",
        "debug('After while loop', print_separator=False)"
      ],
      "execution_count": 0,
      "outputs": [
        {
          "output_type": "stream",
          "text": [
            "Data is ...\n",
            "----------------------------------------\n",
            "Different Strings Are not a problem\n",
            "----------------------------------------\n",
            "After while loop\n"
          ],
          "name": "stdout"
        }
      ]
    },
    {
      "cell_type": "code",
      "metadata": {
        "id": "g8A35S5RcHGo",
        "colab_type": "code",
        "outputId": "3288a995-0339-4906-da65-5cda054b6c06",
        "colab": {
          "base_uri": "https://localhost:8080/",
          "height": 111
        }
      },
      "source": [
        "from time import sleep\n",
        "\n",
        "def debug(*msg, timestamp=[None]):\n",
        "  print(*msg)\n",
        "  from time import time # local import\n",
        "  if timestamp[0] is None:\n",
        "    timestamp[0] = time()\n",
        "  else:\n",
        "    now = time()\n",
        "    print(' Time elapsed: {:.3f}s'.format(\n",
        "        now - timestamp[0]))\n",
        "    timestamp[0] = now\n",
        "\n",
        "debug('Entering nasty piece of code...')\n",
        "sleep(.3)\n",
        "debug('First step done.')\n",
        "sleep(.5)\n",
        "debug('Second step done.')"
      ],
      "execution_count": 0,
      "outputs": [
        {
          "output_type": "stream",
          "text": [
            "Entering nasty piece of code...\n",
            "First step done.\n",
            " Time elapsed: 0.301s\n",
            "Second step done.\n",
            " Time elapsed: 0.501s\n"
          ],
          "name": "stdout"
        }
      ]
    },
    {
      "cell_type": "code",
      "metadata": {
        "id": "04ijQfCehK2K",
        "colab_type": "code",
        "outputId": "f746888c-0685-41d0-d71e-99bd9c237fdb",
        "colab": {
          "base_uri": "https://localhost:8080/",
          "height": 213
        }
      },
      "source": [
        "d = {'some': 'key'}\n",
        "key = 'some-other'\n",
        "print(d[key])"
      ],
      "execution_count": 0,
      "outputs": [
        {
          "output_type": "error",
          "ename": "KeyError",
          "evalue": "ignored",
          "traceback": [
            "\u001b[0;31m---------------------------------------------------------------------------\u001b[0m",
            "\u001b[0;31mKeyError\u001b[0m                                  Traceback (most recent call last)",
            "\u001b[0;32m<ipython-input-3-2538fe76e1ca>\u001b[0m in \u001b[0;36m<module>\u001b[0;34m()\u001b[0m\n\u001b[1;32m      1\u001b[0m \u001b[0md\u001b[0m \u001b[0;34m=\u001b[0m \u001b[0;34m{\u001b[0m\u001b[0;34m'some'\u001b[0m\u001b[0;34m:\u001b[0m \u001b[0;34m'key'\u001b[0m\u001b[0;34m}\u001b[0m\u001b[0;34m\u001b[0m\u001b[0;34m\u001b[0m\u001b[0m\n\u001b[1;32m      2\u001b[0m \u001b[0mkey\u001b[0m \u001b[0;34m=\u001b[0m \u001b[0;34m'some-other'\u001b[0m\u001b[0;34m\u001b[0m\u001b[0;34m\u001b[0m\u001b[0m\n\u001b[0;32m----> 3\u001b[0;31m \u001b[0mprint\u001b[0m\u001b[0;34m(\u001b[0m\u001b[0md\u001b[0m\u001b[0;34m[\u001b[0m\u001b[0mkey\u001b[0m\u001b[0;34m]\u001b[0m\u001b[0;34m)\u001b[0m\u001b[0;34m\u001b[0m\u001b[0;34m\u001b[0m\u001b[0m\n\u001b[0m",
            "\u001b[0;31mKeyError\u001b[0m: 'some-other'"
          ]
        }
      ]
    },
    {
      "cell_type": "code",
      "metadata": {
        "id": "G3vMXWfbn5hs",
        "colab_type": "code",
        "outputId": "4aea8a57-f87b-4334-ed72-0eb568d80e06",
        "colab": {
          "base_uri": "https://localhost:8080/",
          "height": 139
        }
      },
      "source": [
        "class ValidatorError(Exception):\n",
        "\n",
        "d = {'some':'key'}\n",
        "mandatory_key = 'some-other'\n",
        "try:\n",
        "  print(d[mandatory_key])\n",
        "except KeyError:\n",
        "  raise ValidatorError(\n",
        "      '`{}` not found in d.'.format(mandatory_key)\n",
        "  )\n"
      ],
      "execution_count": 0,
      "outputs": [
        {
          "output_type": "error",
          "ename": "IndentationError",
          "evalue": "ignored",
          "traceback": [
            "\u001b[0;36m  File \u001b[0;32m\"<ipython-input-7-8061e7e8591a>\"\u001b[0;36m, line \u001b[0;32m3\u001b[0m\n\u001b[0;31m    d = {'some':'key'}\u001b[0m\n\u001b[0m    ^\u001b[0m\n\u001b[0;31mIndentationError\u001b[0m\u001b[0;31m:\u001b[0m expected an indented block\n"
          ]
        }
      ]
    },
    {
      "cell_type": "code",
      "metadata": {
        "id": "sc9ws3a0nIoE",
        "colab_type": "code",
        "outputId": "d4653f22-a12a-4177-cbbe-8c399d322a17",
        "colab": {
          "base_uri": "https://localhost:8080/",
          "height": 288
        }
      },
      "source": [
        "d = {'first': 'v1', 'second': 'v2', 'fourth': 'v4'}\n",
        "keys = ('first', 'second', 'third', 'fourth')\n",
        "\n",
        "def do_something_with_value(value):\n",
        "  print(value)\n",
        "\n",
        "for key in keys:\n",
        "  do_something_with_value(d[key])\n",
        "\n",
        "print('Validation done.')\n",
        "\n"
      ],
      "execution_count": 0,
      "outputs": [
        {
          "output_type": "stream",
          "text": [
            "v1\n",
            "v2\n"
          ],
          "name": "stdout"
        },
        {
          "output_type": "error",
          "ename": "KeyError",
          "evalue": "ignored",
          "traceback": [
            "\u001b[0;31m---------------------------------------------------------------------------\u001b[0m",
            "\u001b[0;31mKeyError\u001b[0m                                  Traceback (most recent call last)",
            "\u001b[0;32m<ipython-input-8-fff130f5b57a>\u001b[0m in \u001b[0;36m<module>\u001b[0;34m()\u001b[0m\n\u001b[1;32m      6\u001b[0m \u001b[0;34m\u001b[0m\u001b[0m\n\u001b[1;32m      7\u001b[0m \u001b[0;32mfor\u001b[0m \u001b[0mkey\u001b[0m \u001b[0;32min\u001b[0m \u001b[0mkeys\u001b[0m\u001b[0;34m:\u001b[0m\u001b[0;34m\u001b[0m\u001b[0;34m\u001b[0m\u001b[0m\n\u001b[0;32m----> 8\u001b[0;31m   \u001b[0mdo_something_with_value\u001b[0m\u001b[0;34m(\u001b[0m\u001b[0md\u001b[0m\u001b[0;34m[\u001b[0m\u001b[0mkey\u001b[0m\u001b[0;34m]\u001b[0m\u001b[0;34m)\u001b[0m\u001b[0;34m\u001b[0m\u001b[0;34m\u001b[0m\u001b[0m\n\u001b[0m\u001b[1;32m      9\u001b[0m \u001b[0;34m\u001b[0m\u001b[0m\n\u001b[1;32m     10\u001b[0m \u001b[0mprint\u001b[0m\u001b[0;34m(\u001b[0m\u001b[0;34m'Validation done.'\u001b[0m\u001b[0;34m)\u001b[0m\u001b[0;34m\u001b[0m\u001b[0;34m\u001b[0m\u001b[0m\n",
            "\u001b[0;31mKeyError\u001b[0m: 'third'"
          ]
        }
      ]
    },
    {
      "cell_type": "code",
      "metadata": {
        "id": "Y4jMbcbXufoq",
        "colab_type": "code",
        "colab": {}
      },
      "source": [
        "d = {'first': 'v1', 'second': 'v2', 'fourth': 'v4'}\n",
        "keys = ('first', 'second', 'third', 'fourth')\n",
        "\n",
        "def do_something_with_value(value):\n",
        "  print(value)\n",
        "\n",
        "import ipdb\n",
        "ipdb.set_trace()\n",
        "\n",
        "for key in keys:\n",
        "  do_something_with_value(d[key])\n",
        "\n",
        "print('Validation done.')"
      ],
      "execution_count": 0,
      "outputs": []
    },
    {
      "cell_type": "code",
      "metadata": {
        "id": "JprpURpNwi0v",
        "colab_type": "code",
        "colab": {}
      },
      "source": [
        "import logging\n",
        "\n",
        "logging.basicConfig(\n",
        "    filename = 'ch11.log',\n",
        "    level = logging.DEBUG,\n",
        "    format='[%(asctime)s] %(levelname)s:%(message)s',\n",
        "    datefmt='%m/%d/%Y %I:%M:%S %p')\n",
        ")\n",
        "mylist = [1, 2, 3]\n",
        "logging.info('Starting to process `mylist`...')\n",
        "\n",
        "for position in range(4):\n",
        "  try:\n",
        "    logging.debug('Value at position {} is {}'.format(\n",
        "        position, mylist[position]))\n",
        "  except IndexError:\n",
        "    logging.exceptionn('Faulty position: {}'.format(position))\n",
        "\n",
        "logging.info('Done parsing `mylist`.')\n"
      ],
      "execution_count": 0,
      "outputs": []
    },
    {
      "cell_type": "code",
      "metadata": {
        "id": "tdJZK9KxzmZd",
        "colab_type": "code",
        "colab": {}
      },
      "source": [
        "mylist = [1,2,3]\n",
        "assert 4 = len(mylist)\n",
        "for position in range(4):\n",
        "  print(mylist[position])"
      ],
      "execution_count": 0,
      "outputs": []
    },
    {
      "cell_type": "markdown",
      "metadata": {
        "id": "5kez_HzOzmKM",
        "colab_type": "text"
      },
      "source": [
        ""
      ]
    }
  ]
}